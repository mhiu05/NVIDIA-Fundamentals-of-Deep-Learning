{
 "cells": [
  {
   "cell_type": "markdown",
   "metadata": {
    "id": "RDQqqfRXTjyJ"
   },
   "source": [
    "<center><a href=\"https://www.nvidia.com/dli\"> <img src=\"images/DLI_Header.png\" alt=\"Header\" style=\"width: 400px;\"/> </a></center>"
   ]
  },
  {
   "cell_type": "markdown",
   "metadata": {
    "id": "Oq7vdepBTjyK"
   },
   "source": [
    "# 2. Image Classification of an American Sign Language Dataset"
   ]
  },
  {
   "cell_type": "markdown",
   "metadata": {
    "id": "2nP3rWXBTjyK"
   },
   "source": [
    "In this section, we will perform the data preparation, model creation, and model training steps we observed in the last section using a different dataset: images of hands making letters in [American Sign Language](http://www.asl.gs/)."
   ]
  },
  {
   "cell_type": "markdown",
   "metadata": {
    "id": "Cs1ioXE2TjyK"
   },
   "source": [
    "## 2.1 Objectives"
   ]
  },
  {
   "cell_type": "markdown",
   "metadata": {
    "id": "WzY0p5NZTjyK"
   },
   "source": [
    "* Prepare image data for training\n",
    "* Create and compile a simple model for image classification\n",
    "* Train an image classification model and observe the results"
   ]
  },
  {
   "cell_type": "code",
   "metadata": {
    "colab": {
     "base_uri": "https://localhost:8080/"
    },
    "executionInfo": {
     "elapsed": 849,
     "status": "ok",
     "timestamp": 1715066695195,
     "user": {
      "displayName": "Danielle Detering US",
      "userId": "15432464718872067879"
     },
     "user_tz": 420
    },
    "id": "Ev0pS0GdTjyM",
    "outputId": "63e4a89f-c58b-4401-e6a5-4350b5df7714",
    "ExecuteTime": {
     "end_time": "2025-08-08T18:31:33.678854Z",
     "start_time": "2025-08-08T18:31:33.405617Z"
    }
   },
   "source": [
    "import torch.nn as nn\n",
    "import pandas as pd\n",
    "import torch\n",
    "from torch.optim import Adam\n",
    "from torch.utils.data import Dataset, DataLoader\n",
    "\n",
    "device = torch.device(\"cuda\" if torch.cuda.is_available() else \"cpu\")\n",
    "torch.cuda.is_available()"
   ],
   "outputs": [
    {
     "data": {
      "text/plain": [
       "False"
      ]
     },
     "execution_count": 2,
     "metadata": {},
     "output_type": "execute_result"
    }
   ],
   "execution_count": 2
  },
  {
   "cell_type": "markdown",
   "metadata": {
    "id": "mhGii0pzTjyL"
   },
   "source": [
    "## 2.2 American Sign Language Dataset"
   ]
  },
  {
   "cell_type": "markdown",
   "metadata": {
    "id": "x3IH42b2TjyL"
   },
   "source": [
    "The [American Sign Language alphabet](http://www.asl.gs/) contains 26 letters. Two of those letters (j and z) require movement, so they are not included in the training dataset.  "
   ]
  },
  {
   "cell_type": "markdown",
   "metadata": {
    "id": "Xtnc5S_lTjyL"
   },
   "source": [
    "<img src=\"./images/asl.png\" style=\"width: 600px;\">"
   ]
  },
  {
   "cell_type": "markdown",
   "metadata": {
    "id": "ihN8_4hfTjyL"
   },
   "source": [
    "### 2.2.1 Kaggle"
   ]
  },
  {
   "cell_type": "markdown",
   "metadata": {
    "id": "winTCTjiTjyL"
   },
   "source": [
    "This dataset is available from the website [Kaggle](http://www.kaggle.com), which is a fantastic place to find datasets and other deep learning resources. In addition to providing resources like datasets and \"kernels\" that are like these notebooks, Kaggle hosts competitions that you can take part in, competing with others in training highly accurate models.\n",
    "\n",
    "If you're looking to practice or see examples of many deep learning projects, Kaggle is a great site to visit."
   ]
  },
  {
   "cell_type": "markdown",
   "metadata": {
    "id": "xzRiOTvsTjyL"
   },
   "source": [
    "## 2.3 Loading the Data"
   ]
  },
  {
   "cell_type": "markdown",
   "metadata": {
    "id": "7OouJPWVTjyL"
   },
   "source": [
    "This dataset is not available via TorchVision in the same way that MNIST is, so let's learn how to load custom data. By the end of this section we will have `x_train`, `y_train`, `x_valid`, and `y_valid` variables."
   ]
  },
  {
   "cell_type": "markdown",
   "metadata": {
    "id": "rpKiBdCsTjyL"
   },
   "source": [
    "### 2.3.1 Reading in the Data"
   ]
  },
  {
   "cell_type": "markdown",
   "metadata": {
    "id": "mRBOfwA9TjyM"
   },
   "source": [
    "The sign language dataset is in [CSV](https://en.wikipedia.org/wiki/Comma-separated_values) (Comma Separated Values) format, the same data structure behind Microsoft Excel and Google Sheets. It is a grid of rows and columns with labels at the top, as seen in the [train](data/asl_data/sign_mnist_train.csv) and [valid](data/asl_data/sign_mnist_valid.csv) datasets (they may take a moment to load).\n",
    "\n",
    "To load and work with the data, we'll be using a library called [Pandas](https://pandas.pydata.org/), which is a highly performant tool for loading and manipulating data. We'll read the CSV files into a format called a [DataFrame](https://pandas.pydata.org/pandas-docs/stable/reference/api/pandas.DataFrame.html)."
   ]
  },
  {
   "cell_type": "markdown",
   "metadata": {
    "id": "bbhLk9sVTjyM"
   },
   "source": [
    "Pandas has a [read_csv](https://pandas.pydata.org/pandas-docs/stable/reference/api/pandas.read_csv.html) method that expects a csv file, and returns a DataFrame:"
   ]
  },
  {
   "cell_type": "code",
   "metadata": {
    "id": "JeIOe1X4TjyM",
    "ExecuteTime": {
     "end_time": "2025-08-08T18:31:36.256491Z",
     "start_time": "2025-08-08T18:31:33.701741Z"
    }
   },
   "source": [
    "train_df = pd.read_csv(\"data/asl_data/sign_mnist_train.csv\")\n",
    "valid_df = pd.read_csv(\"data/asl_data/sign_mnist_valid.csv\")"
   ],
   "outputs": [],
   "execution_count": 3
  },
  {
   "cell_type": "markdown",
   "metadata": {
    "id": "BuiUoPWzTjyM"
   },
   "source": [
    "### 2.3.2 Exploring the Data"
   ]
  },
  {
   "cell_type": "markdown",
   "metadata": {
    "id": "GbirW1rxTjyM"
   },
   "source": [
    "Let's take a look at our data. We can use the [head](https://pandas.pydata.org/pandas-docs/stable/reference/api/pandas.DataFrame.head.html) method to print the first few rows of the DataFrame. Each row is an image which has a `label` column, and also, 784 values representing each pixel value in the image, just like with the MNIST dataset. Note that the labels currently are numerical values, not letters of the alphabet:"
   ]
  },
  {
   "cell_type": "code",
   "metadata": {
    "colab": {
     "base_uri": "https://localhost:8080/",
     "height": 255
    },
    "executionInfo": {
     "elapsed": 8,
     "status": "ok",
     "timestamp": 1715064545381,
     "user": {
      "displayName": "Danielle Detering US",
      "userId": "15432464718872067879"
     },
     "user_tz": 420
    },
    "id": "_jEITmvETjyM",
    "outputId": "5444b9eb-1948-4140-95c4-91649677766b",
    "ExecuteTime": {
     "end_time": "2025-08-08T18:31:36.290315Z",
     "start_time": "2025-08-08T18:31:36.276873Z"
    }
   },
   "source": [
    "train_df.head()"
   ],
   "outputs": [
    {
     "data": {
      "text/plain": [
       "   label  pixel1  pixel2  pixel3  pixel4  pixel5  pixel6  pixel7  pixel8  \\\n",
       "0      3     107     118     127     134     139     143     146     150   \n",
       "1      6     155     157     156     156     156     157     156     158   \n",
       "2      2     187     188     188     187     187     186     187     188   \n",
       "3      2     211     211     212     212     211     210     211     210   \n",
       "4     12     164     167     170     172     176     179     180     184   \n",
       "\n",
       "   pixel9  ...  pixel775  pixel776  pixel777  pixel778  pixel779  pixel780  \\\n",
       "0     153  ...       207       207       207       207       206       206   \n",
       "1     158  ...        69       149       128        87        94       163   \n",
       "2     187  ...       202       201       200       199       198       199   \n",
       "3     210  ...       235       234       233       231       230       226   \n",
       "4     185  ...        92       105       105       108       133       163   \n",
       "\n",
       "   pixel781  pixel782  pixel783  pixel784  \n",
       "0       206       204       203       202  \n",
       "1       175       103       135       149  \n",
       "2       198       195       194       195  \n",
       "3       225       222       229       163  \n",
       "4       157       163       164       179  \n",
       "\n",
       "[5 rows x 785 columns]"
      ],
      "text/html": [
       "<div>\n",
       "<style scoped>\n",
       "    .dataframe tbody tr th:only-of-type {\n",
       "        vertical-align: middle;\n",
       "    }\n",
       "\n",
       "    .dataframe tbody tr th {\n",
       "        vertical-align: top;\n",
       "    }\n",
       "\n",
       "    .dataframe thead th {\n",
       "        text-align: right;\n",
       "    }\n",
       "</style>\n",
       "<table border=\"1\" class=\"dataframe\">\n",
       "  <thead>\n",
       "    <tr style=\"text-align: right;\">\n",
       "      <th></th>\n",
       "      <th>label</th>\n",
       "      <th>pixel1</th>\n",
       "      <th>pixel2</th>\n",
       "      <th>pixel3</th>\n",
       "      <th>pixel4</th>\n",
       "      <th>pixel5</th>\n",
       "      <th>pixel6</th>\n",
       "      <th>pixel7</th>\n",
       "      <th>pixel8</th>\n",
       "      <th>pixel9</th>\n",
       "      <th>...</th>\n",
       "      <th>pixel775</th>\n",
       "      <th>pixel776</th>\n",
       "      <th>pixel777</th>\n",
       "      <th>pixel778</th>\n",
       "      <th>pixel779</th>\n",
       "      <th>pixel780</th>\n",
       "      <th>pixel781</th>\n",
       "      <th>pixel782</th>\n",
       "      <th>pixel783</th>\n",
       "      <th>pixel784</th>\n",
       "    </tr>\n",
       "  </thead>\n",
       "  <tbody>\n",
       "    <tr>\n",
       "      <th>0</th>\n",
       "      <td>3</td>\n",
       "      <td>107</td>\n",
       "      <td>118</td>\n",
       "      <td>127</td>\n",
       "      <td>134</td>\n",
       "      <td>139</td>\n",
       "      <td>143</td>\n",
       "      <td>146</td>\n",
       "      <td>150</td>\n",
       "      <td>153</td>\n",
       "      <td>...</td>\n",
       "      <td>207</td>\n",
       "      <td>207</td>\n",
       "      <td>207</td>\n",
       "      <td>207</td>\n",
       "      <td>206</td>\n",
       "      <td>206</td>\n",
       "      <td>206</td>\n",
       "      <td>204</td>\n",
       "      <td>203</td>\n",
       "      <td>202</td>\n",
       "    </tr>\n",
       "    <tr>\n",
       "      <th>1</th>\n",
       "      <td>6</td>\n",
       "      <td>155</td>\n",
       "      <td>157</td>\n",
       "      <td>156</td>\n",
       "      <td>156</td>\n",
       "      <td>156</td>\n",
       "      <td>157</td>\n",
       "      <td>156</td>\n",
       "      <td>158</td>\n",
       "      <td>158</td>\n",
       "      <td>...</td>\n",
       "      <td>69</td>\n",
       "      <td>149</td>\n",
       "      <td>128</td>\n",
       "      <td>87</td>\n",
       "      <td>94</td>\n",
       "      <td>163</td>\n",
       "      <td>175</td>\n",
       "      <td>103</td>\n",
       "      <td>135</td>\n",
       "      <td>149</td>\n",
       "    </tr>\n",
       "    <tr>\n",
       "      <th>2</th>\n",
       "      <td>2</td>\n",
       "      <td>187</td>\n",
       "      <td>188</td>\n",
       "      <td>188</td>\n",
       "      <td>187</td>\n",
       "      <td>187</td>\n",
       "      <td>186</td>\n",
       "      <td>187</td>\n",
       "      <td>188</td>\n",
       "      <td>187</td>\n",
       "      <td>...</td>\n",
       "      <td>202</td>\n",
       "      <td>201</td>\n",
       "      <td>200</td>\n",
       "      <td>199</td>\n",
       "      <td>198</td>\n",
       "      <td>199</td>\n",
       "      <td>198</td>\n",
       "      <td>195</td>\n",
       "      <td>194</td>\n",
       "      <td>195</td>\n",
       "    </tr>\n",
       "    <tr>\n",
       "      <th>3</th>\n",
       "      <td>2</td>\n",
       "      <td>211</td>\n",
       "      <td>211</td>\n",
       "      <td>212</td>\n",
       "      <td>212</td>\n",
       "      <td>211</td>\n",
       "      <td>210</td>\n",
       "      <td>211</td>\n",
       "      <td>210</td>\n",
       "      <td>210</td>\n",
       "      <td>...</td>\n",
       "      <td>235</td>\n",
       "      <td>234</td>\n",
       "      <td>233</td>\n",
       "      <td>231</td>\n",
       "      <td>230</td>\n",
       "      <td>226</td>\n",
       "      <td>225</td>\n",
       "      <td>222</td>\n",
       "      <td>229</td>\n",
       "      <td>163</td>\n",
       "    </tr>\n",
       "    <tr>\n",
       "      <th>4</th>\n",
       "      <td>12</td>\n",
       "      <td>164</td>\n",
       "      <td>167</td>\n",
       "      <td>170</td>\n",
       "      <td>172</td>\n",
       "      <td>176</td>\n",
       "      <td>179</td>\n",
       "      <td>180</td>\n",
       "      <td>184</td>\n",
       "      <td>185</td>\n",
       "      <td>...</td>\n",
       "      <td>92</td>\n",
       "      <td>105</td>\n",
       "      <td>105</td>\n",
       "      <td>108</td>\n",
       "      <td>133</td>\n",
       "      <td>163</td>\n",
       "      <td>157</td>\n",
       "      <td>163</td>\n",
       "      <td>164</td>\n",
       "      <td>179</td>\n",
       "    </tr>\n",
       "  </tbody>\n",
       "</table>\n",
       "<p>5 rows × 785 columns</p>\n",
       "</div>"
      ]
     },
     "execution_count": 4,
     "metadata": {},
     "output_type": "execute_result"
    }
   ],
   "execution_count": 4
  },
  {
   "cell_type": "markdown",
   "metadata": {
    "id": "9vZwdu4yTjyN"
   },
   "source": [
    "### 2.3.3 Extracting the Labels"
   ]
  },
  {
   "cell_type": "markdown",
   "metadata": {
    "id": "wxRL89IvTjyN"
   },
   "source": [
    "Let's store our training and validation labels in `y_train` and `y_valid` variables. We can use the [pop](https://pandas.pydata.org/docs/reference/api/pandas.DataFrame.pop.html) method to remove a column from our DataFrame and assign the removed values to a variable."
   ]
  },
  {
   "cell_type": "code",
   "metadata": {
    "colab": {
     "base_uri": "https://localhost:8080/"
    },
    "executionInfo": {
     "elapsed": 2,
     "status": "ok",
     "timestamp": 1715064546558,
     "user": {
      "displayName": "Danielle Detering US",
      "userId": "15432464718872067879"
     },
     "user_tz": 420
    },
    "id": "EYujv09jTjyN",
    "outputId": "572b986c-d128-4b25-9083-9d9607c9b680",
    "ExecuteTime": {
     "end_time": "2025-08-08T18:31:36.494757Z",
     "start_time": "2025-08-08T18:31:36.449756Z"
    }
   },
   "source": [
    "y_train = train_df.pop('label')\n",
    "y_valid = valid_df.pop('label')\n",
    "y_train"
   ],
   "outputs": [
    {
     "data": {
      "text/plain": [
       "0         3\n",
       "1         6\n",
       "2         2\n",
       "3         2\n",
       "4        12\n",
       "         ..\n",
       "27450    12\n",
       "27451    22\n",
       "27452    17\n",
       "27453    16\n",
       "27454    22\n",
       "Name: label, Length: 27455, dtype: int64"
      ]
     },
     "execution_count": 5,
     "metadata": {},
     "output_type": "execute_result"
    }
   ],
   "execution_count": 5
  },
  {
   "cell_type": "markdown",
   "metadata": {
    "id": "WQ6EtXGYTjyN"
   },
   "source": [
    "### 2.3.4 Extracting the Images"
   ]
  },
  {
   "cell_type": "markdown",
   "metadata": {
    "id": "_mue0q7BTjyN"
   },
   "source": [
    "Next, let's store our training and validation images in `x_train` and `x_valid` variables. Here we create those variables:"
   ]
  },
  {
   "cell_type": "code",
   "metadata": {
    "colab": {
     "base_uri": "https://localhost:8080/"
    },
    "executionInfo": {
     "elapsed": 2,
     "status": "ok",
     "timestamp": 1715064548501,
     "user": {
      "displayName": "Danielle Detering US",
      "userId": "15432464718872067879"
     },
     "user_tz": 420
    },
    "id": "7sP3fSkETjyN",
    "outputId": "6e04f85b-fb2d-444d-fc08-28a5741c3c6f",
    "ExecuteTime": {
     "end_time": "2025-08-08T18:31:36.783676Z",
     "start_time": "2025-08-08T18:31:36.707195Z"
    }
   },
   "source": [
    "x_train = train_df.values\n",
    "x_valid = valid_df.values\n",
    "x_train"
   ],
   "outputs": [
    {
     "data": {
      "text/plain": [
       "array([[107, 118, 127, ..., 204, 203, 202],\n",
       "       [155, 157, 156, ..., 103, 135, 149],\n",
       "       [187, 188, 188, ..., 195, 194, 195],\n",
       "       ...,\n",
       "       [174, 174, 174, ..., 202, 200, 200],\n",
       "       [177, 181, 184, ...,  64,  87,  93],\n",
       "       [179, 180, 180, ..., 205, 209, 215]], shape=(27455, 784))"
      ]
     },
     "execution_count": 6,
     "metadata": {},
     "output_type": "execute_result"
    }
   ],
   "execution_count": 6
  },
  {
   "cell_type": "markdown",
   "metadata": {
    "id": "6s7y8MYOTjyN"
   },
   "source": [
    "### 2.3.5 Summarizing the Training and Validation Data"
   ]
  },
  {
   "cell_type": "markdown",
   "metadata": {
    "id": "YkVK5sL_TjyN"
   },
   "source": [
    "We now have 27,455 images with 784 pixels each for training..."
   ]
  },
  {
   "cell_type": "code",
   "metadata": {
    "colab": {
     "base_uri": "https://localhost:8080/"
    },
    "executionInfo": {
     "elapsed": 270,
     "status": "ok",
     "timestamp": 1715064412921,
     "user": {
      "displayName": "Danielle Detering US",
      "userId": "15432464718872067879"
     },
     "user_tz": 420
    },
    "id": "l7liruaxTjyN",
    "outputId": "9b462f1d-6306-47bf-d292-151b9847e1ad",
    "ExecuteTime": {
     "end_time": "2025-08-08T18:31:38.508791Z",
     "start_time": "2025-08-08T18:31:38.503573Z"
    }
   },
   "source": [
    "x_train.shape"
   ],
   "outputs": [
    {
     "data": {
      "text/plain": [
       "(27455, 784)"
      ]
     },
     "execution_count": 7,
     "metadata": {},
     "output_type": "execute_result"
    }
   ],
   "execution_count": 7
  },
  {
   "cell_type": "markdown",
   "metadata": {
    "id": "WKP6-UT0TjyN"
   },
   "source": [
    "...as well as their corresponding labels:"
   ]
  },
  {
   "cell_type": "code",
   "metadata": {
    "colab": {
     "base_uri": "https://localhost:8080/"
    },
    "executionInfo": {
     "elapsed": 3,
     "status": "ok",
     "timestamp": 1715064415052,
     "user": {
      "displayName": "Danielle Detering US",
      "userId": "15432464718872067879"
     },
     "user_tz": 420
    },
    "id": "d4OguU-wTjyN",
    "outputId": "d2030105-2f87-44ff-a13d-d530a63c46df",
    "ExecuteTime": {
     "end_time": "2025-08-08T18:31:38.837099Z",
     "start_time": "2025-08-08T18:31:38.830671Z"
    }
   },
   "source": [
    "y_train.shape"
   ],
   "outputs": [
    {
     "data": {
      "text/plain": [
       "(27455,)"
      ]
     },
     "execution_count": 8,
     "metadata": {},
     "output_type": "execute_result"
    }
   ],
   "execution_count": 8
  },
  {
   "cell_type": "markdown",
   "metadata": {
    "id": "VKuHu4V2TjyN"
   },
   "source": [
    "For validation, we have 7,172 images..."
   ]
  },
  {
   "cell_type": "code",
   "metadata": {
    "colab": {
     "base_uri": "https://localhost:8080/"
    },
    "executionInfo": {
     "elapsed": 3,
     "status": "ok",
     "timestamp": 1715064416314,
     "user": {
      "displayName": "Danielle Detering US",
      "userId": "15432464718872067879"
     },
     "user_tz": 420
    },
    "id": "AFx0PRCsTjyN",
    "outputId": "e25714a6-07a2-4a5f-9dcb-e197e9fee5cb",
    "ExecuteTime": {
     "end_time": "2025-08-08T18:31:38.920509Z",
     "start_time": "2025-08-08T18:31:38.915506Z"
    }
   },
   "source": [
    "x_valid.shape"
   ],
   "outputs": [
    {
     "data": {
      "text/plain": [
       "(7172, 784)"
      ]
     },
     "execution_count": 9,
     "metadata": {},
     "output_type": "execute_result"
    }
   ],
   "execution_count": 9
  },
  {
   "cell_type": "markdown",
   "metadata": {
    "id": "cfEP85sSTjyN"
   },
   "source": [
    "...and their corresponding labels:"
   ]
  },
  {
   "cell_type": "code",
   "metadata": {
    "colab": {
     "base_uri": "https://localhost:8080/"
    },
    "executionInfo": {
     "elapsed": 3,
     "status": "ok",
     "timestamp": 1715064417463,
     "user": {
      "displayName": "Danielle Detering US",
      "userId": "15432464718872067879"
     },
     "user_tz": 420
    },
    "id": "5UgDUqppTjyO",
    "outputId": "98f60c26-9975-4da8-e108-3b6b1503721d",
    "ExecuteTime": {
     "end_time": "2025-08-08T18:31:40.831917Z",
     "start_time": "2025-08-08T18:31:40.826892Z"
    }
   },
   "source": [
    "y_valid.shape"
   ],
   "outputs": [
    {
     "data": {
      "text/plain": [
       "(7172,)"
      ]
     },
     "execution_count": 10,
     "metadata": {},
     "output_type": "execute_result"
    }
   ],
   "execution_count": 10
  },
  {
   "cell_type": "markdown",
   "metadata": {
    "id": "UWrF4zYPTjyO"
   },
   "source": [
    "## 2.4 Visualizing the Data"
   ]
  },
  {
   "cell_type": "markdown",
   "metadata": {
    "id": "HJnxfcGJTjyO"
   },
   "source": [
    "To visualize the images, we will again use the matplotlib library. We don't need to worry about the details of this visualization, but if interested, you can learn more about [matplotlib](https://matplotlib.org/) at a later time.\n",
    "\n",
    "Note that we'll have to reshape the data from its current 1D shape of 784 pixels, to a 2D shape of 28x28 pixels to make sense of the image:"
   ]
  },
  {
   "cell_type": "code",
   "metadata": {
    "colab": {
     "base_uri": "https://localhost:8080/",
     "height": 58
    },
    "executionInfo": {
     "elapsed": 972,
     "status": "ok",
     "timestamp": 1715064554564,
     "user": {
      "displayName": "Danielle Detering US",
      "userId": "15432464718872067879"
     },
     "user_tz": 420
    },
    "id": "k-Fkl2mTTjyO",
    "outputId": "3fe64867-d689-497c-d0b7-4a27edf8e89d",
    "ExecuteTime": {
     "end_time": "2025-08-08T18:31:41.727260Z",
     "start_time": "2025-08-08T18:31:41.030641Z"
    }
   },
   "source": [
    "import matplotlib.pyplot as plt\n",
    "plt.figure(figsize=(40,40))\n",
    "\n",
    "num_images = 20\n",
    "for i in range(num_images):\n",
    "    row = x_train[i]\n",
    "    label = y_train[i]\n",
    "\n",
    "    image = row.reshape(28,28)\n",
    "    plt.subplot(1, num_images, i+1)\n",
    "    plt.title(label, fontdict={'fontsize': 30})\n",
    "    plt.axis('off')\n",
    "    plt.imshow(image, cmap='gray')"
   ],
   "outputs": [
    {
     "data": {
      "text/plain": [
       "<Figure size 4000x4000 with 20 Axes>"
      ],
      "image/png": "[encoded data removed]"
     },
     "metadata": {},
     "output_type": "display_data"
    }
   ],
   "execution_count": 11
  },
  {
   "cell_type": "markdown",
   "metadata": {
    "id": "2j5Nwh7zTjyO"
   },
   "source": [
    "### 2.4.1 Normalize the Image Data"
   ]
  },
  {
   "cell_type": "markdown",
   "metadata": {
    "id": "xYfdAXx5TjyV"
   },
   "source": [
    "As we did with the MNIST dataset, we are going to normalize the image data, meaning that their pixel values, instead of being between 0 and 255 as they are currently:"
   ]
  },
  {
   "cell_type": "code",
   "metadata": {
    "colab": {
     "base_uri": "https://localhost:8080/"
    },
    "executionInfo": {
     "elapsed": 3,
     "status": "ok",
     "timestamp": 1715064422916,
     "user": {
      "displayName": "Danielle Detering US",
      "userId": "15432464718872067879"
     },
     "user_tz": 420
    },
    "id": "zbEOSxuYTjyV",
    "outputId": "d30e221e-99db-4e20-fdb6-cf67fb273225",
    "ExecuteTime": {
     "end_time": "2025-08-08T18:31:41.776723Z",
     "start_time": "2025-08-08T18:31:41.757879Z"
    }
   },
   "source": [
    "x_train.min()"
   ],
   "outputs": [
    {
     "data": {
      "text/plain": [
       "np.int64(0)"
      ]
     },
     "execution_count": 12,
     "metadata": {},
     "output_type": "execute_result"
    }
   ],
   "execution_count": 12
  },
  {
   "cell_type": "code",
   "metadata": {
    "colab": {
     "base_uri": "https://localhost:8080/"
    },
    "executionInfo": {
     "elapsed": 2,
     "status": "ok",
     "timestamp": 1715064423943,
     "user": {
      "displayName": "Danielle Detering US",
      "userId": "15432464718872067879"
     },
     "user_tz": 420
    },
    "id": "kAERnWUcTjyV",
    "outputId": "57e592d4-a36e-4f3e-f924-d157fa9680ef",
    "ExecuteTime": {
     "end_time": "2025-08-08T18:31:41.828764Z",
     "start_time": "2025-08-08T18:31:41.808531Z"
    }
   },
   "source": [
    "x_train.max()"
   ],
   "outputs": [
    {
     "data": {
      "text/plain": [
       "np.int64(255)"
      ]
     },
     "execution_count": 13,
     "metadata": {},
     "output_type": "execute_result"
    }
   ],
   "execution_count": 13
  },
  {
   "cell_type": "markdown",
   "metadata": {
    "id": "_KWYaVLTTjyV"
   },
   "source": [
    "In the previous lab, we used [ToTensor](https://pytorch.org/vision/main/generated/torchvision.transforms.ToTensor.html), but we can also modify our data before turning it into a tensor."
   ]
  },
  {
   "cell_type": "code",
   "metadata": {
    "id": "s3bf3TvgTjyW",
    "ExecuteTime": {
     "end_time": "2025-08-08T18:31:42.064326Z",
     "start_time": "2025-08-08T18:31:41.880198Z"
    }
   },
   "source": [
    "x_train = train_df.values / 255\n",
    "x_valid = valid_df.values / 255"
   ],
   "outputs": [],
   "execution_count": 14
  },
  {
   "cell_type": "markdown",
   "metadata": {},
   "source": [
    "### 2.4.2 Custom Datasets"
   ]
  },
  {
   "cell_type": "markdown",
   "metadata": {
    "id": "iKQR2ouf7Q2r"
   },
   "source": [
    "We can use PyTorch's [Dataset](https://pytorch.org/tutorials/beginner/basics/data_tutorial.html) tools in order to create our own dataset. `__init__` will run once when the class is initialized. `__getitem__` returns our images and labels.\n",
    "\n",
    "Since our dataset is small enough, we can store it on our GPU for faster processing. In the previous lab, we sent our data to the GPU when it was drawn from each batch. Here, we will send it to the GPU in the `__init__` function."
   ]
  },
  {
   "cell_type": "code",
   "metadata": {
    "id": "KeKWb8tZ6jCy",
    "ExecuteTime": {
     "end_time": "2025-08-08T18:31:42.122175Z",
     "start_time": "2025-08-08T18:31:42.116140Z"
    }
   },
   "source": [
    "class MyDataset(Dataset):\n",
    "    def __init__(self, x_df, y_df):\n",
    "        self.xs = torch.tensor(x_df).float().to(device)\n",
    "        self.ys = torch.tensor(y_df).to(device)\n",
    "\n",
    "    def __getitem__(self, idx):\n",
    "        x = self.xs[idx]\n",
    "        y = self.ys[idx]\n",
    "        return x, y\n",
    "\n",
    "    def __len__(self):\n",
    "        return len(self.xs)"
   ],
   "outputs": [],
   "execution_count": 15
  },
  {
   "cell_type": "markdown",
   "metadata": {},
   "source": [
    "A custom PyTorch dataset works just like a prebuilt one. It should be passed to a [DataLoader](https://pytorch.org/tutorials/beginner/basics/data_tutorial.html#preparing-your-data-for-training-with-dataloaders) for model training."
   ]
  },
  {
   "cell_type": "code",
   "metadata": {
    "id": "XoSSM2YEAh_6",
    "ExecuteTime": {
     "end_time": "2025-08-08T18:31:42.336383Z",
     "start_time": "2025-08-08T18:31:42.186099Z"
    }
   },
   "source": [
    "BATCH_SIZE = 32\n",
    "\n",
    "train_data = MyDataset(x_train, y_train)\n",
    "train_loader = DataLoader(train_data, batch_size=BATCH_SIZE, shuffle=True)\n",
    "train_N = len(train_loader.dataset)"
   ],
   "outputs": [],
   "execution_count": 16
  },
  {
   "cell_type": "code",
   "metadata": {
    "id": "cfAM1uoP1anX",
    "ExecuteTime": {
     "end_time": "2025-08-08T18:31:42.449959Z",
     "start_time": "2025-08-08T18:31:42.386447Z"
    }
   },
   "source": [
    "valid_data = MyDataset(x_valid, y_valid)\n",
    "valid_loader = DataLoader(valid_data, batch_size=BATCH_SIZE)\n",
    "valid_N = len(valid_loader.dataset)"
   ],
   "outputs": [],
   "execution_count": 17
  },
  {
   "cell_type": "markdown",
   "metadata": {},
   "source": [
    "We can verify the DataLoader works as expected with the code below. We'll make the DataLoader [iterable](https://docs.python.org/3/library/functions.html#iter), and then call [next](https://docs.python.org/3/library/functions.html#next) to draw the first hand from the deck."
   ]
  },
  {
   "cell_type": "code",
   "metadata": {
    "ExecuteTime": {
     "end_time": "2025-08-08T18:31:42.506265Z",
     "start_time": "2025-08-08T18:31:42.499755Z"
    }
   },
   "source": [
    "train_loader"
   ],
   "outputs": [
    {
     "data": {
      "text/plain": [
       "<torch.utils.data.dataloader.DataLoader at 0x14bf2975ca0>"
      ]
     },
     "execution_count": 18,
     "metadata": {},
     "output_type": "execute_result"
    }
   ],
   "execution_count": 18
  },
  {
   "cell_type": "markdown",
   "metadata": {},
   "source": [
    "Try running the below a few times. The values should change each time."
   ]
  },
  {
   "cell_type": "code",
   "metadata": {
    "colab": {
     "base_uri": "https://localhost:8080/"
    },
    "executionInfo": {
     "elapsed": 3,
     "status": "ok",
     "timestamp": 1715068148957,
     "user": {
      "displayName": "Danielle Detering US",
      "userId": "15432464718872067879"
     },
     "user_tz": 420
    },
    "id": "5nRQD_koZ5jm",
    "outputId": "f24f27e7-2452-46a2-ca83-0710c822b9f3",
    "ExecuteTime": {
     "end_time": "2025-08-08T18:31:42.610981Z",
     "start_time": "2025-08-08T18:31:42.575985Z"
    }
   },
   "source": [
    "batch = next(iter(train_loader))\n",
    "batch"
   ],
   "outputs": [
    {
     "data": {
      "text/plain": [
       "[tensor([[0.3843, 0.2784, 0.4902,  ..., 0.3608, 0.3647, 0.3647],\n",
       "         [0.3412, 0.3843, 0.2078,  ..., 0.2667, 0.3020, 0.2941],\n",
       "         [0.4902, 0.5059, 0.5216,  ..., 0.3216, 0.2627, 0.3569],\n",
       "         ...,\n",
       "         [0.6314, 0.6431, 0.6510,  ..., 0.5176, 0.5294, 0.6078],\n",
       "         [0.4275, 0.4471, 0.4588,  ..., 0.0000, 0.0000, 0.0706],\n",
       "         [0.6039, 0.6275, 0.6510,  ..., 0.6980, 0.6275, 0.3686]]),\n",
       " tensor([ 9, 15, 10, 20, 11, 11,  1,  8,  3,  5,  6, 14, 11, 21, 21,  7,  0,  7,\n",
       "          1,  5, 14, 12, 21,  6, 10, 17,  7, 14, 11, 18,  4, 10])]"
      ]
     },
     "execution_count": 19,
     "metadata": {},
     "output_type": "execute_result"
    }
   ],
   "execution_count": 19
  },
  {
   "cell_type": "markdown",
   "metadata": {},
   "source": [
    "Notice the batch has two values. The first is our `x`, and the second is our `y`. The first dimension of each should have `32` values, which is the `batch_size`."
   ]
  },
  {
   "cell_type": "code",
   "metadata": {
    "ExecuteTime": {
     "end_time": "2025-08-08T18:31:42.710780Z",
     "start_time": "2025-08-08T18:31:42.701268Z"
    }
   },
   "source": [
    "batch[0].shape"
   ],
   "outputs": [
    {
     "data": {
      "text/plain": [
       "torch.Size([32, 784])"
      ]
     },
     "execution_count": 20,
     "metadata": {},
     "output_type": "execute_result"
    }
   ],
   "execution_count": 20
  },
  {
   "cell_type": "code",
   "metadata": {
    "ExecuteTime": {
     "end_time": "2025-08-08T18:31:42.837441Z",
     "start_time": "2025-08-08T18:31:42.830431Z"
    }
   },
   "source": [
    "batch[1].shape"
   ],
   "outputs": [
    {
     "data": {
      "text/plain": [
       "torch.Size([32])"
      ]
     },
     "execution_count": 21,
     "metadata": {},
     "output_type": "execute_result"
    }
   ],
   "execution_count": 21
  },
  {
   "cell_type": "markdown",
   "metadata": {
    "id": "KkD0MEZ1TjyX"
   },
   "source": [
    "## 2.5 Build the Model"
   ]
  },
  {
   "cell_type": "markdown",
   "metadata": {
    "id": "PHyHRWPdTjyX"
   },
   "source": [
    "We've created our DataLoaders, now it's time to build our models."
   ]
  },
  {
   "cell_type": "markdown",
   "metadata": {},
   "source": [
    "#### Exercise"
   ]
  },
  {
   "cell_type": "markdown",
   "metadata": {},
   "source": [
    "For this exercise we are going to build a sequential model. Just like last time, build a model that:\n",
    "\n",
    "* Has a flatten layer.\n",
    "* Has a dense input layer. This layer should contain 512 neurons amd use the `relu` activation function\n",
    "* Has a second dense layer with 512 neurons which uses the `relu` activation function\n",
    "* Has a dense output layer with neurons equal to the number of classes\n",
    "\n",
    "We will define a few variables to get started:"
   ]
  },
  {
   "cell_type": "code",
   "metadata": {
    "ExecuteTime": {
     "end_time": "2025-08-08T18:31:42.983265Z",
     "start_time": "2025-08-08T18:31:42.978265Z"
    }
   },
   "source": [
    "input_size = 28 * 28\n",
    "n_classes = 24"
   ],
   "outputs": [],
   "execution_count": 22
  },
  {
   "cell_type": "markdown",
   "metadata": {},
   "source": [
    "Do your work in the cell below, creating a `model` variable to store the model. We've imported the [Sequental](https://pytorch.org/docs/stable/generated/torch.nn.Sequential.html) model class and [Linear](https://pytorch.org/docs/stable/generated/torch.nn.Linear.html) layer class to get you started. Reveal the solution below for a hint:"
   ]
  },
  {
   "cell_type": "code",
   "metadata": {
    "ExecuteTime": {
     "end_time": "2025-08-08T18:31:43.084305Z",
     "start_time": "2025-08-08T18:31:43.065340Z"
    }
   },
   "source": [
    "model = nn.Sequential(\n",
    "    nn.Flatten(),\n",
    "    nn.Linear(input_size, 512),  # Input\n",
    "    nn.ReLU(),  # Activation for input\n",
    "    nn.Linear(512, 512),  # Hidden\n",
    "    nn.ReLU(),  # Activation for hidden\n",
    "    nn.Linear(512, n_classes)  # Output\n",
    ")"
   ],
   "outputs": [],
   "execution_count": 23
  },
  {
   "cell_type": "markdown",
   "metadata": {},
   "source": [
    "#### Solution"
   ]
  },
  {
   "cell_type": "code",
   "metadata": {
    "id": "_WckEGM9Tr-D",
    "jupyter": {
     "source_hidden": true
    },
    "ExecuteTime": {
     "end_time": "2025-08-08T18:31:43.132773Z",
     "start_time": "2025-08-08T18:31:43.099900Z"
    }
   },
   "source": [
    "# SOLUTION\n",
    "model = nn.Sequential(\n",
    "    nn.Flatten(),\n",
    "    nn.Linear(input_size, 512),  # Input\n",
    "    nn.ReLU(),  # Activation for input\n",
    "    nn.Linear(512, 512),  # Hidden\n",
    "    nn.ReLU(),  # Activation for hidden\n",
    "    nn.Linear(512, n_classes)  # Output\n",
    ")"
   ],
   "outputs": [],
   "execution_count": 24
  },
  {
   "cell_type": "markdown",
   "metadata": {},
   "source": [
    "This time, we'll combine compiling the model and sending it to the GPU in one step:"
   ]
  },
  {
   "cell_type": "code",
   "metadata": {
    "colab": {
     "base_uri": "https://localhost:8080/"
    },
    "executionInfo": {
     "elapsed": 326,
     "status": "ok",
     "timestamp": 1715068155362,
     "user": {
      "displayName": "Danielle Detering US",
      "userId": "15432464718872067879"
     },
     "user_tz": 420
    },
    "id": "TjXGJyWuUGcH",
    "outputId": "f3474939-80a3-4715-aea4-991a2629232a",
    "ExecuteTime": {
     "end_time": "2025-08-08T18:31:45.536049Z",
     "start_time": "2025-08-08T18:31:43.187500Z"
    }
   },
   "source": [
    "model = torch.compile(model.to(device))\n",
    "model"
   ],
   "outputs": [
    {
     "data": {
      "text/plain": [
       "OptimizedModule(\n",
       "  (_orig_mod): Sequential(\n",
       "    (0): Flatten(start_dim=1, end_dim=-1)\n",
       "    (1): Linear(in_features=784, out_features=512, bias=True)\n",
       "    (2): ReLU()\n",
       "    (3): Linear(in_features=512, out_features=512, bias=True)\n",
       "    (4): ReLU()\n",
       "    (5): Linear(in_features=512, out_features=24, bias=True)\n",
       "  )\n",
       ")"
      ]
     },
     "execution_count": 25,
     "metadata": {},
     "output_type": "execute_result"
    }
   ],
   "execution_count": 25
  },
  {
   "cell_type": "markdown",
   "metadata": {},
   "source": [
    "Since categorizing these ASL images is similar to categorizing MNIST's handwritten digits, we will use the same `loss_function` ([Categorical CrossEntropy](https://pytorch.org/docs/stable/generated/torch.nn.CrossEntropyLoss.html)) and `optimizer` ([Adam](https://pytorch.org/docs/stable/generated/torch.optim.Adam.html))."
   ]
  },
  {
   "cell_type": "code",
   "metadata": {
    "id": "LtHYbXz7UZQW",
    "ExecuteTime": {
     "end_time": "2025-08-08T18:31:45.605954Z",
     "start_time": "2025-08-08T18:31:45.600553Z"
    }
   },
   "source": [
    "loss_function = nn.CrossEntropyLoss()\n",
    "optimizer = Adam(model.parameters())"
   ],
   "outputs": [],
   "execution_count": 26
  },
  {
   "cell_type": "markdown",
   "metadata": {},
   "source": [
    "## 2.6 Training the Model"
   ]
  },
  {
   "cell_type": "markdown",
   "metadata": {},
   "source": [
    "This time, let's look at our `train` and `validate` functions in more detail."
   ]
  },
  {
   "cell_type": "markdown",
   "metadata": {},
   "source": [
    "### 2.6.1 The Train Function"
   ]
  },
  {
   "cell_type": "markdown",
   "metadata": {},
   "source": [
    "This code is almost the same as in the previous notebook, but we no longer send `x` and `y` to our GPU because our DataLoader already does that.\n",
    "\n",
    "Before looping through the DataLoader, we will set the model to [model.train](https://pytorch.org/docs/stable/generated/torch.nn.Module.html#torch.nn.Module.train) to make sure its parameters can be updated. To make it easier for us to follow training progress, we'll keep track of the total `loss` and `accuracy`.\n",
    "\n",
    "Then, for each batch in our `train_loader`, we will:\n",
    "1. Get an `output` prediction from the model\n",
    "2. Set the gradient to zero with the `optimizer`'s [zero_grad](https://pytorch.org/docs/stable/generated/torch.optim.Optimizer.zero_grad.html) function\n",
    "3. Calculate the loss with our `loss_function`\n",
    "4. Compute the gradient with [backward](https://pytorch.org/docs/stable/generated/torch.Tensor.backward.html)\n",
    "5. Update our model parameters with the `optimizer`'s [step](https://pytorch.org/docs/stable/generated/torch.optim.Optimizer.step.html) function.\n",
    "6. Update the `loss` and `accuracy` totals"
   ]
  },
  {
   "cell_type": "code",
   "metadata": {
    "id": "AfgrATXFV_og",
    "ExecuteTime": {
     "end_time": "2025-08-09T01:50:57.084528Z",
     "start_time": "2025-08-09T01:50:57.078402Z"
    }
   },
   "source": [
    "def train():\n",
    "    loss = 0\n",
    "    accuracy = 0\n",
    "\n",
    "    model.train()\n",
    "    for x, y in train_loader:\n",
    "        output = model(x)\n",
    "        optimizer.zero_grad()\n",
    "        batch_loss = loss_function(output, y)\n",
    "        batch_loss.backward()\n",
    "        optimizer.step()\n",
    "\n",
    "        loss += batch_loss.item()\n",
    "        accuracy += get_batch_accuracy(output, y, train_N)\n",
    "    print('Train - Loss: {:.4f} Accuracy: {:.4f}'.format(loss, accuracy))"
   ],
   "outputs": [],
   "execution_count": 2
  },
  {
   "cell_type": "markdown",
   "metadata": {},
   "source": [
    "### 2.6.2 The Validate Function"
   ]
  },
  {
   "cell_type": "markdown",
   "metadata": {},
   "source": [
    "The model does not learn during validation, so the `validate` function is simpler than the `train` function above.\n",
    "\n",
    "One key difference is we will set the model to evaluation mode with [model.evaluate](https://pytorch.org/docs/stable/generated/torch.nn.Module.html#torch.nn.Module.eval), which will prevent the model from updating any parameters."
   ]
  },
  {
   "cell_type": "code",
   "metadata": {
    "id": "8LQcAtcc0ggk",
    "ExecuteTime": {
     "end_time": "2025-08-09T01:51:02.524797Z",
     "start_time": "2025-08-09T01:51:02.519862Z"
    }
   },
   "source": [
    "def validate():\n",
    "    loss = 0\n",
    "    accuracy = 0\n",
    "\n",
    "    model.eval()\n",
    "    with torch.no_grad():\n",
    "        for x, y in valid_loader:\n",
    "            output = model(x)\n",
    "\n",
    "            loss += loss_function(output, y).item()\n",
    "            accuracy += get_batch_accuracy(output, y, valid_N)\n",
    "    print('Valid - Loss: {:.4f} Accuracy: {:.4f}'.format(loss, accuracy))"
   ],
   "outputs": [],
   "execution_count": 3
  },
  {
   "cell_type": "markdown",
   "metadata": {},
   "source": [
    "### 2.6.3 Calculating the Accuracy"
   ]
  },
  {
   "cell_type": "markdown",
   "metadata": {},
   "source": [
    "Both the `train` and `validate` functions use `get_batch_accuracy`, but we have not defined that in this notebook yet. "
   ]
  },
  {
   "cell_type": "markdown",
   "metadata": {},
   "source": [
    "#### Exercise"
   ]
  },
  {
   "cell_type": "markdown",
   "metadata": {},
   "source": [
    "The function below has three `FIXME`s. Each one corresponds to the functions input arguments. Can you replace each FIXME with the correct argument?\n",
    "\n",
    "It may help to view the documentation for [argmax](https://pytorch.org/docs/stable/generated/torch.argmax.html), [eq](https://pytorch.org/docs/stable/generated/torch.eq.html), and [view_as](https://pytorch.org/docs/stable/generated/torch.Tensor.view_as.html)."
   ]
  },
  {
   "cell_type": "code",
   "metadata": {
    "ExecuteTime": {
     "end_time": "2025-08-09T01:51:14.583654Z",
     "start_time": "2025-08-09T01:51:14.579039Z"
    }
   },
   "source": [
    "def get_batch_accuracy(output, y, N):\n",
    "    # .argmax returns the indices of the maximum value of all elements in the input tensor.\n",
    "    pred = output.argmax(dim=1, keepdim=True)\n",
    "    correct = pred.eq(y.view_as(pred)).sum().item()\n",
    "    return correct / N"
   ],
   "outputs": [],
   "execution_count": 4
  },
  {
   "cell_type": "markdown",
   "metadata": {},
   "source": [
    "#### Solution"
   ]
  },
  {
   "cell_type": "markdown",
   "metadata": {},
   "source": [
    "Click the `...` below for the solution."
   ]
  },
  {
   "cell_type": "code",
   "metadata": {
    "jupyter": {
     "source_hidden": true
    },
    "ExecuteTime": {
     "end_time": "2025-08-09T01:51:15.783624Z",
     "start_time": "2025-08-09T01:51:15.776522Z"
    }
   },
   "source": [
    "# SOLUTION\n",
    "def get_batch_accuracy(output, y, N):\n",
    "    pred = output.argmax(dim=1, keepdim=True)\n",
    "    correct = pred.eq(y.view_as(pred)).sum().item()\n",
    "    return correct / N"
   ],
   "outputs": [],
   "execution_count": 5
  },
  {
   "cell_type": "markdown",
   "metadata": {},
   "source": [
    "### 2.6.3 The Training Loop"
   ]
  },
  {
   "cell_type": "markdown",
   "metadata": {},
   "source": [
    "Let's bring it all together! Run the cell below to train the data for 20 `epochs`."
   ]
  },
  {
   "cell_type": "code",
   "metadata": {
    "colab": {
     "base_uri": "https://localhost:8080/"
    },
    "executionInfo": {
     "elapsed": 38185,
     "status": "ok",
     "timestamp": 1715068198222,
     "user": {
      "displayName": "Danielle Detering US",
      "userId": "15432464718872067879"
     },
     "user_tz": 420
    },
    "id": "JXzlHJw8-j5L",
    "outputId": "40b9eda4-352d-45f5-dc95-4193f7f13423",
    "ExecuteTime": {
     "end_time": "2025-08-09T01:51:18.028326Z",
     "start_time": "2025-08-09T01:51:17.946846Z"
    }
   },
   "source": [
    "epochs = 20\n",
    "\n",
    "for epoch in range(epochs):\n",
    "    print('Epoch: {}'.format(epoch))\n",
    "    train()\n",
    "    validate()"
   ],
   "outputs": [
    {
     "name": "stdout",
     "output_type": "stream",
     "text": [
      "Epoch: 0\n"
     ]
    },
    {
     "ename": "NameError",
     "evalue": "name 'model' is not defined",
     "output_type": "error",
     "traceback": [
      "\u001B[31m---------------------------------------------------------------------------\u001B[39m",
      "\u001B[31mNameError\u001B[39m                                 Traceback (most recent call last)",
      "\u001B[36mCell\u001B[39m\u001B[36m \u001B[39m\u001B[32mIn[6]\u001B[39m\u001B[32m, line 5\u001B[39m\n\u001B[32m      3\u001B[39m \u001B[38;5;28;01mfor\u001B[39;00m epoch \u001B[38;5;129;01min\u001B[39;00m \u001B[38;5;28mrange\u001B[39m(epochs):\n\u001B[32m      4\u001B[39m     \u001B[38;5;28mprint\u001B[39m(\u001B[33m'\u001B[39m\u001B[33mEpoch: \u001B[39m\u001B[38;5;132;01m{}\u001B[39;00m\u001B[33m'\u001B[39m.format(epoch))\n\u001B[32m----> \u001B[39m\u001B[32m5\u001B[39m     \u001B[43mtrain\u001B[49m\u001B[43m(\u001B[49m\u001B[43m)\u001B[49m\n\u001B[32m      6\u001B[39m     validate()\n",
      "\u001B[36mCell\u001B[39m\u001B[36m \u001B[39m\u001B[32mIn[2]\u001B[39m\u001B[32m, line 5\u001B[39m, in \u001B[36mtrain\u001B[39m\u001B[34m()\u001B[39m\n\u001B[32m      2\u001B[39m loss = \u001B[32m0\u001B[39m\n\u001B[32m      3\u001B[39m accuracy = \u001B[32m0\u001B[39m\n\u001B[32m----> \u001B[39m\u001B[32m5\u001B[39m \u001B[43mmodel\u001B[49m.train()\n\u001B[32m      6\u001B[39m \u001B[38;5;28;01mfor\u001B[39;00m x, y \u001B[38;5;129;01min\u001B[39;00m train_loader:\n\u001B[32m      7\u001B[39m     output = model(x)\n",
      "\u001B[31mNameError\u001B[39m: name 'model' is not defined"
     ]
    }
   ],
   "execution_count": 6
  },
  {
   "cell_type": "markdown",
   "metadata": {
    "id": "asDVasm6TjyY"
   },
   "source": [
    "### 2.6.4 Discussion: What happened?"
   ]
  },
  {
   "cell_type": "markdown",
   "metadata": {
    "id": "YWYAlfHzTjyY"
   },
   "source": [
    "We can see that the training accuracy got to a fairly high level, but the validation accuracy was not as high. What happened here?\n",
    "\n",
    "Think about it for a bit before clicking on the '...' below to reveal the answer."
   ]
  },
  {
   "cell_type": "markdown",
   "metadata": {
    "id": "BGB3jWGRTjyY",
    "jupyter": {
     "source_hidden": true
    }
   },
   "source": [
    "`# SOLUTION`\n",
    "This is an example of the model learning to categorize the training data, but performing poorly against new data that it has not been trained on. Essentially, it is memorizing the dataset, but not gaining a robust and general understanding of the problem. This is a common issue called *overfitting*. We will discuss overfitting in the next two lectures, as well as some ways to address it."
   ]
  },
  {
   "cell_type": "markdown",
   "metadata": {
    "id": "OI5xFCVLTjyY"
   },
   "source": [
    "## 2.7 Summary"
   ]
  },
  {
   "cell_type": "markdown",
   "metadata": {
    "id": "cFcIcMOQTjyZ"
   },
   "source": [
    "In this section you built your own neural network to perform image classification that is quite accurate. Congrats!\n",
    "\n",
    "At this point we should be getting somewhat familiar with the process of loading data (including labels), preparing it, creating a model, and then training the model with prepared data."
   ]
  },
  {
   "cell_type": "markdown",
   "metadata": {},
   "source": [
    "### Extra\n",
    "#### Result\n",
    "By running this code, you will see two plots:\n",
    "\n",
    "Training and Validation Loss: This plot shows how the loss decreases over the epochs for both training and validation datasets.\n",
    "\n",
    "Training and Validation Accuracy: This plot shows how the accuracy improves over the epochs for both training and validation datasets.\n",
    "\n",
    "These plots help you visually understand the model's learning process and identify any overfitting or underfitting issues."
   ]
  },
  {
   "cell_type": "code",
   "metadata": {
    "ExecuteTime": {
     "end_time": "2025-08-08T18:31:48.990976900Z",
     "start_time": "2025-08-08T18:28:50.305857Z"
    }
   },
   "source": [
    "# Initialize lists to store loss and accuracy values\n",
    "train_losses = []\n",
    "train_accuracies = []\n",
    "valid_losses = []\n",
    "valid_accuracies = []\n",
    "\n",
    "def train():\n",
    "    global train_losses, train_accuracies  # Make the lists accessible inside the function\n",
    "    loss = 0\n",
    "    accuracy = 0\n",
    "\n",
    "    model.train()\n",
    "    for x, y in train_loader:\n",
    "        output = model(x)\n",
    "        optimizer.zero_grad()\n",
    "        batch_loss = loss_function(output, y)\n",
    "        batch_loss.backward()\n",
    "        optimizer.step()\n",
    "\n",
    "        loss += batch_loss.item()\n",
    "        accuracy += get_batch_accuracy(output, y, train_N)\n",
    "    \n",
    "    # Average loss and accuracy over the batches\n",
    "    train_losses.append(loss / len(train_loader))\n",
    "    train_accuracies.append(accuracy / len(train_loader))\n",
    "\n",
    "    # print('Train - Loss: {:.4f} Accuracy: {:.4f}'.format(loss, accuracy))\n",
    "\n",
    "def validate():\n",
    "    global valid_losses, valid_accuracies  # Make the lists accessible inside the function\n",
    "    loss = 0\n",
    "    accuracy = 0\n",
    "\n",
    "    model.eval()\n",
    "    with torch.no_grad():\n",
    "        for x, y in valid_loader:\n",
    "            output = model(x)\n",
    "\n",
    "            loss += loss_function(output, y).item()\n",
    "            accuracy += get_batch_accuracy(output, y, valid_N)\n",
    "    \n",
    "    # Average loss and accuracy over the batches\n",
    "    valid_losses.append(loss / len(valid_loader))\n",
    "    valid_accuracies.append(accuracy / len(valid_loader))\n",
    "\n",
    "    # print('Valid - Loss: {:.4f} Accuracy: {:.4f}'.format(loss, accuracy))\n",
    "\n",
    "epochs = 20\n",
    "\n",
    "for epoch in range(epochs):\n",
    "    # print('Epoch: {}'.format(epoch))\n",
    "    train()\n",
    "    validate()\n",
    "\n",
    "# Plotting the results\n",
    "plt.figure(figsize=(12, 5))\n",
    "\n",
    "# Plot Loss\n",
    "plt.subplot(1, 2, 1)\n",
    "plt.plot(range(epochs), train_losses, label='Training Loss')\n",
    "plt.plot(range(epochs), valid_losses, label='Validation Loss')\n",
    "plt.xlabel('Epoch')\n",
    "plt.ylabel('Loss')\n",
    "plt.title('Training and Validation Loss')\n",
    "plt.legend()\n",
    "\n",
    "# Plot Accuracy\n",
    "plt.subplot(1, 2, 2)\n",
    "plt.plot(range(epochs), train_accuracies, label='Training Accuracy')\n",
    "plt.plot(range(epochs), valid_accuracies, label='Validation Accuracy')\n",
    "plt.xlabel('Epoch')\n",
    "plt.ylabel('Accuracy')\n",
    "plt.title('Training and Validation Accuracy')\n",
    "plt.legend()\n",
    "\n",
    "plt.tight_layout()\n",
    "plt.show()"
   ],
   "outputs": [
    {
     "data": {
      "text/plain": [
       "<Figure size 1200x500 with 2 Axes>"
      ],
      "image/png": "[encoded data removed]"
     },
     "metadata": {},
     "output_type": "display_data"
    }
   ],
   "execution_count": 41
  },
  {
   "cell_type": "markdown",
   "metadata": {},
   "source": [
    "Plot images and predictions"
   ]
  },
  {
   "cell_type": "code",
   "metadata": {
    "ExecuteTime": {
     "end_time": "2025-08-08T18:31:48.990976900Z",
     "start_time": "2025-08-08T18:30:59.867566Z"
    }
   },
   "source": [
    "import torch\n",
    "import random\n",
    "import matplotlib.pyplot as plt\n",
    "import numpy as np\n",
    "\n",
    "# Ensure model is in evaluation mode\n",
    "model.eval()\n",
    "\n",
    "# Define the number of samples to pick\n",
    "num_samples_to_pick = 10\n",
    "\n",
    "# Set device (either 'cuda' if available or 'cpu')\n",
    "device = torch.device('cuda' if torch.cuda.is_available() else 'cpu')\n",
    "\n",
    "# Move model to the selected device\n",
    "model.to(device)\n",
    "\n",
    "# Randomly select indices\n",
    "random_indices = random.sample(range(len(x_valid)), num_samples_to_pick)\n",
    "\n",
    "# Extract the selected samples\n",
    "selected_x_valid = x_valid[random_indices]\n",
    "selected_y_valid = y_valid[random_indices]\n",
    "\n",
    "# Convert selected_x_valid and selected_y_valid to torch tensors if they are not already\n",
    "if isinstance(selected_x_valid, (torch.Tensor, np.ndarray)):\n",
    "    selected_x_valid = torch.tensor(selected_x_valid) if not isinstance(selected_x_valid, torch.Tensor) else selected_x_valid\n",
    "else:\n",
    "    selected_x_valid = torch.tensor(selected_x_valid.to_numpy())  # Convert pandas DataFrame/Series to NumPy array and then to tensor\n",
    "\n",
    "if isinstance(selected_y_valid, (torch.Tensor, np.ndarray)):\n",
    "    selected_y_valid = torch.tensor(selected_y_valid) if not isinstance(selected_y_valid, torch.Tensor) else selected_y_valid\n",
    "else:\n",
    "    selected_y_valid = torch.tensor(selected_y_valid.to_numpy())  # Convert pandas DataFrame/Series to NumPy array and then to tensor\n",
    "\n",
    "# Convert input data to float32 to match model's dtype\n",
    "selected_x_valid = selected_x_valid.float()\n",
    "\n",
    "# Move the selected data to the same device as the model\n",
    "selected_x_valid = selected_x_valid.to(device)\n",
    "selected_y_valid = selected_y_valid.to(device)\n",
    "\n",
    "# Predict using the model\n",
    "with torch.no_grad():\n",
    "    output = model(selected_x_valid)\n",
    "    predicted_labels = output.argmax(dim=1)\n",
    "\n",
    "# Move data to CPU for visualization\n",
    "selected_x_valid = selected_x_valid.cpu()\n",
    "selected_y_valid = selected_y_valid.cpu()\n",
    "predicted_labels = predicted_labels.cpu()\n",
    "\n",
    "# Create a mapping from numeric labels to ASL letters\n",
    "# !!! adjust the following code to drop letter 'J' and 'Z'\n",
    "# Alphabet does not contain j or z because they require movement\n",
    "alphabet = \"abcdefghiklmnopqrstuvwxy\"\n",
    "asl_mapping = {i: chr(65 + i) for i in range(26) if chr(65 + i) not in ['J', 'Z']}\n",
    "\n",
    "# Convert numeric labels to ASL string labels using the mapping\n",
    "predicted_labels_str = [asl_mapping[label.item()] for label in predicted_labels]\n",
    "actual_labels_str = [asl_mapping[label.item()] for label in selected_y_valid]\n",
    "\n",
    "# Assume the original images were 28x28 pixels\n",
    "image_size = (28, 28)\n",
    "\n",
    "# Plot the images with their predicted and actual labels\n",
    "plt.figure(figsize=(15, 5))\n",
    "\n",
    "for i in range(num_samples_to_pick):\n",
    "    plt.subplot(2, 5, i + 1)  # 2 rows and 5 columns\n",
    "    image = selected_x_valid[i].numpy().reshape(image_size)  # Reshape back to original dimensions (28x28)\n",
    "    plt.imshow(image, cmap='gray')  # Display image as grayscale\n",
    "    plt.title(f'Pred: {predicted_labels_str[i]}, Actual: {actual_labels_str[i]}')\n",
    "    plt.axis('off')\n",
    "\n",
    "plt.tight_layout()\n",
    "plt.show()"
   ],
   "outputs": [
    {
     "ename": "NameError",
     "evalue": "name 'model' is not defined",
     "output_type": "error",
     "traceback": [
      "\u001B[31m---------------------------------------------------------------------------\u001B[39m",
      "\u001B[31mNameError\u001B[39m                                 Traceback (most recent call last)",
      "\u001B[36mCell\u001B[39m\u001B[36m \u001B[39m\u001B[32mIn[1]\u001B[39m\u001B[32m, line 7\u001B[39m\n\u001B[32m      4\u001B[39m \u001B[38;5;28;01mimport\u001B[39;00m\u001B[38;5;250m \u001B[39m\u001B[34;01mnumpy\u001B[39;00m\u001B[38;5;250m \u001B[39m\u001B[38;5;28;01mas\u001B[39;00m\u001B[38;5;250m \u001B[39m\u001B[34;01mnp\u001B[39;00m\n\u001B[32m      6\u001B[39m \u001B[38;5;66;03m# Ensure model is in evaluation mode\u001B[39;00m\n\u001B[32m----> \u001B[39m\u001B[32m7\u001B[39m \u001B[43mmodel\u001B[49m.eval()\n\u001B[32m      9\u001B[39m \u001B[38;5;66;03m# Define the number of samples to pick\u001B[39;00m\n\u001B[32m     10\u001B[39m num_samples_to_pick = \u001B[32m10\u001B[39m\n",
      "\u001B[31mNameError\u001B[39m: name 'model' is not defined"
     ]
    }
   ],
   "execution_count": 1
  },
  {
   "cell_type": "markdown",
   "metadata": {
    "id": "CDYpo3ByTjyZ"
   },
   "source": [
    "### 2.7.1 Clear the Memory\n",
    "Before moving on, please execute the following cell to clear up the GPU memory. This is required to move on to the next notebook."
   ]
  },
  {
   "cell_type": "code",
   "metadata": {
    "id": "Mm_uKgfxTjyZ",
    "ExecuteTime": {
     "end_time": "2025-08-08T18:32:00.360374Z",
     "start_time": "2025-08-08T18:32:00.342066Z"
    }
   },
   "source": [
    "import IPython\n",
    "app = IPython.Application.instance()\n",
    "app.kernel.do_shutdown(True)"
   ],
   "outputs": [
    {
     "data": {
      "text/plain": [
       "{'status': 'ok', 'restart': True}"
      ]
     },
     "execution_count": 1,
     "metadata": {},
     "output_type": "execute_result"
    }
   ],
   "execution_count": 1
  },
  {
   "cell_type": "markdown",
   "metadata": {
    "id": "vuUgx9kPTjyZ"
   },
   "source": [
    "### 2.7.2 Next"
   ]
  },
  {
   "cell_type": "markdown",
   "metadata": {
    "id": "WeMVBJwMTjyZ"
   },
   "source": [
    "Now that you have built some very basic, somewhat effective models, we will begin to learn about more sophisticated models, including *Convolutional Neural Networks*."
   ]
  },
  {
   "cell_type": "markdown",
   "metadata": {
    "id": "QW2ZlBpITjyZ"
   },
   "source": [
    "<center><a href=\"https://www.nvidia.com/dli\"> <img src=\"images/DLI_Header.png\" alt=\"Header\" style=\"width: 400px;\"/> </a></center>"
   ]
  }
 ],
 "metadata": {
  "accelerator": "GPU",
  "colab": {
   "gpuType": "T4",
   "provenance": []
  },
  "kernelspec": {
   "display_name": "Python 3 (ipykernel)",
   "language": "python",
   "name": "python3"
  },
  "language_info": {
   "codemirror_mode": {
    "name": "ipython",
    "version": 3
   },
   "file_extension": ".py",
   "mimetype": "text/x-python",
   "name": "python",
   "nbconvert_exporter": "python",
   "pygments_lexer": "ipython3",
   "version": "3.12.4"
  }
 },
 "nbformat": 4,
 "nbformat_minor": 4
}
