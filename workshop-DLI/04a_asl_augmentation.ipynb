{
 "cells": [
  {
   "cell_type": "markdown",
   "metadata": {
    "id": "J1AHrcF83Y-g"
   },
   "source": [
    "<center><a href=\"https://www.nvidia.com/dli\"> <img src=\"images/DLI_Header.png\" alt=\"Header\" style=\"width: 400px;\"/> </a></center>"
   ]
  },
  {
   "cell_type": "markdown",
   "metadata": {
    "id": "bBNeKAyF3Y-h"
   },
   "source": [
    "# 4a. Data Augmentation"
   ]
  },
  {
   "cell_type": "markdown",
   "metadata": {
    "id": "HTHY1Otu3Y-h"
   },
   "source": [
    "So far, we've selected a model architecture that vastly improves the model's performance, as it is designed to recognize important features in the images. The validation accuracy is still lagging behind the training accuracy, which is a sign of overfitting: the model is getting confused by things it has not seen before when it tests against the validation dataset.\n",
    "\n",
    "In order to teach our model to be more robust when looking at new data, we're going to programmatically increase the size and variance in our dataset. This is known as [*data augmentation*](https://link.springer.com/article/10.1186/s40537-019-0197-0), a useful technique for many deep learning applications.\n",
    "\n",
    "The increase in size gives the model more images to learn from while training. The increase in variance helps the model ignore unimportant features and select only the features that are truly important in classification, allowing it to generalize better."
   ]
  },
  {
   "cell_type": "markdown",
   "metadata": {
    "id": "k01AskqI3Y-h"
   },
   "source": [
    "## 4a.1 Objectives"
   ]
  },
  {
   "cell_type": "markdown",
   "metadata": {
    "id": "YCFOyxKS3Y-h"
   },
   "source": [
    "* Augment the ASL dataset\n",
    "* Use the augmented data to train an improved model\n",
    "* Save the well-trained model to disk for use in deployment"
   ]
  },
  {
   "cell_type": "code",
   "metadata": {
    "colab": {
     "base_uri": "https://localhost:8080/"
    },
    "executionInfo": {
     "elapsed": 6560,
     "status": "ok",
     "timestamp": 1715241340700,
     "user": {
      "displayName": "Danielle Detering US",
      "userId": "15432464718872067879"
     },
     "user_tz": 420
    },
    "id": "ocl26UO63Y-i",
    "outputId": "b097ecfc-e330-4c6e-d386-4b2b7cbb55bb",
    "ExecuteTime": {
     "end_time": "2025-08-09T02:12:24.412224Z",
     "start_time": "2025-08-09T02:12:17.341206Z"
    }
   },
   "source": [
    "import torch.nn as nn\n",
    "import pandas as pd\n",
    "import torch\n",
    "from torch.optim import Adam\n",
    "from torch.utils.data import Dataset, DataLoader\n",
    "import torchvision.transforms.v2 as transforms\n",
    "import torchvision.transforms.functional as F\n",
    "import matplotlib.pyplot as plt\n",
    "\n",
    "import utils\n",
    "\n",
    "device = torch.device(\"cuda\" if torch.cuda.is_available() else \"cpu\")\n",
    "torch.cuda.is_available()"
   ],
   "outputs": [
    {
     "data": {
      "text/plain": [
       "False"
      ]
     },
     "execution_count": 1,
     "metadata": {},
     "output_type": "execute_result"
    }
   ],
   "execution_count": 1
  },
  {
   "cell_type": "markdown",
   "metadata": {
    "id": "u-FCWlRg3Y-h"
   },
   "source": [
    "## 4a.2 Preparing the Data"
   ]
  },
  {
   "cell_type": "markdown",
   "metadata": {
    "id": "JjSagpmG3Y-i"
   },
   "source": [
    "As we're in a new notebook, we will load and process our data again. To do this, execute the following cell:"
   ]
  },
  {
   "cell_type": "code",
   "metadata": {
    "executionInfo": {
     "elapsed": 3988,
     "status": "ok",
     "timestamp": 1715241345056,
     "user": {
      "displayName": "Danielle Detering US",
      "userId": "15432464718872067879"
     },
     "user_tz": 420
    },
    "id": "jYhhD7yo2WEI",
    "ExecuteTime": {
     "end_time": "2025-08-09T02:12:36.849127Z",
     "start_time": "2025-08-09T02:12:33.422445Z"
    }
   },
   "source": [
    "IMG_HEIGHT = 28\n",
    "IMG_WIDTH = 28\n",
    "IMG_CHS = 1\n",
    "N_CLASSES = 24\n",
    "\n",
    "train_df = pd.read_csv(\"data/asl_data/sign_mnist_train.csv\")\n",
    "valid_df = pd.read_csv(\"data/asl_data/sign_mnist_valid.csv\")\n",
    "\n",
    "class MyDataset(Dataset):\n",
    "    def __init__(self, base_df):\n",
    "        x_df = base_df.copy()\n",
    "        y_df = x_df.pop('label')\n",
    "        x_df = x_df.values / 255  # Normalize values from 0 to 1\n",
    "        x_df = x_df.reshape(-1, IMG_CHS, IMG_WIDTH, IMG_HEIGHT)\n",
    "        self.xs = torch.tensor(x_df).float().to(device)\n",
    "        self.ys = torch.tensor(y_df).to(device)\n",
    "\n",
    "    def __getitem__(self, idx):\n",
    "        x = self.xs[idx]\n",
    "        y = self.ys[idx]\n",
    "        return x, y\n",
    "\n",
    "    def __len__(self):\n",
    "        return len(self.xs)\n",
    "\n",
    "n = 32\n",
    "train_data = MyDataset(train_df)\n",
    "train_loader = DataLoader(train_data, batch_size=n, shuffle=True)\n",
    "train_N = len(train_loader.dataset)\n",
    "\n",
    "valid_data = MyDataset(valid_df)\n",
    "valid_loader = DataLoader(valid_data, batch_size=n)\n",
    "valid_N = len(valid_loader.dataset)"
   ],
   "outputs": [],
   "execution_count": 2
  },
  {
   "cell_type": "markdown",
   "metadata": {
    "id": "qwsfoZkE3Y-i"
   },
   "source": [
    "## 4a.3 Model Creation"
   ]
  },
  {
   "cell_type": "markdown",
   "metadata": {
    "id": "ze7Tv-Aj3Y-i"
   },
   "source": [
    "We will also need to create our model again. As we learned in the last lesson, convolutional neural networks use a repeated sequence of layers. Let's take advantage of this pattern to make our own [custom module](https://pytorch.org/tutorials/beginner/examples_nn/two_layer_net_module.html). We can then use this module like a layer in our [Sequential](https://pytorch.org/docs/stable/generated/torch.nn.Sequential.html) model.\n",
    "\n",
    "To do this, we will extend the [Module](https://pytorch.org/docs/stable/generated/torch.nn.Module.html) class. Then we will define two methods:\n",
    "* `__init__`: defines any properties we want our module to have, including our neural network layers. We will effectively be using a model within a model.\n",
    "* `forward`: defines how we want the module to process any incoming data from the previous layer it is connected to. Since we are using a `Sequential` model, we can pass the input data into it like we are making a prediction."
   ]
  },
  {
   "cell_type": "code",
   "metadata": {
    "executionInfo": {
     "elapsed": 322,
     "status": "ok",
     "timestamp": 1715241347583,
     "user": {
      "displayName": "Danielle Detering US",
      "userId": "15432464718872067879"
     },
     "user_tz": 420
    },
    "id": "_o8Y7C91Bfl8",
    "ExecuteTime": {
     "end_time": "2025-08-09T02:12:43.434039Z",
     "start_time": "2025-08-09T02:12:43.425380Z"
    }
   },
   "source": [
    "class MyConvBlock(nn.Module):\n",
    "    def __init__(self, in_ch, out_ch, dropout_p):\n",
    "        kernel_size = 3\n",
    "        super().__init__()\n",
    "\n",
    "        self.model = nn.Sequential(\n",
    "            nn.Conv2d(in_ch, out_ch, kernel_size, stride=1, padding=1),\n",
    "            nn.BatchNorm2d(out_ch),\n",
    "            nn.ReLU(),\n",
    "            nn.Dropout(dropout_p),\n",
    "            nn.MaxPool2d(2, stride=2)\n",
    "        )\n",
    "\n",
    "    def forward(self, x):\n",
    "        return self.model(x)"
   ],
   "outputs": [],
   "execution_count": 3
  },
  {
   "cell_type": "markdown",
   "metadata": {},
   "source": [
    "Now that we've define our custom module, let's see it in action. The below model ia archecturially the same as in the previous lesson. Can you see the connection?"
   ]
  },
  {
   "cell_type": "code",
   "metadata": {
    "executionInfo": {
     "elapsed": 2,
     "status": "ok",
     "timestamp": 1715241351435,
     "user": {
      "displayName": "Danielle Detering US",
      "userId": "15432464718872067879"
     },
     "user_tz": 420
    },
    "id": "I0A_7iJvB8Kc",
    "ExecuteTime": {
     "end_time": "2025-08-09T02:12:50.240573Z",
     "start_time": "2025-08-09T02:12:50.224091Z"
    }
   },
   "source": [
    "flattened_img_size = 75 * 3 * 3\n",
    "\n",
    "# Input 1 x 28 x 28\n",
    "base_model = nn.Sequential(\n",
    "    MyConvBlock(IMG_CHS, 25, 0), # 25 x 14 x 14\n",
    "    MyConvBlock(25, 50, 0.2), # 50 x 7 x 7\n",
    "    MyConvBlock(50, 75, 0),  # 75 x 3 x 3\n",
    "    # Flatten to Dense Layers\n",
    "    nn.Flatten(),\n",
    "    nn.Linear(flattened_img_size, 512),\n",
    "    nn.Dropout(.3),\n",
    "    nn.ReLU(),\n",
    "    nn.Linear(512, N_CLASSES)\n",
    ")"
   ],
   "outputs": [],
   "execution_count": 4
  },
  {
   "cell_type": "markdown",
   "metadata": {},
   "source": [
    "When we print the model, not only will it now show the use of our custom module, it will also show the layers within our custom module:"
   ]
  },
  {
   "cell_type": "code",
   "metadata": {
    "colab": {
     "base_uri": "https://localhost:8080/"
    },
    "executionInfo": {
     "elapsed": 465,
     "status": "ok",
     "timestamp": 1715241354080,
     "user": {
      "displayName": "Danielle Detering US",
      "userId": "15432464718872067879"
     },
     "user_tz": 420
    },
    "id": "4THc2t0HhNcv",
    "outputId": "e25d69a9-e51a-4a90-90df-dc69a586f54b",
    "ExecuteTime": {
     "end_time": "2025-08-09T02:12:53.710212Z",
     "start_time": "2025-08-09T02:12:52.461844Z"
    }
   },
   "source": [
    "loss_function = nn.CrossEntropyLoss()\n",
    "optimizer = Adam(base_model.parameters())\n",
    "\n",
    "model = torch.compile(base_model.to(device))\n",
    "model"
   ],
   "outputs": [
    {
     "data": {
      "text/plain": [
       "OptimizedModule(\n",
       "  (_orig_mod): Sequential(\n",
       "    (0): MyConvBlock(\n",
       "      (model): Sequential(\n",
       "        (0): Conv2d(1, 25, kernel_size=(3, 3), stride=(1, 1), padding=(1, 1))\n",
       "        (1): BatchNorm2d(25, eps=1e-05, momentum=0.1, affine=True, track_running_stats=True)\n",
       "        (2): ReLU()\n",
       "        (3): Dropout(p=0, inplace=False)\n",
       "        (4): MaxPool2d(kernel_size=2, stride=2, padding=0, dilation=1, ceil_mode=False)\n",
       "      )\n",
       "    )\n",
       "    (1): MyConvBlock(\n",
       "      (model): Sequential(\n",
       "        (0): Conv2d(25, 50, kernel_size=(3, 3), stride=(1, 1), padding=(1, 1))\n",
       "        (1): BatchNorm2d(50, eps=1e-05, momentum=0.1, affine=True, track_running_stats=True)\n",
       "        (2): ReLU()\n",
       "        (3): Dropout(p=0.2, inplace=False)\n",
       "        (4): MaxPool2d(kernel_size=2, stride=2, padding=0, dilation=1, ceil_mode=False)\n",
       "      )\n",
       "    )\n",
       "    (2): MyConvBlock(\n",
       "      (model): Sequential(\n",
       "        (0): Conv2d(50, 75, kernel_size=(3, 3), stride=(1, 1), padding=(1, 1))\n",
       "        (1): BatchNorm2d(75, eps=1e-05, momentum=0.1, affine=True, track_running_stats=True)\n",
       "        (2): ReLU()\n",
       "        (3): Dropout(p=0, inplace=False)\n",
       "        (4): MaxPool2d(kernel_size=2, stride=2, padding=0, dilation=1, ceil_mode=False)\n",
       "      )\n",
       "    )\n",
       "    (3): Flatten(start_dim=1, end_dim=-1)\n",
       "    (4): Linear(in_features=675, out_features=512, bias=True)\n",
       "    (5): Dropout(p=0.3, inplace=False)\n",
       "    (6): ReLU()\n",
       "    (7): Linear(in_features=512, out_features=24, bias=True)\n",
       "  )\n",
       ")"
      ]
     },
     "execution_count": 5,
     "metadata": {},
     "output_type": "execute_result"
    }
   ],
   "execution_count": 5
  },
  {
   "cell_type": "markdown",
   "metadata": {},
   "source": [
    "Custom modules are flexible, and we can define any other methods or properties we wish to have. This makes them powerful when data scientists are trying to solve complex problems."
   ]
  },
  {
   "cell_type": "markdown",
   "metadata": {
    "id": "kjBNCzfc3Y-j"
   },
   "source": [
    "## 4a.4 Data Augmentation"
   ]
  },
  {
   "cell_type": "markdown",
   "metadata": {
    "id": "y8HdHKtM3Y-j"
   },
   "source": [
    "Before defining our training loop, it's time to set up our data augmentation.\n",
    "\n",
    "We've seen [TorchVision](https://pytorch.org/vision/stable/index.html)'s [Transforms](https://pytorch.org/vision/0.9/transforms.html) before, but in this lesson, we will further explore its data augmentation tools. First, let's get a sample image to test with:"
   ]
  },
  {
   "cell_type": "code",
   "metadata": {
    "colab": {
     "base_uri": "https://localhost:8080/"
    },
    "executionInfo": {
     "elapsed": 312,
     "status": "ok",
     "timestamp": 1715241358482,
     "user": {
      "displayName": "Danielle Detering US",
      "userId": "15432464718872067879"
     },
     "user_tz": 420
    },
    "id": "-LT7NvrXhYwB",
    "outputId": "4c1c1af4-811b-46d7-fa73-594772907549",
    "ExecuteTime": {
     "end_time": "2025-08-09T02:13:35.908966Z",
     "start_time": "2025-08-09T02:13:35.879116Z"
    }
   },
   "source": [
    "row_0 = train_df.head(1)\n",
    "y_0 = row_0.pop('label')\n",
    "x_0 = row_0.values / 255\n",
    "x_0 = x_0.reshape(IMG_CHS, IMG_WIDTH, IMG_HEIGHT)\n",
    "x_0 = torch.tensor(x_0)\n",
    "x_0.shape"
   ],
   "outputs": [
    {
     "data": {
      "text/plain": [
       "torch.Size([1, 28, 28])"
      ]
     },
     "execution_count": 6,
     "metadata": {},
     "output_type": "execute_result"
    }
   ],
   "execution_count": 6
  },
  {
   "cell_type": "code",
   "metadata": {
    "colab": {
     "base_uri": "https://localhost:8080/",
     "height": 447
    },
    "executionInfo": {
     "elapsed": 332,
     "status": "ok",
     "timestamp": 1715241364072,
     "user": {
      "displayName": "Danielle Detering US",
      "userId": "15432464718872067879"
     },
     "user_tz": 420
    },
    "id": "XKFRYIpvkUEF",
    "outputId": "fb3f72ab-ce59-4bfc-a54a-0a4d575e497c",
    "ExecuteTime": {
     "end_time": "2025-08-09T02:14:20.752436Z",
     "start_time": "2025-08-09T02:14:19.513583Z"
    }
   },
   "source": [
    "image = F.to_pil_image(x_0)\n",
    "plt.imshow(image, cmap='gray')"
   ],
   "outputs": [
    {
     "data": {
      "text/plain": [
       "<matplotlib.image.AxesImage at 0x1ec1d943e90>"
      ]
     },
     "execution_count": 7,
     "metadata": {},
     "output_type": "execute_result"
    },
    {
     "data": {
      "text/plain": [
       "<Figure size 640x480 with 1 Axes>"
      ],
      "image/png": "[encoded data removed]"
     },
     "metadata": {},
     "output_type": "display_data"
    }
   ],
   "execution_count": 7
  },
  {
   "cell_type": "markdown",
   "metadata": {},
   "source": [
    "### 4a.4.1 [RandomResizeCrop](https://pytorch.org/vision/0.9/transforms.html#torchvision.transforms.RandomResizedCrop)"
   ]
  },
  {
   "cell_type": "markdown",
   "metadata": {},
   "source": [
    "This transform will randomly resize the input image based on `scale`, and then [crop](https://en.wikipedia.org/wiki/Cropping_(image)) it to a size we specify. In this case, we will crop it to the original image dimensions. To do this, TorchVision needs to know the [aspect ratio](https://en.wikipedia.org/wiki/Aspect_ratio_(image)) of the image it is scaling. Since our height is the same as our width, our aspect `ratio` is 1:1."
   ]
  },
  {
   "cell_type": "code",
   "metadata": {
    "executionInfo": {
     "elapsed": 2,
     "status": "ok",
     "timestamp": 1715241375000,
     "user": {
      "displayName": "Danielle Detering US",
      "userId": "15432464718872067879"
     },
     "user_tz": 420
    },
    "id": "qWINTqKypE5J",
    "ExecuteTime": {
     "end_time": "2025-08-09T02:15:30.295337Z",
     "start_time": "2025-08-09T02:15:30.278593Z"
    }
   },
   "source": [
    "trans = transforms.Compose([\n",
    "    transforms.RandomResizedCrop((IMG_WIDTH, IMG_HEIGHT), scale=(.7, 1), ratio=(1, 1)),\n",
    "])"
   ],
   "outputs": [],
   "execution_count": 8
  },
  {
   "cell_type": "markdown",
   "metadata": {},
   "source": [
    "Try running the below cell a few times. It should be different each time."
   ]
  },
  {
   "cell_type": "code",
   "metadata": {
    "colab": {
     "base_uri": "https://localhost:8080/",
     "height": 447
    },
    "executionInfo": {
     "elapsed": 507,
     "status": "ok",
     "timestamp": 1715241377237,
     "user": {
      "displayName": "Danielle Detering US",
      "userId": "15432464718872067879"
     },
     "user_tz": 420
    },
    "id": "6ZugUNuJpPG2",
    "outputId": "52caec17-6a25-4484-c2f4-2aed78b5ffe8",
    "ExecuteTime": {
     "end_time": "2025-08-09T02:18:03.494976Z",
     "start_time": "2025-08-09T02:18:03.238253Z"
    }
   },
   "source": [
    "new_x_0 = trans(x_0)\n",
    "image = F.to_pil_image(new_x_0)\n",
    "plt.imshow(image, cmap='gray')"
   ],
   "outputs": [
    {
     "data": {
      "text/plain": [
       "<matplotlib.image.AxesImage at 0x1ec432ccaa0>"
      ]
     },
     "execution_count": 9,
     "metadata": {},
     "output_type": "execute_result"
    },
    {
     "data": {
      "text/plain": [
       "<Figure size 640x480 with 1 Axes>"
      ],
      "image/png": "[encoded data removed]"
     },
     "metadata": {},
     "output_type": "display_data"
    }
   ],
   "execution_count": 9
  },
  {
   "cell_type": "code",
   "metadata": {
    "colab": {
     "base_uri": "https://localhost:8080/"
    },
    "executionInfo": {
     "elapsed": 333,
     "status": "ok",
     "timestamp": 1715241385987,
     "user": {
      "displayName": "Danielle Detering US",
      "userId": "15432464718872067879"
     },
     "user_tz": 420
    },
    "id": "8VQJ1vwKp4nJ",
    "outputId": "63521e3a-5a63-48c8-8823-bd60d6814b64",
    "ExecuteTime": {
     "end_time": "2025-08-09T02:18:33.354730Z",
     "start_time": "2025-08-09T02:18:33.348832Z"
    }
   },
   "source": [
    "new_x_0.shape"
   ],
   "outputs": [
    {
     "data": {
      "text/plain": [
       "torch.Size([1, 28, 28])"
      ]
     },
     "execution_count": 10,
     "metadata": {},
     "output_type": "execute_result"
    }
   ],
   "execution_count": 10
  },
  {
   "cell_type": "markdown",
   "metadata": {},
   "source": [
    "### 4a.4.2 [RandomHorizontalFlip](https://pytorch.org/vision/0.9/transforms.html#torchvision.transforms.RandomHorizontalFlip)"
   ]
  },
  {
   "cell_type": "markdown",
   "metadata": {
    "id": "Yrmm_inJ3Y-j"
   },
   "source": [
    "We can also randomly flip our images [Horizontally](https://pytorch.org/vision/0.9/transforms.html#torchvision.transforms.RandomHorizontalFlip) or [Vertically](https://pytorch.org/vision/0.9/transforms.html#torchvision.transforms.RandomVerticalFlip). However, for these images, we will only flip them horizontally.\n",
    "\n",
    "Take a moment to think about why we would want to flip images horizontally, but not vertically. When you have an idea, reveal the text below."
   ]
  },
  {
   "cell_type": "markdown",
   "metadata": {
    "id": "XCLufCeF3Y-j"
   },
   "source": [
    "`# SOLUTION` Fun fact: American Sign Language can be done with either the left or right hand being dominant. However, it is unlikely to see sign language from upside down. This kind of domain-specific reasoning can help make good decisions for your own deep learning applications."
   ]
  },
  {
   "cell_type": "code",
   "metadata": {
    "ExecuteTime": {
     "end_time": "2025-08-09T02:19:54.631250Z",
     "start_time": "2025-08-09T02:19:54.625373Z"
    }
   },
   "source": [
    "trans = transforms.Compose([\n",
    "    transforms.RandomHorizontalFlip()\n",
    "])"
   ],
   "outputs": [],
   "execution_count": 11
  },
  {
   "cell_type": "markdown",
   "metadata": {},
   "source": [
    "Try running the below cell a few times. Does the image flip about half the time?"
   ]
  },
  {
   "cell_type": "code",
   "metadata": {
    "ExecuteTime": {
     "end_time": "2025-08-09T02:19:56.736152Z",
     "start_time": "2025-08-09T02:19:56.608006Z"
    }
   },
   "source": [
    "new_x_0 = trans(x_0)\n",
    "image = F.to_pil_image(new_x_0)\n",
    "plt.imshow(image, cmap='gray')"
   ],
   "outputs": [
    {
     "data": {
      "text/plain": [
       "<matplotlib.image.AxesImage at 0x1ec433736b0>"
      ]
     },
     "execution_count": 12,
     "metadata": {},
     "output_type": "execute_result"
    },
    {
     "data": {
      "text/plain": [
       "<Figure size 640x480 with 1 Axes>"
      ],
      "image/png": "[encoded data removed]"
     },
     "metadata": {},
     "output_type": "display_data"
    }
   ],
   "execution_count": 12
  },
  {
   "cell_type": "markdown",
   "metadata": {},
   "source": [
    "### 4a.4.3 [RandomRotation](https://pytorch.org/vision/0.9/transforms.html#torchvision.transforms.RandomRotation)"
   ]
  },
  {
   "cell_type": "markdown",
   "metadata": {},
   "source": [
    "We can also randomly rotate the image to add more variability. Just like with with other augmentation techniques, it's easy to accidentally go too far. With ASL, if we rotate too much, our `D`s might look like `G`s and visa versa. Because of this, let's limit it to `30` degrees."
   ]
  },
  {
   "cell_type": "code",
   "metadata": {
    "ExecuteTime": {
     "end_time": "2025-08-09T02:20:35.488916Z",
     "start_time": "2025-08-09T02:20:35.484021Z"
    }
   },
   "source": [
    "trans = transforms.Compose([\n",
    "    transforms.RandomRotation(10)\n",
    "])"
   ],
   "outputs": [],
   "execution_count": 13
  },
  {
   "cell_type": "markdown",
   "metadata": {},
   "source": [
    "When we run the cell block below, some black pixels may appear. The corners or our image disappear when we rotate, and for almost every pixel we lose, we gain an empty pixel."
   ]
  },
  {
   "cell_type": "code",
   "metadata": {
    "ExecuteTime": {
     "end_time": "2025-08-09T02:20:52.429107Z",
     "start_time": "2025-08-09T02:20:52.304254Z"
    }
   },
   "source": [
    "new_x_0 = trans(x_0)\n",
    "image = F.to_pil_image(new_x_0)\n",
    "plt.imshow(image, cmap='gray')"
   ],
   "outputs": [
    {
     "data": {
      "text/plain": [
       "<matplotlib.image.AxesImage at 0x1ec43930b00>"
      ]
     },
     "execution_count": 29,
     "metadata": {},
     "output_type": "execute_result"
    },
    {
     "data": {
      "text/plain": [
       "<Figure size 640x480 with 1 Axes>"
      ],
      "image/png": "[encoded data removed]"
     },
     "metadata": {},
     "output_type": "display_data"
    }
   ],
   "execution_count": 29
  },
  {
   "cell_type": "markdown",
   "metadata": {},
   "source": [
    "### 4a.4.3 [ColorJitter](https://pytorch.org/vision/0.9/transforms.html#torchvision.transforms.ColorJitter)"
   ]
  },
  {
   "cell_type": "markdown",
   "metadata": {},
   "source": [
    "The `ColorJitter` transform has 4 arguments:\n",
    "* [brightness](https://en.wikipedia.org/wiki/Brightness)\n",
    "* [contrast](https://en.wikipedia.org/wiki/Contrast_(vision))\n",
    "* [saturation](https://en.wikipedia.org/wiki/Colorfulness#Saturation)\n",
    "* [hue](https://en.wikipedia.org/wiki/Hue)\n",
    "\n",
    "\n",
    "The latter 2 apply to color images, so we will only use the first 2 for now."
   ]
  },
  {
   "cell_type": "code",
   "metadata": {
    "ExecuteTime": {
     "end_time": "2025-08-09T02:22:16.945262Z",
     "start_time": "2025-08-09T02:22:16.938327Z"
    }
   },
   "source": [
    "brightness = 1  # Change to be from 0 to 1\n",
    "contrast = 0  # Change to be from 0 to 1\n",
    "\n",
    "trans = transforms.Compose([\n",
    "    transforms.ColorJitter(brightness=brightness, contrast=contrast)\n",
    "])"
   ],
   "outputs": [],
   "execution_count": 36
  },
  {
   "cell_type": "markdown",
   "metadata": {},
   "source": [
    "Try running the below a few times, but also try changing either `brightness` or `contrast` to `1`. Get any intersting results?"
   ]
  },
  {
   "cell_type": "code",
   "metadata": {
    "ExecuteTime": {
     "end_time": "2025-08-09T02:22:20.940631Z",
     "start_time": "2025-08-09T02:22:20.811326Z"
    }
   },
   "source": [
    "new_x_0 = trans(x_0)\n",
    "image = F.to_pil_image(new_x_0)\n",
    "plt.imshow(image, cmap='gray')"
   ],
   "outputs": [
    {
     "data": {
      "text/plain": [
       "<matplotlib.image.AxesImage at 0x1ec43afef60>"
      ]
     },
     "execution_count": 37,
     "metadata": {},
     "output_type": "execute_result"
    },
    {
     "data": {
      "text/plain": [
       "<Figure size 640x480 with 1 Axes>"
      ],
      "image/png": "[encoded data removed]"
     },
     "metadata": {},
     "output_type": "display_data"
    }
   ],
   "execution_count": 37
  },
  {
   "cell_type": "markdown",
   "metadata": {},
   "source": [
    "### 4a.3.4 [Compose](https://pytorch.org/vision/0.9/transforms.html#torchvision.transforms.Compose)"
   ]
  },
  {
   "cell_type": "markdown",
   "metadata": {},
   "source": [
    "Time to bring it all together. We can create a sequence of these random transformations with `Compose`."
   ]
  },
  {
   "cell_type": "code",
   "metadata": {
    "executionInfo": {
     "elapsed": 1,
     "status": "ok",
     "timestamp": 1715241387886,
     "user": {
      "displayName": "Danielle Detering US",
      "userId": "15432464718872067879"
     },
     "user_tz": 420
    },
    "id": "ZkXjesFKFH_b",
    "ExecuteTime": {
     "end_time": "2025-08-09T02:23:16.675929Z",
     "start_time": "2025-08-09T02:23:16.669803Z"
    }
   },
   "source": [
    "random_transforms = transforms.Compose([\n",
    "    transforms.RandomRotation(5),\n",
    "    transforms.RandomResizedCrop((IMG_WIDTH, IMG_HEIGHT), scale=(.9, 1), ratio=(1, 1)),\n",
    "    transforms.RandomHorizontalFlip(),\n",
    "    transforms.ColorJitter(brightness=.2, contrast=.5)\n",
    "])"
   ],
   "outputs": [],
   "execution_count": 38
  },
  {
   "cell_type": "markdown",
   "metadata": {},
   "source": [
    "Let's test it out. With all the different combinations how many varations are there of this one image? Infinite?"
   ]
  },
  {
   "cell_type": "code",
   "metadata": {
    "colab": {
     "base_uri": "https://localhost:8080/",
     "height": 447
    },
    "executionInfo": {
     "elapsed": 347,
     "status": "ok",
     "timestamp": 1715241391170,
     "user": {
      "displayName": "Danielle Detering US",
      "userId": "15432464718872067879"
     },
     "user_tz": 420
    },
    "id": "ewG_7NAgqEnf",
    "outputId": "24142f9f-286f-42ab-9769-bfd38c9defbf",
    "ExecuteTime": {
     "end_time": "2025-08-09T02:23:28.384673Z",
     "start_time": "2025-08-09T02:23:28.110829Z"
    }
   },
   "source": [
    "new_x_0 = random_transforms(x_0)\n",
    "image = F.to_pil_image(new_x_0)\n",
    "plt.imshow(image, cmap='gray')"
   ],
   "outputs": [
    {
     "data": {
      "text/plain": [
       "<matplotlib.image.AxesImage at 0x1ec43da92e0>"
      ]
     },
     "execution_count": 45,
     "metadata": {},
     "output_type": "execute_result"
    },
    {
     "data": {
      "text/plain": [
       "<Figure size 640x480 with 1 Axes>"
      ],
      "image/png": "[encoded data removed]"
     },
     "metadata": {},
     "output_type": "display_data"
    }
   ],
   "execution_count": 45
  },
  {
   "cell_type": "markdown",
   "metadata": {},
   "source": [
    "### 4a.4 Training with Augmentation"
   ]
  },
  {
   "cell_type": "markdown",
   "metadata": {},
   "source": [
    "Our training is mostly the same, but there is one line of change. Before passing our images to our model, we will apply our `random_transforms`. For conveneince, we moved `get_batch_accuracy` to a [utils](./utils.py) file."
   ]
  },
  {
   "cell_type": "code",
   "metadata": {
    "executionInfo": {
     "elapsed": 317,
     "status": "ok",
     "timestamp": 1715241479297,
     "user": {
      "displayName": "Danielle Detering US",
      "userId": "15432464718872067879"
     },
     "user_tz": 420
    },
    "id": "IcgAmvx7rI13",
    "ExecuteTime": {
     "end_time": "2025-08-09T02:23:37.357995Z",
     "start_time": "2025-08-09T02:23:37.351115Z"
    }
   },
   "source": [
    "def train():\n",
    "    loss = 0\n",
    "    accuracy = 0\n",
    "\n",
    "    model.train()\n",
    "    for x, y in train_loader:\n",
    "        output = model(random_transforms(x))  # Updated\n",
    "        optimizer.zero_grad()\n",
    "        batch_loss = loss_function(output, y)\n",
    "        batch_loss.backward()\n",
    "        optimizer.step()\n",
    "\n",
    "        loss += batch_loss.item()\n",
    "        accuracy += utils.get_batch_accuracy(output, y, train_N)\n",
    "    print('Train - Loss: {:.4f} Accuracy: {:.4f}'.format(loss, accuracy))"
   ],
   "outputs": [],
   "execution_count": 46
  },
  {
   "cell_type": "markdown",
   "metadata": {},
   "source": [
    "On the other hamd, validation remains the same. There are no random transformations. "
   ]
  },
  {
   "cell_type": "code",
   "metadata": {
    "executionInfo": {
     "elapsed": 382,
     "status": "ok",
     "timestamp": 1715241482250,
     "user": {
      "displayName": "Danielle Detering US",
      "userId": "15432464718872067879"
     },
     "user_tz": 420
    },
    "id": "iXc6lnRAR4qZ",
    "ExecuteTime": {
     "end_time": "2025-08-09T02:24:10.889032Z",
     "start_time": "2025-08-09T02:24:10.883310Z"
    }
   },
   "source": [
    "def validate():\n",
    "    loss = 0\n",
    "    accuracy = 0\n",
    "\n",
    "    model.eval()\n",
    "    with torch.no_grad():\n",
    "        for x, y in valid_loader:\n",
    "            output = model(x)\n",
    "\n",
    "            loss += loss_function(output, y).item()\n",
    "            accuracy += utils.get_batch_accuracy(output, y, valid_N)\n",
    "    print('Valid - Loss: {:.4f} Accuracy: {:.4f}'.format(loss, accuracy))"
   ],
   "outputs": [],
   "execution_count": 47
  },
  {
   "cell_type": "markdown",
   "metadata": {},
   "source": [
    "Let's put data augmentation to the test. "
   ]
  },
  {
   "cell_type": "code",
   "metadata": {
    "colab": {
     "base_uri": "https://localhost:8080/"
    },
    "executionInfo": {
     "elapsed": 45384,
     "status": "ok",
     "timestamp": 1715241529445,
     "user": {
      "displayName": "Danielle Detering US",
      "userId": "15432464718872067879"
     },
     "user_tz": 420
    },
    "id": "isjOJIVArTLR",
    "outputId": "5d4b6a5f-2ad9-4276-d65e-d84b9874ec3b",
    "ExecuteTime": {
     "end_time": "2025-08-09T02:38:56.056852Z",
     "start_time": "2025-08-09T02:24:41.249058Z"
    }
   },
   "source": [
    "epochs = 20\n",
    "torch._dynamo.config.suppress_errors = True  # Bỏ qua lỗi biên dịch\n",
    "for epoch in range(epochs):\n",
    "    print('Epoch: {}'.format(epoch))\n",
    "    train()\n",
    "    validate()"
   ],
   "outputs": [
    {
     "name": "stdout",
     "output_type": "stream",
     "text": [
      "Epoch: 0\n"
     ]
    },
    {
     "name": "stderr",
     "output_type": "stream",
     "text": [
      "W0809 09:24:42.798000 16676 .venv\\Lib\\site-packages\\torch\\_dynamo\\convert_frame.py:1280] WON'T CONVERT inner D:\\PycharmProjects\\NVIDIA-Fundamentals-of-Deep-Learning\\.venv\\Lib\\site-packages\\torch\\_dynamo\\external_utils.py line 68 \n",
      "W0809 09:24:42.798000 16676 .venv\\Lib\\site-packages\\torch\\_dynamo\\convert_frame.py:1280] due to: \n",
      "W0809 09:24:42.798000 16676 .venv\\Lib\\site-packages\\torch\\_dynamo\\convert_frame.py:1280] Traceback (most recent call last):\n",
      "W0809 09:24:42.798000 16676 .venv\\Lib\\site-packages\\torch\\_dynamo\\convert_frame.py:1280]   File \"D:\\PycharmProjects\\NVIDIA-Fundamentals-of-Deep-Learning\\.venv\\Lib\\site-packages\\torch\\_dynamo\\convert_frame.py\", line 1213, in __call__\n",
      "W0809 09:24:42.798000 16676 .venv\\Lib\\site-packages\\torch\\_dynamo\\convert_frame.py:1280]     result = self._inner_convert(\n",
      "W0809 09:24:42.798000 16676 .venv\\Lib\\site-packages\\torch\\_dynamo\\convert_frame.py:1280]              ^^^^^^^^^^^^^^^^^^^^\n",
      "W0809 09:24:42.798000 16676 .venv\\Lib\\site-packages\\torch\\_dynamo\\convert_frame.py:1280]   File \"D:\\PycharmProjects\\NVIDIA-Fundamentals-of-Deep-Learning\\.venv\\Lib\\site-packages\\torch\\_dynamo\\convert_frame.py\", line 598, in __call__\n",
      "W0809 09:24:42.798000 16676 .venv\\Lib\\site-packages\\torch\\_dynamo\\convert_frame.py:1280]     return _compile(\n",
      "W0809 09:24:42.798000 16676 .venv\\Lib\\site-packages\\torch\\_dynamo\\convert_frame.py:1280]            ^^^^^^^^^\n",
      "W0809 09:24:42.798000 16676 .venv\\Lib\\site-packages\\torch\\_dynamo\\convert_frame.py:1280]   File \"D:\\PycharmProjects\\NVIDIA-Fundamentals-of-Deep-Learning\\.venv\\Lib\\site-packages\\torch\\_dynamo\\convert_frame.py\", line 1059, in _compile\n",
      "W0809 09:24:42.798000 16676 .venv\\Lib\\site-packages\\torch\\_dynamo\\convert_frame.py:1280]     guarded_code = compile_inner(code, one_graph, hooks, transform)\n",
      "W0809 09:24:42.798000 16676 .venv\\Lib\\site-packages\\torch\\_dynamo\\convert_frame.py:1280]                    ^^^^^^^^^^^^^^^^^^^^^^^^^^^^^^^^^^^^^^^^^^^^^^^^\n",
      "W0809 09:24:42.798000 16676 .venv\\Lib\\site-packages\\torch\\_dynamo\\convert_frame.py:1280]   File \"D:\\PycharmProjects\\NVIDIA-Fundamentals-of-Deep-Learning\\.venv\\Lib\\site-packages\\torch\\_utils_internal.py\", line 97, in wrapper_function\n",
      "W0809 09:24:42.798000 16676 .venv\\Lib\\site-packages\\torch\\_dynamo\\convert_frame.py:1280]     return function(*args, **kwargs)\n",
      "W0809 09:24:42.798000 16676 .venv\\Lib\\site-packages\\torch\\_dynamo\\convert_frame.py:1280]            ^^^^^^^^^^^^^^^^^^^^^^^^^\n",
      "W0809 09:24:42.798000 16676 .venv\\Lib\\site-packages\\torch\\_dynamo\\convert_frame.py:1280]   File \"D:\\PycharmProjects\\NVIDIA-Fundamentals-of-Deep-Learning\\.venv\\Lib\\site-packages\\torch\\_dynamo\\convert_frame.py\", line 761, in compile_inner\n",
      "W0809 09:24:42.798000 16676 .venv\\Lib\\site-packages\\torch\\_dynamo\\convert_frame.py:1280]     return _compile_inner(code, one_graph, hooks, transform)\n",
      "W0809 09:24:42.798000 16676 .venv\\Lib\\site-packages\\torch\\_dynamo\\convert_frame.py:1280]            ^^^^^^^^^^^^^^^^^^^^^^^^^^^^^^^^^^^^^^^^^^^^^^^^^\n",
      "W0809 09:24:42.798000 16676 .venv\\Lib\\site-packages\\torch\\_dynamo\\convert_frame.py:1280]   File \"D:\\PycharmProjects\\NVIDIA-Fundamentals-of-Deep-Learning\\.venv\\Lib\\site-packages\\torch\\_dynamo\\convert_frame.py\", line 797, in _compile_inner\n",
      "W0809 09:24:42.798000 16676 .venv\\Lib\\site-packages\\torch\\_dynamo\\convert_frame.py:1280]     out_code = transform_code_object(code, transform)\n",
      "W0809 09:24:42.798000 16676 .venv\\Lib\\site-packages\\torch\\_dynamo\\convert_frame.py:1280]                ^^^^^^^^^^^^^^^^^^^^^^^^^^^^^^^^^^^^^^\n",
      "W0809 09:24:42.798000 16676 .venv\\Lib\\site-packages\\torch\\_dynamo\\convert_frame.py:1280]   File \"D:\\PycharmProjects\\NVIDIA-Fundamentals-of-Deep-Learning\\.venv\\Lib\\site-packages\\torch\\_dynamo\\bytecode_transformation.py\", line 1422, in transform_code_object\n",
      "W0809 09:24:42.798000 16676 .venv\\Lib\\site-packages\\torch\\_dynamo\\convert_frame.py:1280]     transformations(instructions, code_options)\n",
      "W0809 09:24:42.798000 16676 .venv\\Lib\\site-packages\\torch\\_dynamo\\convert_frame.py:1280]   File \"D:\\PycharmProjects\\NVIDIA-Fundamentals-of-Deep-Learning\\.venv\\Lib\\site-packages\\torch\\_dynamo\\convert_frame.py\", line 257, in _fn\n",
      "W0809 09:24:42.798000 16676 .venv\\Lib\\site-packages\\torch\\_dynamo\\convert_frame.py:1280]     return fn(*args, **kwargs)\n",
      "W0809 09:24:42.798000 16676 .venv\\Lib\\site-packages\\torch\\_dynamo\\convert_frame.py:1280]            ^^^^^^^^^^^^^^^^^^^\n",
      "W0809 09:24:42.798000 16676 .venv\\Lib\\site-packages\\torch\\_dynamo\\convert_frame.py:1280]   File \"D:\\PycharmProjects\\NVIDIA-Fundamentals-of-Deep-Learning\\.venv\\Lib\\site-packages\\torch\\_dynamo\\convert_frame.py\", line 715, in transform\n",
      "W0809 09:24:42.798000 16676 .venv\\Lib\\site-packages\\torch\\_dynamo\\convert_frame.py:1280]     tracer.run()\n",
      "W0809 09:24:42.798000 16676 .venv\\Lib\\site-packages\\torch\\_dynamo\\convert_frame.py:1280]   File \"D:\\PycharmProjects\\NVIDIA-Fundamentals-of-Deep-Learning\\.venv\\Lib\\site-packages\\torch\\_dynamo\\symbolic_convert.py\", line 3498, in run\n",
      "W0809 09:24:42.798000 16676 .venv\\Lib\\site-packages\\torch\\_dynamo\\convert_frame.py:1280]     super().run()\n",
      "W0809 09:24:42.798000 16676 .venv\\Lib\\site-packages\\torch\\_dynamo\\convert_frame.py:1280]   File \"D:\\PycharmProjects\\NVIDIA-Fundamentals-of-Deep-Learning\\.venv\\Lib\\site-packages\\torch\\_dynamo\\symbolic_convert.py\", line 1337, in run\n",
      "W0809 09:24:42.798000 16676 .venv\\Lib\\site-packages\\torch\\_dynamo\\convert_frame.py:1280]     while self.step():\n",
      "W0809 09:24:42.798000 16676 .venv\\Lib\\site-packages\\torch\\_dynamo\\convert_frame.py:1280]           ^^^^^^^^^^^\n",
      "W0809 09:24:42.798000 16676 .venv\\Lib\\site-packages\\torch\\_dynamo\\convert_frame.py:1280]   File \"D:\\PycharmProjects\\NVIDIA-Fundamentals-of-Deep-Learning\\.venv\\Lib\\site-packages\\torch\\_dynamo\\symbolic_convert.py\", line 1246, in step\n",
      "W0809 09:24:42.798000 16676 .venv\\Lib\\site-packages\\torch\\_dynamo\\convert_frame.py:1280]     self.dispatch_table[inst.opcode](self, inst)\n",
      "W0809 09:24:42.798000 16676 .venv\\Lib\\site-packages\\torch\\_dynamo\\convert_frame.py:1280]   File \"D:\\PycharmProjects\\NVIDIA-Fundamentals-of-Deep-Learning\\.venv\\Lib\\site-packages\\torch\\_dynamo\\symbolic_convert.py\", line 3699, in RETURN_VALUE\n",
      "W0809 09:24:42.798000 16676 .venv\\Lib\\site-packages\\torch\\_dynamo\\convert_frame.py:1280]     self._return(inst)\n",
      "W0809 09:24:42.798000 16676 .venv\\Lib\\site-packages\\torch\\_dynamo\\convert_frame.py:1280]   File \"D:\\PycharmProjects\\NVIDIA-Fundamentals-of-Deep-Learning\\.venv\\Lib\\site-packages\\torch\\_dynamo\\symbolic_convert.py\", line 3684, in _return\n",
      "W0809 09:24:42.798000 16676 .venv\\Lib\\site-packages\\torch\\_dynamo\\convert_frame.py:1280]     self.output.compile_subgraph(\n",
      "W0809 09:24:42.798000 16676 .venv\\Lib\\site-packages\\torch\\_dynamo\\convert_frame.py:1280]   File \"D:\\PycharmProjects\\NVIDIA-Fundamentals-of-Deep-Learning\\.venv\\Lib\\site-packages\\torch\\_dynamo\\output_graph.py\", line 1144, in compile_subgraph\n",
      "W0809 09:24:42.798000 16676 .venv\\Lib\\site-packages\\torch\\_dynamo\\convert_frame.py:1280]     self.compile_and_call_fx_graph(\n",
      "W0809 09:24:42.798000 16676 .venv\\Lib\\site-packages\\torch\\_dynamo\\convert_frame.py:1280]   File \"D:\\PycharmProjects\\NVIDIA-Fundamentals-of-Deep-Learning\\.venv\\Lib\\site-packages\\torch\\_dynamo\\output_graph.py\", line 1437, in compile_and_call_fx_graph\n",
      "W0809 09:24:42.798000 16676 .venv\\Lib\\site-packages\\torch\\_dynamo\\convert_frame.py:1280]     compiled_fn = self.call_user_compiler(gm)\n",
      "W0809 09:24:42.798000 16676 .venv\\Lib\\site-packages\\torch\\_dynamo\\convert_frame.py:1280]                   ^^^^^^^^^^^^^^^^^^^^^^^^^^^\n",
      "W0809 09:24:42.798000 16676 .venv\\Lib\\site-packages\\torch\\_dynamo\\convert_frame.py:1280]   File \"D:\\PycharmProjects\\NVIDIA-Fundamentals-of-Deep-Learning\\.venv\\Lib\\site-packages\\torch\\_dynamo\\output_graph.py\", line 1487, in call_user_compiler\n",
      "W0809 09:24:42.798000 16676 .venv\\Lib\\site-packages\\torch\\_dynamo\\convert_frame.py:1280]     return self._call_user_compiler(gm)\n",
      "W0809 09:24:42.798000 16676 .venv\\Lib\\site-packages\\torch\\_dynamo\\convert_frame.py:1280]            ^^^^^^^^^^^^^^^^^^^^^^^^^^^^\n",
      "W0809 09:24:42.798000 16676 .venv\\Lib\\site-packages\\torch\\_dynamo\\convert_frame.py:1280]   File \"D:\\PycharmProjects\\NVIDIA-Fundamentals-of-Deep-Learning\\.venv\\Lib\\site-packages\\torch\\_dynamo\\output_graph.py\", line 1519, in _call_user_compiler\n",
      "W0809 09:24:42.798000 16676 .venv\\Lib\\site-packages\\torch\\_dynamo\\convert_frame.py:1280]     compiled_fn = compiler_fn(gm, self.example_inputs())\n",
      "W0809 09:24:42.798000 16676 .venv\\Lib\\site-packages\\torch\\_dynamo\\convert_frame.py:1280]                   ^^^^^^^^^^^^^^^^^^^^^^^^^^^^^^^^^^^^^^\n",
      "W0809 09:24:42.798000 16676 .venv\\Lib\\site-packages\\torch\\_dynamo\\convert_frame.py:1280]   File \"D:\\PycharmProjects\\NVIDIA-Fundamentals-of-Deep-Learning\\.venv\\Lib\\site-packages\\torch\\_dynamo\\repro\\after_dynamo.py\", line 150, in __call__\n",
      "W0809 09:24:42.798000 16676 .venv\\Lib\\site-packages\\torch\\_dynamo\\convert_frame.py:1280]     compiled_gm = compiler_fn(gm, example_inputs)\n",
      "W0809 09:24:42.798000 16676 .venv\\Lib\\site-packages\\torch\\_dynamo\\convert_frame.py:1280]                   ^^^^^^^^^^^^^^^^^^^^^^^^^^^^^^^\n",
      "W0809 09:24:42.798000 16676 .venv\\Lib\\site-packages\\torch\\_dynamo\\convert_frame.py:1280]   File \"D:\\PycharmProjects\\NVIDIA-Fundamentals-of-Deep-Learning\\.venv\\Lib\\site-packages\\torch\\__init__.py\", line 2347, in __call__\n",
      "W0809 09:24:42.798000 16676 .venv\\Lib\\site-packages\\torch\\_dynamo\\convert_frame.py:1280]     return compile_fx(model_, inputs_, config_patches=self.config)\n",
      "W0809 09:24:42.798000 16676 .venv\\Lib\\site-packages\\torch\\_dynamo\\convert_frame.py:1280]            ^^^^^^^^^^^^^^^^^^^^^^^^^^^^^^^^^^^^^^^^^^^^^^^^^^^^^^^\n",
      "W0809 09:24:42.798000 16676 .venv\\Lib\\site-packages\\torch\\_dynamo\\convert_frame.py:1280]   File \"D:\\PycharmProjects\\NVIDIA-Fundamentals-of-Deep-Learning\\.venv\\Lib\\site-packages\\torch\\_inductor\\compile_fx.py\", line 2100, in compile_fx\n",
      "W0809 09:24:42.798000 16676 .venv\\Lib\\site-packages\\torch\\_dynamo\\convert_frame.py:1280]     raise e.remove_dynamo_frames() from None  # see TORCHDYNAMO_VERBOSE=1\n",
      "W0809 09:24:42.798000 16676 .venv\\Lib\\site-packages\\torch\\_dynamo\\convert_frame.py:1280]     ^^^^^^^^^^^^^^^^^^^^^^^^^^^^^^^^^^^^^^^^\n",
      "W0809 09:24:42.798000 16676 .venv\\Lib\\site-packages\\torch\\_dynamo\\convert_frame.py:1280]   File \"D:\\PycharmProjects\\NVIDIA-Fundamentals-of-Deep-Learning\\.venv\\Lib\\site-packages\\torch\\_inductor\\compile_fx.py\", line 760, in _compile_fx_inner\n",
      "W0809 09:24:42.798000 16676 .venv\\Lib\\site-packages\\torch\\_dynamo\\convert_frame.py:1280]     raise InductorError(e, currentframe()).with_traceback(\n",
      "W0809 09:24:42.798000 16676 .venv\\Lib\\site-packages\\torch\\_dynamo\\convert_frame.py:1280]   File \"D:\\PycharmProjects\\NVIDIA-Fundamentals-of-Deep-Learning\\.venv\\Lib\\site-packages\\torch\\_inductor\\compile_fx.py\", line 745, in _compile_fx_inner\n",
      "W0809 09:24:42.798000 16676 .venv\\Lib\\site-packages\\torch\\_dynamo\\convert_frame.py:1280]     mb_compiled_graph = fx_codegen_and_compile(\n",
      "W0809 09:24:42.798000 16676 .venv\\Lib\\site-packages\\torch\\_dynamo\\convert_frame.py:1280]                         ^^^^^^^^^^^^^^^^^^^^^^^\n",
      "W0809 09:24:42.798000 16676 .venv\\Lib\\site-packages\\torch\\_dynamo\\convert_frame.py:1280]   File \"D:\\PycharmProjects\\NVIDIA-Fundamentals-of-Deep-Learning\\.venv\\Lib\\site-packages\\torch\\_inductor\\compile_fx.py\", line 1295, in fx_codegen_and_compile\n",
      "W0809 09:24:42.798000 16676 .venv\\Lib\\site-packages\\torch\\_dynamo\\convert_frame.py:1280]     return scheme.codegen_and_compile(gm, example_inputs, inputs_to_check, graph_kwargs)\n",
      "W0809 09:24:42.798000 16676 .venv\\Lib\\site-packages\\torch\\_dynamo\\convert_frame.py:1280]            ^^^^^^^^^^^^^^^^^^^^^^^^^^^^^^^^^^^^^^^^^^^^^^^^^^^^^^^^^^^^^^^^^^^^^^^^^^^^^\n",
      "W0809 09:24:42.798000 16676 .venv\\Lib\\site-packages\\torch\\_dynamo\\convert_frame.py:1280]   File \"D:\\PycharmProjects\\NVIDIA-Fundamentals-of-Deep-Learning\\.venv\\Lib\\site-packages\\torch\\_inductor\\compile_fx.py\", line 1197, in codegen_and_compile\n",
      "W0809 09:24:42.798000 16676 .venv\\Lib\\site-packages\\torch\\_dynamo\\convert_frame.py:1280]     compiled_fn = graph.compile_to_module().call\n",
      "W0809 09:24:42.798000 16676 .venv\\Lib\\site-packages\\torch\\_dynamo\\convert_frame.py:1280]                   ^^^^^^^^^^^^^^^^^^^^^^^^^\n",
      "W0809 09:24:42.798000 16676 .venv\\Lib\\site-packages\\torch\\_dynamo\\convert_frame.py:1280]   File \"D:\\PycharmProjects\\NVIDIA-Fundamentals-of-Deep-Learning\\.venv\\Lib\\site-packages\\torch\\_inductor\\graph.py\", line 2083, in compile_to_module\n",
      "W0809 09:24:42.798000 16676 .venv\\Lib\\site-packages\\torch\\_dynamo\\convert_frame.py:1280]     return self._compile_to_module()\n",
      "W0809 09:24:42.798000 16676 .venv\\Lib\\site-packages\\torch\\_dynamo\\convert_frame.py:1280]            ^^^^^^^^^^^^^^^^^^^^^^^^^\n",
      "W0809 09:24:42.798000 16676 .venv\\Lib\\site-packages\\torch\\_dynamo\\convert_frame.py:1280]   File \"D:\\PycharmProjects\\NVIDIA-Fundamentals-of-Deep-Learning\\.venv\\Lib\\site-packages\\torch\\_inductor\\graph.py\", line 2091, in _compile_to_module\n",
      "W0809 09:24:42.798000 16676 .venv\\Lib\\site-packages\\torch\\_dynamo\\convert_frame.py:1280]     self.codegen_with_cpp_wrapper() if self.cpp_wrapper else self.codegen()\n",
      "W0809 09:24:42.798000 16676 .venv\\Lib\\site-packages\\torch\\_dynamo\\convert_frame.py:1280]                                                              ^^^^^^^^^^^^^^\n",
      "W0809 09:24:42.798000 16676 .venv\\Lib\\site-packages\\torch\\_dynamo\\convert_frame.py:1280]   File \"D:\\PycharmProjects\\NVIDIA-Fundamentals-of-Deep-Learning\\.venv\\Lib\\site-packages\\torch\\_inductor\\graph.py\", line 2002, in codegen\n",
      "W0809 09:24:42.798000 16676 .venv\\Lib\\site-packages\\torch\\_dynamo\\convert_frame.py:1280]     self.scheduler.codegen()\n",
      "W0809 09:24:42.798000 16676 .venv\\Lib\\site-packages\\torch\\_dynamo\\convert_frame.py:1280]   File \"D:\\PycharmProjects\\NVIDIA-Fundamentals-of-Deep-Learning\\.venv\\Lib\\site-packages\\torch\\_inductor\\scheduler.py\", line 4135, in codegen\n",
      "W0809 09:24:42.798000 16676 .venv\\Lib\\site-packages\\torch\\_dynamo\\convert_frame.py:1280]     else self._codegen(self.nodes)\n",
      "W0809 09:24:42.798000 16676 .venv\\Lib\\site-packages\\torch\\_dynamo\\convert_frame.py:1280]          ^^^^^^^^^^^^^^^^^^^^^^^^^\n",
      "W0809 09:24:42.798000 16676 .venv\\Lib\\site-packages\\torch\\_dynamo\\convert_frame.py:1280]   File \"D:\\PycharmProjects\\NVIDIA-Fundamentals-of-Deep-Learning\\.venv\\Lib\\site-packages\\torch\\_inductor\\scheduler.py\", line 4264, in _codegen\n",
      "W0809 09:24:42.798000 16676 .venv\\Lib\\site-packages\\torch\\_dynamo\\convert_frame.py:1280]     self.get_backend(device).codegen_node(node)\n",
      "W0809 09:24:42.798000 16676 .venv\\Lib\\site-packages\\torch\\_dynamo\\convert_frame.py:1280]   File \"D:\\PycharmProjects\\NVIDIA-Fundamentals-of-Deep-Learning\\.venv\\Lib\\site-packages\\torch\\_inductor\\codegen\\cpp.py\", line 4986, in codegen_node\n",
      "W0809 09:24:42.798000 16676 .venv\\Lib\\site-packages\\torch\\_dynamo\\convert_frame.py:1280]     cpp_kernel_proxy = CppKernelProxy(kernel_group)\n",
      "W0809 09:24:42.798000 16676 .venv\\Lib\\site-packages\\torch\\_dynamo\\convert_frame.py:1280]                        ^^^^^^^^^^^^^^^^^^^^^^^^^^^^\n",
      "W0809 09:24:42.798000 16676 .venv\\Lib\\site-packages\\torch\\_dynamo\\convert_frame.py:1280]   File \"D:\\PycharmProjects\\NVIDIA-Fundamentals-of-Deep-Learning\\.venv\\Lib\\site-packages\\torch\\_inductor\\codegen\\cpp.py\", line 3734, in __init__\n",
      "W0809 09:24:42.798000 16676 .venv\\Lib\\site-packages\\torch\\_dynamo\\convert_frame.py:1280]     self.picked_vec_isa: cpu_vec_isa.VecISA = cpu_vec_isa.pick_vec_isa()\n",
      "W0809 09:24:42.798000 16676 .venv\\Lib\\site-packages\\torch\\_dynamo\\convert_frame.py:1280]                                               ^^^^^^^^^^^^^^^^^^^^^^^^^^\n",
      "W0809 09:24:42.798000 16676 .venv\\Lib\\site-packages\\torch\\_dynamo\\convert_frame.py:1280]   File \"D:\\PycharmProjects\\NVIDIA-Fundamentals-of-Deep-Learning\\.venv\\Lib\\site-packages\\torch\\_inductor\\cpu_vec_isa.py\", line 418, in pick_vec_isa\n",
      "W0809 09:24:42.798000 16676 .venv\\Lib\\site-packages\\torch\\_dynamo\\convert_frame.py:1280]     _valid_vec_isa_list: list[VecISA] = valid_vec_isa_list()\n",
      "W0809 09:24:42.798000 16676 .venv\\Lib\\site-packages\\torch\\_dynamo\\convert_frame.py:1280]                                         ^^^^^^^^^^^^^^^^^^^^\n",
      "W0809 09:24:42.798000 16676 .venv\\Lib\\site-packages\\torch\\_dynamo\\convert_frame.py:1280]   File \"D:\\PycharmProjects\\NVIDIA-Fundamentals-of-Deep-Learning\\.venv\\Lib\\site-packages\\torch\\_inductor\\cpu_vec_isa.py\", line 405, in valid_vec_isa_list\n",
      "W0809 09:24:42.798000 16676 .venv\\Lib\\site-packages\\torch\\_dynamo\\convert_frame.py:1280]     isa_list.extend(\n",
      "W0809 09:24:42.798000 16676 .venv\\Lib\\site-packages\\torch\\_dynamo\\convert_frame.py:1280]   File \"D:\\PycharmProjects\\NVIDIA-Fundamentals-of-Deep-Learning\\.venv\\Lib\\site-packages\\torch\\_inductor\\cpu_vec_isa.py\", line 408, in <genexpr>\n",
      "W0809 09:24:42.798000 16676 .venv\\Lib\\site-packages\\torch\\_dynamo\\convert_frame.py:1280]     if all(flag in _cpu_supported_x86_isa for flag in str(isa).split()) and isa\n",
      "W0809 09:24:42.798000 16676 .venv\\Lib\\site-packages\\torch\\_dynamo\\convert_frame.py:1280]                                                                             ^^^\n",
      "W0809 09:24:42.798000 16676 .venv\\Lib\\site-packages\\torch\\_dynamo\\convert_frame.py:1280]   File \"D:\\PycharmProjects\\NVIDIA-Fundamentals-of-Deep-Learning\\.venv\\Lib\\site-packages\\torch\\_inductor\\cpu_vec_isa.py\", line 142, in __bool__\n",
      "W0809 09:24:42.798000 16676 .venv\\Lib\\site-packages\\torch\\_dynamo\\convert_frame.py:1280]     return self.__bool__impl(config.cpp.vec_isa_ok)\n",
      "W0809 09:24:42.798000 16676 .venv\\Lib\\site-packages\\torch\\_dynamo\\convert_frame.py:1280]            ^^^^^^^^^^^^^^^^^^^^^^^^^^^^^^^^^^^^^^^^\n",
      "W0809 09:24:42.798000 16676 .venv\\Lib\\site-packages\\torch\\_dynamo\\convert_frame.py:1280]   File \"D:\\PycharmProjects\\NVIDIA-Fundamentals-of-Deep-Learning\\.venv\\Lib\\site-packages\\torch\\_inductor\\cpu_vec_isa.py\", line 152, in __bool__impl\n",
      "W0809 09:24:42.798000 16676 .venv\\Lib\\site-packages\\torch\\_dynamo\\convert_frame.py:1280]     return self.check_build(VecISA._avx_code)\n",
      "W0809 09:24:42.798000 16676 .venv\\Lib\\site-packages\\torch\\_dynamo\\convert_frame.py:1280]            ^^^^^^^^^^^^^^^^^^^^^^^^^^^^^^^^^^\n",
      "W0809 09:24:42.798000 16676 .venv\\Lib\\site-packages\\torch\\_dynamo\\convert_frame.py:1280]   File \"D:\\PycharmProjects\\NVIDIA-Fundamentals-of-Deep-Learning\\.venv\\Lib\\site-packages\\torch\\_inductor\\cpu_vec_isa.py\", line 102, in check_build\n",
      "W0809 09:24:42.798000 16676 .venv\\Lib\\site-packages\\torch\\_dynamo\\convert_frame.py:1280]     extra=_get_isa_dry_compile_fingerprint(self._arch_flags),\n",
      "W0809 09:24:42.798000 16676 .venv\\Lib\\site-packages\\torch\\_dynamo\\convert_frame.py:1280]           ^^^^^^^^^^^^^^^^^^^^^^^^^^^^^^^^^^^^^^^^^^^^^^^^^^\n",
      "W0809 09:24:42.798000 16676 .venv\\Lib\\site-packages\\torch\\_dynamo\\convert_frame.py:1280]   File \"D:\\PycharmProjects\\NVIDIA-Fundamentals-of-Deep-Learning\\.venv\\Lib\\site-packages\\torch\\_inductor\\cpu_vec_isa.py\", line 28, in _get_isa_dry_compile_fingerprint\n",
      "W0809 09:24:42.798000 16676 .venv\\Lib\\site-packages\\torch\\_dynamo\\convert_frame.py:1280]     compiler_info = get_compiler_version_info(get_cpp_compiler())\n",
      "W0809 09:24:42.798000 16676 .venv\\Lib\\site-packages\\torch\\_dynamo\\convert_frame.py:1280]                                               ^^^^^^^^^^^^^^^^^^\n",
      "W0809 09:24:42.798000 16676 .venv\\Lib\\site-packages\\torch\\_dynamo\\convert_frame.py:1280]   File \"D:\\PycharmProjects\\NVIDIA-Fundamentals-of-Deep-Learning\\.venv\\Lib\\site-packages\\torch\\_inductor\\cpp_builder.py\", line 148, in get_cpp_compiler\n",
      "W0809 09:24:42.798000 16676 .venv\\Lib\\site-packages\\torch\\_dynamo\\convert_frame.py:1280]     check_compiler_exist_windows(compiler)\n",
      "W0809 09:24:42.798000 16676 .venv\\Lib\\site-packages\\torch\\_dynamo\\convert_frame.py:1280]   File \"D:\\PycharmProjects\\NVIDIA-Fundamentals-of-Deep-Learning\\.venv\\Lib\\site-packages\\torch\\_inductor\\cpp_builder.py\", line 139, in check_compiler_exist_windows\n",
      "W0809 09:24:42.798000 16676 .venv\\Lib\\site-packages\\torch\\_dynamo\\convert_frame.py:1280]     raise RuntimeError(f\"Compiler: {compiler} is not found.\") from exc\n",
      "W0809 09:24:42.798000 16676 .venv\\Lib\\site-packages\\torch\\_dynamo\\convert_frame.py:1280] torch._inductor.exc.InductorError: RuntimeError: Compiler: cl is not found.\n",
      "W0809 09:24:42.798000 16676 .venv\\Lib\\site-packages\\torch\\_dynamo\\convert_frame.py:1280] \n",
      "W0809 09:24:42.798000 16676 .venv\\Lib\\site-packages\\torch\\_dynamo\\convert_frame.py:1280] Set TORCHDYNAMO_VERBOSE=1 for the internal stack trace (please do this especially if you're reporting a bug to PyTorch). For even more developer context, set TORCH_LOGS=\"+dynamo\"\n",
      "W0809 09:24:42.798000 16676 .venv\\Lib\\site-packages\\torch\\_dynamo\\convert_frame.py:1280] \n",
      "W0809 09:24:42.798000 16676 .venv\\Lib\\site-packages\\torch\\_dynamo\\convert_frame.py:1280] Traceback (most recent call last):\n",
      "W0809 09:24:42.798000 16676 .venv\\Lib\\site-packages\\torch\\_dynamo\\convert_frame.py:1280]   File \"D:\\PycharmProjects\\NVIDIA-Fundamentals-of-Deep-Learning\\.venv\\Lib\\site-packages\\torch\\_dynamo\\convert_frame.py\", line 1213, in __call__\n",
      "W0809 09:24:42.798000 16676 .venv\\Lib\\site-packages\\torch\\_dynamo\\convert_frame.py:1280]     result = self._inner_convert(\n",
      "W0809 09:24:42.798000 16676 .venv\\Lib\\site-packages\\torch\\_dynamo\\convert_frame.py:1280]              ^^^^^^^^^^^^^^^^^^^^\n",
      "W0809 09:24:42.798000 16676 .venv\\Lib\\site-packages\\torch\\_dynamo\\convert_frame.py:1280]   File \"D:\\PycharmProjects\\NVIDIA-Fundamentals-of-Deep-Learning\\.venv\\Lib\\site-packages\\torch\\_dynamo\\convert_frame.py\", line 598, in __call__\n",
      "W0809 09:24:42.798000 16676 .venv\\Lib\\site-packages\\torch\\_dynamo\\convert_frame.py:1280]     return _compile(\n",
      "W0809 09:24:42.798000 16676 .venv\\Lib\\site-packages\\torch\\_dynamo\\convert_frame.py:1280]            ^^^^^^^^^\n",
      "W0809 09:24:42.798000 16676 .venv\\Lib\\site-packages\\torch\\_dynamo\\convert_frame.py:1280]   File \"D:\\PycharmProjects\\NVIDIA-Fundamentals-of-Deep-Learning\\.venv\\Lib\\site-packages\\torch\\_dynamo\\convert_frame.py\", line 1059, in _compile\n",
      "W0809 09:24:42.798000 16676 .venv\\Lib\\site-packages\\torch\\_dynamo\\convert_frame.py:1280]     guarded_code = compile_inner(code, one_graph, hooks, transform)\n",
      "W0809 09:24:42.798000 16676 .venv\\Lib\\site-packages\\torch\\_dynamo\\convert_frame.py:1280]                    ^^^^^^^^^^^^^^^^^^^^^^^^^^^^^^^^^^^^^^^^^^^^^^^^\n",
      "W0809 09:24:42.798000 16676 .venv\\Lib\\site-packages\\torch\\_dynamo\\convert_frame.py:1280]   File \"D:\\PycharmProjects\\NVIDIA-Fundamentals-of-Deep-Learning\\.venv\\Lib\\site-packages\\torch\\_utils_internal.py\", line 97, in wrapper_function\n",
      "W0809 09:24:42.798000 16676 .venv\\Lib\\site-packages\\torch\\_dynamo\\convert_frame.py:1280]     return function(*args, **kwargs)\n",
      "W0809 09:24:42.798000 16676 .venv\\Lib\\site-packages\\torch\\_dynamo\\convert_frame.py:1280]            ^^^^^^^^^^^^^^^^^^^^^^^^^\n",
      "W0809 09:24:42.798000 16676 .venv\\Lib\\site-packages\\torch\\_dynamo\\convert_frame.py:1280]   File \"D:\\PycharmProjects\\NVIDIA-Fundamentals-of-Deep-Learning\\.venv\\Lib\\site-packages\\torch\\_dynamo\\convert_frame.py\", line 761, in compile_inner\n",
      "W0809 09:24:42.798000 16676 .venv\\Lib\\site-packages\\torch\\_dynamo\\convert_frame.py:1280]     return _compile_inner(code, one_graph, hooks, transform)\n",
      "W0809 09:24:42.798000 16676 .venv\\Lib\\site-packages\\torch\\_dynamo\\convert_frame.py:1280]            ^^^^^^^^^^^^^^^^^^^^^^^^^^^^^^^^^^^^^^^^^^^^^^^^^\n",
      "W0809 09:24:42.798000 16676 .venv\\Lib\\site-packages\\torch\\_dynamo\\convert_frame.py:1280]   File \"D:\\PycharmProjects\\NVIDIA-Fundamentals-of-Deep-Learning\\.venv\\Lib\\site-packages\\torch\\_dynamo\\convert_frame.py\", line 797, in _compile_inner\n",
      "W0809 09:24:42.798000 16676 .venv\\Lib\\site-packages\\torch\\_dynamo\\convert_frame.py:1280]     out_code = transform_code_object(code, transform)\n",
      "W0809 09:24:42.798000 16676 .venv\\Lib\\site-packages\\torch\\_dynamo\\convert_frame.py:1280]                ^^^^^^^^^^^^^^^^^^^^^^^^^^^^^^^^^^^^^^\n",
      "W0809 09:24:42.798000 16676 .venv\\Lib\\site-packages\\torch\\_dynamo\\convert_frame.py:1280]   File \"D:\\PycharmProjects\\NVIDIA-Fundamentals-of-Deep-Learning\\.venv\\Lib\\site-packages\\torch\\_dynamo\\bytecode_transformation.py\", line 1422, in transform_code_object\n",
      "W0809 09:24:42.798000 16676 .venv\\Lib\\site-packages\\torch\\_dynamo\\convert_frame.py:1280]     transformations(instructions, code_options)\n",
      "W0809 09:24:42.798000 16676 .venv\\Lib\\site-packages\\torch\\_dynamo\\convert_frame.py:1280]   File \"D:\\PycharmProjects\\NVIDIA-Fundamentals-of-Deep-Learning\\.venv\\Lib\\site-packages\\torch\\_dynamo\\convert_frame.py\", line 257, in _fn\n",
      "W0809 09:24:42.798000 16676 .venv\\Lib\\site-packages\\torch\\_dynamo\\convert_frame.py:1280]     return fn(*args, **kwargs)\n",
      "W0809 09:24:42.798000 16676 .venv\\Lib\\site-packages\\torch\\_dynamo\\convert_frame.py:1280]            ^^^^^^^^^^^^^^^^^^^\n",
      "W0809 09:24:42.798000 16676 .venv\\Lib\\site-packages\\torch\\_dynamo\\convert_frame.py:1280]   File \"D:\\PycharmProjects\\NVIDIA-Fundamentals-of-Deep-Learning\\.venv\\Lib\\site-packages\\torch\\_dynamo\\convert_frame.py\", line 715, in transform\n",
      "W0809 09:24:42.798000 16676 .venv\\Lib\\site-packages\\torch\\_dynamo\\convert_frame.py:1280]     tracer.run()\n",
      "W0809 09:24:42.798000 16676 .venv\\Lib\\site-packages\\torch\\_dynamo\\convert_frame.py:1280]   File \"D:\\PycharmProjects\\NVIDIA-Fundamentals-of-Deep-Learning\\.venv\\Lib\\site-packages\\torch\\_dynamo\\symbolic_convert.py\", line 3498, in run\n",
      "W0809 09:24:42.798000 16676 .venv\\Lib\\site-packages\\torch\\_dynamo\\convert_frame.py:1280]     super().run()\n",
      "W0809 09:24:42.798000 16676 .venv\\Lib\\site-packages\\torch\\_dynamo\\convert_frame.py:1280]   File \"D:\\PycharmProjects\\NVIDIA-Fundamentals-of-Deep-Learning\\.venv\\Lib\\site-packages\\torch\\_dynamo\\symbolic_convert.py\", line 1337, in run\n",
      "W0809 09:24:42.798000 16676 .venv\\Lib\\site-packages\\torch\\_dynamo\\convert_frame.py:1280]     while self.step():\n",
      "W0809 09:24:42.798000 16676 .venv\\Lib\\site-packages\\torch\\_dynamo\\convert_frame.py:1280]           ^^^^^^^^^^^\n",
      "W0809 09:24:42.798000 16676 .venv\\Lib\\site-packages\\torch\\_dynamo\\convert_frame.py:1280]   File \"D:\\PycharmProjects\\NVIDIA-Fundamentals-of-Deep-Learning\\.venv\\Lib\\site-packages\\torch\\_dynamo\\symbolic_convert.py\", line 1246, in step\n",
      "W0809 09:24:42.798000 16676 .venv\\Lib\\site-packages\\torch\\_dynamo\\convert_frame.py:1280]     self.dispatch_table[inst.opcode](self, inst)\n",
      "W0809 09:24:42.798000 16676 .venv\\Lib\\site-packages\\torch\\_dynamo\\convert_frame.py:1280]   File \"D:\\PycharmProjects\\NVIDIA-Fundamentals-of-Deep-Learning\\.venv\\Lib\\site-packages\\torch\\_dynamo\\symbolic_convert.py\", line 3699, in RETURN_VALUE\n",
      "W0809 09:24:42.798000 16676 .venv\\Lib\\site-packages\\torch\\_dynamo\\convert_frame.py:1280]     self._return(inst)\n",
      "W0809 09:24:42.798000 16676 .venv\\Lib\\site-packages\\torch\\_dynamo\\convert_frame.py:1280]   File \"D:\\PycharmProjects\\NVIDIA-Fundamentals-of-Deep-Learning\\.venv\\Lib\\site-packages\\torch\\_dynamo\\symbolic_convert.py\", line 3684, in _return\n",
      "W0809 09:24:42.798000 16676 .venv\\Lib\\site-packages\\torch\\_dynamo\\convert_frame.py:1280]     self.output.compile_subgraph(\n",
      "W0809 09:24:42.798000 16676 .venv\\Lib\\site-packages\\torch\\_dynamo\\convert_frame.py:1280]   File \"D:\\PycharmProjects\\NVIDIA-Fundamentals-of-Deep-Learning\\.venv\\Lib\\site-packages\\torch\\_dynamo\\output_graph.py\", line 1144, in compile_subgraph\n",
      "W0809 09:24:42.798000 16676 .venv\\Lib\\site-packages\\torch\\_dynamo\\convert_frame.py:1280]     self.compile_and_call_fx_graph(\n",
      "W0809 09:24:42.798000 16676 .venv\\Lib\\site-packages\\torch\\_dynamo\\convert_frame.py:1280]   File \"D:\\PycharmProjects\\NVIDIA-Fundamentals-of-Deep-Learning\\.venv\\Lib\\site-packages\\torch\\_dynamo\\output_graph.py\", line 1437, in compile_and_call_fx_graph\n",
      "W0809 09:24:42.798000 16676 .venv\\Lib\\site-packages\\torch\\_dynamo\\convert_frame.py:1280]     compiled_fn = self.call_user_compiler(gm)\n",
      "W0809 09:24:42.798000 16676 .venv\\Lib\\site-packages\\torch\\_dynamo\\convert_frame.py:1280]                   ^^^^^^^^^^^^^^^^^^^^^^^^^^^\n",
      "W0809 09:24:42.798000 16676 .venv\\Lib\\site-packages\\torch\\_dynamo\\convert_frame.py:1280]   File \"D:\\PycharmProjects\\NVIDIA-Fundamentals-of-Deep-Learning\\.venv\\Lib\\site-packages\\torch\\_dynamo\\output_graph.py\", line 1487, in call_user_compiler\n",
      "W0809 09:24:42.798000 16676 .venv\\Lib\\site-packages\\torch\\_dynamo\\convert_frame.py:1280]     return self._call_user_compiler(gm)\n",
      "W0809 09:24:42.798000 16676 .venv\\Lib\\site-packages\\torch\\_dynamo\\convert_frame.py:1280]            ^^^^^^^^^^^^^^^^^^^^^^^^^^^^\n",
      "W0809 09:24:42.798000 16676 .venv\\Lib\\site-packages\\torch\\_dynamo\\convert_frame.py:1280]   File \"D:\\PycharmProjects\\NVIDIA-Fundamentals-of-Deep-Learning\\.venv\\Lib\\site-packages\\torch\\_dynamo\\output_graph.py\", line 1519, in _call_user_compiler\n",
      "W0809 09:24:42.798000 16676 .venv\\Lib\\site-packages\\torch\\_dynamo\\convert_frame.py:1280]     compiled_fn = compiler_fn(gm, self.example_inputs())\n",
      "W0809 09:24:42.798000 16676 .venv\\Lib\\site-packages\\torch\\_dynamo\\convert_frame.py:1280]                   ^^^^^^^^^^^^^^^^^^^^^^^^^^^^^^^^^^^^^^\n",
      "W0809 09:24:42.798000 16676 .venv\\Lib\\site-packages\\torch\\_dynamo\\convert_frame.py:1280]   File \"D:\\PycharmProjects\\NVIDIA-Fundamentals-of-Deep-Learning\\.venv\\Lib\\site-packages\\torch\\_dynamo\\repro\\after_dynamo.py\", line 150, in __call__\n",
      "W0809 09:24:42.798000 16676 .venv\\Lib\\site-packages\\torch\\_dynamo\\convert_frame.py:1280]     compiled_gm = compiler_fn(gm, example_inputs)\n",
      "W0809 09:24:42.798000 16676 .venv\\Lib\\site-packages\\torch\\_dynamo\\convert_frame.py:1280]                   ^^^^^^^^^^^^^^^^^^^^^^^^^^^^^^^\n",
      "W0809 09:24:42.798000 16676 .venv\\Lib\\site-packages\\torch\\_dynamo\\convert_frame.py:1280]   File \"D:\\PycharmProjects\\NVIDIA-Fundamentals-of-Deep-Learning\\.venv\\Lib\\site-packages\\torch\\__init__.py\", line 2347, in __call__\n",
      "W0809 09:24:42.798000 16676 .venv\\Lib\\site-packages\\torch\\_dynamo\\convert_frame.py:1280]     return compile_fx(model_, inputs_, config_patches=self.config)\n",
      "W0809 09:24:42.798000 16676 .venv\\Lib\\site-packages\\torch\\_dynamo\\convert_frame.py:1280]            ^^^^^^^^^^^^^^^^^^^^^^^^^^^^^^^^^^^^^^^^^^^^^^^^^^^^^^^\n",
      "W0809 09:24:42.798000 16676 .venv\\Lib\\site-packages\\torch\\_dynamo\\convert_frame.py:1280]   File \"D:\\PycharmProjects\\NVIDIA-Fundamentals-of-Deep-Learning\\.venv\\Lib\\site-packages\\torch\\_inductor\\compile_fx.py\", line 2100, in compile_fx\n",
      "W0809 09:24:42.798000 16676 .venv\\Lib\\site-packages\\torch\\_dynamo\\convert_frame.py:1280]     raise e.remove_dynamo_frames() from None  # see TORCHDYNAMO_VERBOSE=1\n",
      "W0809 09:24:42.798000 16676 .venv\\Lib\\site-packages\\torch\\_dynamo\\convert_frame.py:1280]     ^^^^^^^^^^^^^^^^^^^^^^^^^^^^^^^^^^^^^^^^\n",
      "W0809 09:24:42.798000 16676 .venv\\Lib\\site-packages\\torch\\_dynamo\\convert_frame.py:1280]   File \"D:\\PycharmProjects\\NVIDIA-Fundamentals-of-Deep-Learning\\.venv\\Lib\\site-packages\\torch\\_inductor\\compile_fx.py\", line 760, in _compile_fx_inner\n",
      "W0809 09:24:42.798000 16676 .venv\\Lib\\site-packages\\torch\\_dynamo\\convert_frame.py:1280]     raise InductorError(e, currentframe()).with_traceback(\n",
      "W0809 09:24:42.798000 16676 .venv\\Lib\\site-packages\\torch\\_dynamo\\convert_frame.py:1280]   File \"D:\\PycharmProjects\\NVIDIA-Fundamentals-of-Deep-Learning\\.venv\\Lib\\site-packages\\torch\\_inductor\\compile_fx.py\", line 745, in _compile_fx_inner\n",
      "W0809 09:24:42.798000 16676 .venv\\Lib\\site-packages\\torch\\_dynamo\\convert_frame.py:1280]     mb_compiled_graph = fx_codegen_and_compile(\n",
      "W0809 09:24:42.798000 16676 .venv\\Lib\\site-packages\\torch\\_dynamo\\convert_frame.py:1280]                         ^^^^^^^^^^^^^^^^^^^^^^^\n",
      "W0809 09:24:42.798000 16676 .venv\\Lib\\site-packages\\torch\\_dynamo\\convert_frame.py:1280]   File \"D:\\PycharmProjects\\NVIDIA-Fundamentals-of-Deep-Learning\\.venv\\Lib\\site-packages\\torch\\_inductor\\compile_fx.py\", line 1295, in fx_codegen_and_compile\n",
      "W0809 09:24:42.798000 16676 .venv\\Lib\\site-packages\\torch\\_dynamo\\convert_frame.py:1280]     return scheme.codegen_and_compile(gm, example_inputs, inputs_to_check, graph_kwargs)\n",
      "W0809 09:24:42.798000 16676 .venv\\Lib\\site-packages\\torch\\_dynamo\\convert_frame.py:1280]            ^^^^^^^^^^^^^^^^^^^^^^^^^^^^^^^^^^^^^^^^^^^^^^^^^^^^^^^^^^^^^^^^^^^^^^^^^^^^^\n",
      "W0809 09:24:42.798000 16676 .venv\\Lib\\site-packages\\torch\\_dynamo\\convert_frame.py:1280]   File \"D:\\PycharmProjects\\NVIDIA-Fundamentals-of-Deep-Learning\\.venv\\Lib\\site-packages\\torch\\_inductor\\compile_fx.py\", line 1197, in codegen_and_compile\n",
      "W0809 09:24:42.798000 16676 .venv\\Lib\\site-packages\\torch\\_dynamo\\convert_frame.py:1280]     compiled_fn = graph.compile_to_module().call\n",
      "W0809 09:24:42.798000 16676 .venv\\Lib\\site-packages\\torch\\_dynamo\\convert_frame.py:1280]                   ^^^^^^^^^^^^^^^^^^^^^^^^^\n",
      "W0809 09:24:42.798000 16676 .venv\\Lib\\site-packages\\torch\\_dynamo\\convert_frame.py:1280]   File \"D:\\PycharmProjects\\NVIDIA-Fundamentals-of-Deep-Learning\\.venv\\Lib\\site-packages\\torch\\_inductor\\graph.py\", line 2083, in compile_to_module\n",
      "W0809 09:24:42.798000 16676 .venv\\Lib\\site-packages\\torch\\_dynamo\\convert_frame.py:1280]     return self._compile_to_module()\n",
      "W0809 09:24:42.798000 16676 .venv\\Lib\\site-packages\\torch\\_dynamo\\convert_frame.py:1280]            ^^^^^^^^^^^^^^^^^^^^^^^^^\n",
      "W0809 09:24:42.798000 16676 .venv\\Lib\\site-packages\\torch\\_dynamo\\convert_frame.py:1280]   File \"D:\\PycharmProjects\\NVIDIA-Fundamentals-of-Deep-Learning\\.venv\\Lib\\site-packages\\torch\\_inductor\\graph.py\", line 2091, in _compile_to_module\n",
      "W0809 09:24:42.798000 16676 .venv\\Lib\\site-packages\\torch\\_dynamo\\convert_frame.py:1280]     self.codegen_with_cpp_wrapper() if self.cpp_wrapper else self.codegen()\n",
      "W0809 09:24:42.798000 16676 .venv\\Lib\\site-packages\\torch\\_dynamo\\convert_frame.py:1280]                                                              ^^^^^^^^^^^^^^\n",
      "W0809 09:24:42.798000 16676 .venv\\Lib\\site-packages\\torch\\_dynamo\\convert_frame.py:1280]   File \"D:\\PycharmProjects\\NVIDIA-Fundamentals-of-Deep-Learning\\.venv\\Lib\\site-packages\\torch\\_inductor\\graph.py\", line 2002, in codegen\n",
      "W0809 09:24:42.798000 16676 .venv\\Lib\\site-packages\\torch\\_dynamo\\convert_frame.py:1280]     self.scheduler.codegen()\n",
      "W0809 09:24:42.798000 16676 .venv\\Lib\\site-packages\\torch\\_dynamo\\convert_frame.py:1280]   File \"D:\\PycharmProjects\\NVIDIA-Fundamentals-of-Deep-Learning\\.venv\\Lib\\site-packages\\torch\\_inductor\\scheduler.py\", line 4135, in codegen\n",
      "W0809 09:24:42.798000 16676 .venv\\Lib\\site-packages\\torch\\_dynamo\\convert_frame.py:1280]     else self._codegen(self.nodes)\n",
      "W0809 09:24:42.798000 16676 .venv\\Lib\\site-packages\\torch\\_dynamo\\convert_frame.py:1280]          ^^^^^^^^^^^^^^^^^^^^^^^^^\n",
      "W0809 09:24:42.798000 16676 .venv\\Lib\\site-packages\\torch\\_dynamo\\convert_frame.py:1280]   File \"D:\\PycharmProjects\\NVIDIA-Fundamentals-of-Deep-Learning\\.venv\\Lib\\site-packages\\torch\\_inductor\\scheduler.py\", line 4264, in _codegen\n",
      "W0809 09:24:42.798000 16676 .venv\\Lib\\site-packages\\torch\\_dynamo\\convert_frame.py:1280]     self.get_backend(device).codegen_node(node)\n",
      "W0809 09:24:42.798000 16676 .venv\\Lib\\site-packages\\torch\\_dynamo\\convert_frame.py:1280]   File \"D:\\PycharmProjects\\NVIDIA-Fundamentals-of-Deep-Learning\\.venv\\Lib\\site-packages\\torch\\_inductor\\codegen\\cpp.py\", line 4986, in codegen_node\n",
      "W0809 09:24:42.798000 16676 .venv\\Lib\\site-packages\\torch\\_dynamo\\convert_frame.py:1280]     cpp_kernel_proxy = CppKernelProxy(kernel_group)\n",
      "W0809 09:24:42.798000 16676 .venv\\Lib\\site-packages\\torch\\_dynamo\\convert_frame.py:1280]                        ^^^^^^^^^^^^^^^^^^^^^^^^^^^^\n",
      "W0809 09:24:42.798000 16676 .venv\\Lib\\site-packages\\torch\\_dynamo\\convert_frame.py:1280]   File \"D:\\PycharmProjects\\NVIDIA-Fundamentals-of-Deep-Learning\\.venv\\Lib\\site-packages\\torch\\_inductor\\codegen\\cpp.py\", line 3734, in __init__\n",
      "W0809 09:24:42.798000 16676 .venv\\Lib\\site-packages\\torch\\_dynamo\\convert_frame.py:1280]     self.picked_vec_isa: cpu_vec_isa.VecISA = cpu_vec_isa.pick_vec_isa()\n",
      "W0809 09:24:42.798000 16676 .venv\\Lib\\site-packages\\torch\\_dynamo\\convert_frame.py:1280]                                               ^^^^^^^^^^^^^^^^^^^^^^^^^^\n",
      "W0809 09:24:42.798000 16676 .venv\\Lib\\site-packages\\torch\\_dynamo\\convert_frame.py:1280]   File \"D:\\PycharmProjects\\NVIDIA-Fundamentals-of-Deep-Learning\\.venv\\Lib\\site-packages\\torch\\_inductor\\cpu_vec_isa.py\", line 418, in pick_vec_isa\n",
      "W0809 09:24:42.798000 16676 .venv\\Lib\\site-packages\\torch\\_dynamo\\convert_frame.py:1280]     _valid_vec_isa_list: list[VecISA] = valid_vec_isa_list()\n",
      "W0809 09:24:42.798000 16676 .venv\\Lib\\site-packages\\torch\\_dynamo\\convert_frame.py:1280]                                         ^^^^^^^^^^^^^^^^^^^^\n",
      "W0809 09:24:42.798000 16676 .venv\\Lib\\site-packages\\torch\\_dynamo\\convert_frame.py:1280]   File \"D:\\PycharmProjects\\NVIDIA-Fundamentals-of-Deep-Learning\\.venv\\Lib\\site-packages\\torch\\_inductor\\cpu_vec_isa.py\", line 405, in valid_vec_isa_list\n",
      "W0809 09:24:42.798000 16676 .venv\\Lib\\site-packages\\torch\\_dynamo\\convert_frame.py:1280]     isa_list.extend(\n",
      "W0809 09:24:42.798000 16676 .venv\\Lib\\site-packages\\torch\\_dynamo\\convert_frame.py:1280]   File \"D:\\PycharmProjects\\NVIDIA-Fundamentals-of-Deep-Learning\\.venv\\Lib\\site-packages\\torch\\_inductor\\cpu_vec_isa.py\", line 408, in <genexpr>\n",
      "W0809 09:24:42.798000 16676 .venv\\Lib\\site-packages\\torch\\_dynamo\\convert_frame.py:1280]     if all(flag in _cpu_supported_x86_isa for flag in str(isa).split()) and isa\n",
      "W0809 09:24:42.798000 16676 .venv\\Lib\\site-packages\\torch\\_dynamo\\convert_frame.py:1280]                                                                             ^^^\n",
      "W0809 09:24:42.798000 16676 .venv\\Lib\\site-packages\\torch\\_dynamo\\convert_frame.py:1280]   File \"D:\\PycharmProjects\\NVIDIA-Fundamentals-of-Deep-Learning\\.venv\\Lib\\site-packages\\torch\\_inductor\\cpu_vec_isa.py\", line 142, in __bool__\n",
      "W0809 09:24:42.798000 16676 .venv\\Lib\\site-packages\\torch\\_dynamo\\convert_frame.py:1280]     return self.__bool__impl(config.cpp.vec_isa_ok)\n",
      "W0809 09:24:42.798000 16676 .venv\\Lib\\site-packages\\torch\\_dynamo\\convert_frame.py:1280]            ^^^^^^^^^^^^^^^^^^^^^^^^^^^^^^^^^^^^^^^^\n",
      "W0809 09:24:42.798000 16676 .venv\\Lib\\site-packages\\torch\\_dynamo\\convert_frame.py:1280]   File \"D:\\PycharmProjects\\NVIDIA-Fundamentals-of-Deep-Learning\\.venv\\Lib\\site-packages\\torch\\_inductor\\cpu_vec_isa.py\", line 152, in __bool__impl\n",
      "W0809 09:24:42.798000 16676 .venv\\Lib\\site-packages\\torch\\_dynamo\\convert_frame.py:1280]     return self.check_build(VecISA._avx_code)\n",
      "W0809 09:24:42.798000 16676 .venv\\Lib\\site-packages\\torch\\_dynamo\\convert_frame.py:1280]            ^^^^^^^^^^^^^^^^^^^^^^^^^^^^^^^^^^\n",
      "W0809 09:24:42.798000 16676 .venv\\Lib\\site-packages\\torch\\_dynamo\\convert_frame.py:1280]   File \"D:\\PycharmProjects\\NVIDIA-Fundamentals-of-Deep-Learning\\.venv\\Lib\\site-packages\\torch\\_inductor\\cpu_vec_isa.py\", line 102, in check_build\n",
      "W0809 09:24:42.798000 16676 .venv\\Lib\\site-packages\\torch\\_dynamo\\convert_frame.py:1280]     extra=_get_isa_dry_compile_fingerprint(self._arch_flags),\n",
      "W0809 09:24:42.798000 16676 .venv\\Lib\\site-packages\\torch\\_dynamo\\convert_frame.py:1280]           ^^^^^^^^^^^^^^^^^^^^^^^^^^^^^^^^^^^^^^^^^^^^^^^^^^\n",
      "W0809 09:24:42.798000 16676 .venv\\Lib\\site-packages\\torch\\_dynamo\\convert_frame.py:1280]   File \"D:\\PycharmProjects\\NVIDIA-Fundamentals-of-Deep-Learning\\.venv\\Lib\\site-packages\\torch\\_inductor\\cpu_vec_isa.py\", line 28, in _get_isa_dry_compile_fingerprint\n",
      "W0809 09:24:42.798000 16676 .venv\\Lib\\site-packages\\torch\\_dynamo\\convert_frame.py:1280]     compiler_info = get_compiler_version_info(get_cpp_compiler())\n",
      "W0809 09:24:42.798000 16676 .venv\\Lib\\site-packages\\torch\\_dynamo\\convert_frame.py:1280]                                               ^^^^^^^^^^^^^^^^^^\n",
      "W0809 09:24:42.798000 16676 .venv\\Lib\\site-packages\\torch\\_dynamo\\convert_frame.py:1280]   File \"D:\\PycharmProjects\\NVIDIA-Fundamentals-of-Deep-Learning\\.venv\\Lib\\site-packages\\torch\\_inductor\\cpp_builder.py\", line 148, in get_cpp_compiler\n",
      "W0809 09:24:42.798000 16676 .venv\\Lib\\site-packages\\torch\\_dynamo\\convert_frame.py:1280]     check_compiler_exist_windows(compiler)\n",
      "W0809 09:24:42.798000 16676 .venv\\Lib\\site-packages\\torch\\_dynamo\\convert_frame.py:1280]   File \"D:\\PycharmProjects\\NVIDIA-Fundamentals-of-Deep-Learning\\.venv\\Lib\\site-packages\\torch\\_inductor\\cpp_builder.py\", line 139, in check_compiler_exist_windows\n",
      "W0809 09:24:42.798000 16676 .venv\\Lib\\site-packages\\torch\\_dynamo\\convert_frame.py:1280]     raise RuntimeError(f\"Compiler: {compiler} is not found.\") from exc\n",
      "W0809 09:24:42.798000 16676 .venv\\Lib\\site-packages\\torch\\_dynamo\\convert_frame.py:1280] torch._inductor.exc.InductorError: RuntimeError: Compiler: cl is not found.\n",
      "W0809 09:24:42.798000 16676 .venv\\Lib\\site-packages\\torch\\_dynamo\\convert_frame.py:1280] \n",
      "W0809 09:24:42.798000 16676 .venv\\Lib\\site-packages\\torch\\_dynamo\\convert_frame.py:1280] Set TORCHDYNAMO_VERBOSE=1 for the internal stack trace (please do this especially if you're reporting a bug to PyTorch). For even more developer context, set TORCH_LOGS=\"+dynamo\"\n",
      "W0809 09:24:42.798000 16676 .venv\\Lib\\site-packages\\torch\\_dynamo\\convert_frame.py:1280] \n",
      "W0809 09:24:43.203000 16676 .venv\\Lib\\site-packages\\torch\\_dynamo\\convert_frame.py:1280] WON'T CONVERT forward C:\\Users\\minhh\\AppData\\Local\\Temp\\ipykernel_16676\\64762065.py line 14 \n",
      "W0809 09:24:43.203000 16676 .venv\\Lib\\site-packages\\torch\\_dynamo\\convert_frame.py:1280] due to: \n",
      "W0809 09:24:43.203000 16676 .venv\\Lib\\site-packages\\torch\\_dynamo\\convert_frame.py:1280] Traceback (most recent call last):\n",
      "W0809 09:24:43.203000 16676 .venv\\Lib\\site-packages\\torch\\_dynamo\\convert_frame.py:1280]   File \"D:\\PycharmProjects\\NVIDIA-Fundamentals-of-Deep-Learning\\.venv\\Lib\\site-packages\\torch\\_dynamo\\convert_frame.py\", line 1213, in __call__\n",
      "W0809 09:24:43.203000 16676 .venv\\Lib\\site-packages\\torch\\_dynamo\\convert_frame.py:1280]     result = self._inner_convert(\n",
      "W0809 09:24:43.203000 16676 .venv\\Lib\\site-packages\\torch\\_dynamo\\convert_frame.py:1280]              ^^^^^^^^^^^^^^^^^^^^\n",
      "W0809 09:24:43.203000 16676 .venv\\Lib\\site-packages\\torch\\_dynamo\\convert_frame.py:1280]   File \"D:\\PycharmProjects\\NVIDIA-Fundamentals-of-Deep-Learning\\.venv\\Lib\\site-packages\\torch\\_dynamo\\convert_frame.py\", line 598, in __call__\n",
      "W0809 09:24:43.203000 16676 .venv\\Lib\\site-packages\\torch\\_dynamo\\convert_frame.py:1280]     return _compile(\n",
      "W0809 09:24:43.203000 16676 .venv\\Lib\\site-packages\\torch\\_dynamo\\convert_frame.py:1280]            ^^^^^^^^^\n",
      "W0809 09:24:43.203000 16676 .venv\\Lib\\site-packages\\torch\\_dynamo\\convert_frame.py:1280]   File \"D:\\PycharmProjects\\NVIDIA-Fundamentals-of-Deep-Learning\\.venv\\Lib\\site-packages\\torch\\_dynamo\\convert_frame.py\", line 1059, in _compile\n",
      "W0809 09:24:43.203000 16676 .venv\\Lib\\site-packages\\torch\\_dynamo\\convert_frame.py:1280]     guarded_code = compile_inner(code, one_graph, hooks, transform)\n",
      "W0809 09:24:43.203000 16676 .venv\\Lib\\site-packages\\torch\\_dynamo\\convert_frame.py:1280]                    ^^^^^^^^^^^^^^^^^^^^^^^^^^^^^^^^^^^^^^^^^^^^^^^^\n",
      "W0809 09:24:43.203000 16676 .venv\\Lib\\site-packages\\torch\\_dynamo\\convert_frame.py:1280]   File \"D:\\PycharmProjects\\NVIDIA-Fundamentals-of-Deep-Learning\\.venv\\Lib\\site-packages\\torch\\_utils_internal.py\", line 97, in wrapper_function\n",
      "W0809 09:24:43.203000 16676 .venv\\Lib\\site-packages\\torch\\_dynamo\\convert_frame.py:1280]     return function(*args, **kwargs)\n",
      "W0809 09:24:43.203000 16676 .venv\\Lib\\site-packages\\torch\\_dynamo\\convert_frame.py:1280]            ^^^^^^^^^^^^^^^^^^^^^^^^^\n",
      "W0809 09:24:43.203000 16676 .venv\\Lib\\site-packages\\torch\\_dynamo\\convert_frame.py:1280]   File \"D:\\PycharmProjects\\NVIDIA-Fundamentals-of-Deep-Learning\\.venv\\Lib\\site-packages\\torch\\_dynamo\\convert_frame.py\", line 761, in compile_inner\n",
      "W0809 09:24:43.203000 16676 .venv\\Lib\\site-packages\\torch\\_dynamo\\convert_frame.py:1280]     return _compile_inner(code, one_graph, hooks, transform)\n",
      "W0809 09:24:43.203000 16676 .venv\\Lib\\site-packages\\torch\\_dynamo\\convert_frame.py:1280]            ^^^^^^^^^^^^^^^^^^^^^^^^^^^^^^^^^^^^^^^^^^^^^^^^^\n",
      "W0809 09:24:43.203000 16676 .venv\\Lib\\site-packages\\torch\\_dynamo\\convert_frame.py:1280]   File \"D:\\PycharmProjects\\NVIDIA-Fundamentals-of-Deep-Learning\\.venv\\Lib\\site-packages\\torch\\_dynamo\\convert_frame.py\", line 797, in _compile_inner\n",
      "W0809 09:24:43.203000 16676 .venv\\Lib\\site-packages\\torch\\_dynamo\\convert_frame.py:1280]     out_code = transform_code_object(code, transform)\n",
      "W0809 09:24:43.203000 16676 .venv\\Lib\\site-packages\\torch\\_dynamo\\convert_frame.py:1280]                ^^^^^^^^^^^^^^^^^^^^^^^^^^^^^^^^^^^^^^\n",
      "W0809 09:24:43.203000 16676 .venv\\Lib\\site-packages\\torch\\_dynamo\\convert_frame.py:1280]   File \"D:\\PycharmProjects\\NVIDIA-Fundamentals-of-Deep-Learning\\.venv\\Lib\\site-packages\\torch\\_dynamo\\bytecode_transformation.py\", line 1422, in transform_code_object\n",
      "W0809 09:24:43.203000 16676 .venv\\Lib\\site-packages\\torch\\_dynamo\\convert_frame.py:1280]     transformations(instructions, code_options)\n",
      "W0809 09:24:43.203000 16676 .venv\\Lib\\site-packages\\torch\\_dynamo\\convert_frame.py:1280]   File \"D:\\PycharmProjects\\NVIDIA-Fundamentals-of-Deep-Learning\\.venv\\Lib\\site-packages\\torch\\_dynamo\\convert_frame.py\", line 257, in _fn\n",
      "W0809 09:24:43.203000 16676 .venv\\Lib\\site-packages\\torch\\_dynamo\\convert_frame.py:1280]     return fn(*args, **kwargs)\n",
      "W0809 09:24:43.203000 16676 .venv\\Lib\\site-packages\\torch\\_dynamo\\convert_frame.py:1280]            ^^^^^^^^^^^^^^^^^^^\n",
      "W0809 09:24:43.203000 16676 .venv\\Lib\\site-packages\\torch\\_dynamo\\convert_frame.py:1280]   File \"D:\\PycharmProjects\\NVIDIA-Fundamentals-of-Deep-Learning\\.venv\\Lib\\site-packages\\torch\\_dynamo\\convert_frame.py\", line 715, in transform\n",
      "W0809 09:24:43.203000 16676 .venv\\Lib\\site-packages\\torch\\_dynamo\\convert_frame.py:1280]     tracer.run()\n",
      "W0809 09:24:43.203000 16676 .venv\\Lib\\site-packages\\torch\\_dynamo\\convert_frame.py:1280]   File \"D:\\PycharmProjects\\NVIDIA-Fundamentals-of-Deep-Learning\\.venv\\Lib\\site-packages\\torch\\_dynamo\\symbolic_convert.py\", line 3498, in run\n",
      "W0809 09:24:43.203000 16676 .venv\\Lib\\site-packages\\torch\\_dynamo\\convert_frame.py:1280]     super().run()\n",
      "W0809 09:24:43.203000 16676 .venv\\Lib\\site-packages\\torch\\_dynamo\\convert_frame.py:1280]   File \"D:\\PycharmProjects\\NVIDIA-Fundamentals-of-Deep-Learning\\.venv\\Lib\\site-packages\\torch\\_dynamo\\symbolic_convert.py\", line 1337, in run\n",
      "W0809 09:24:43.203000 16676 .venv\\Lib\\site-packages\\torch\\_dynamo\\convert_frame.py:1280]     while self.step():\n",
      "W0809 09:24:43.203000 16676 .venv\\Lib\\site-packages\\torch\\_dynamo\\convert_frame.py:1280]           ^^^^^^^^^^^\n",
      "W0809 09:24:43.203000 16676 .venv\\Lib\\site-packages\\torch\\_dynamo\\convert_frame.py:1280]   File \"D:\\PycharmProjects\\NVIDIA-Fundamentals-of-Deep-Learning\\.venv\\Lib\\site-packages\\torch\\_dynamo\\symbolic_convert.py\", line 1246, in step\n",
      "W0809 09:24:43.203000 16676 .venv\\Lib\\site-packages\\torch\\_dynamo\\convert_frame.py:1280]     self.dispatch_table[inst.opcode](self, inst)\n",
      "W0809 09:24:43.203000 16676 .venv\\Lib\\site-packages\\torch\\_dynamo\\convert_frame.py:1280]   File \"D:\\PycharmProjects\\NVIDIA-Fundamentals-of-Deep-Learning\\.venv\\Lib\\site-packages\\torch\\_dynamo\\symbolic_convert.py\", line 3699, in RETURN_VALUE\n",
      "W0809 09:24:43.203000 16676 .venv\\Lib\\site-packages\\torch\\_dynamo\\convert_frame.py:1280]     self._return(inst)\n",
      "W0809 09:24:43.203000 16676 .venv\\Lib\\site-packages\\torch\\_dynamo\\convert_frame.py:1280]   File \"D:\\PycharmProjects\\NVIDIA-Fundamentals-of-Deep-Learning\\.venv\\Lib\\site-packages\\torch\\_dynamo\\symbolic_convert.py\", line 3684, in _return\n",
      "W0809 09:24:43.203000 16676 .venv\\Lib\\site-packages\\torch\\_dynamo\\convert_frame.py:1280]     self.output.compile_subgraph(\n",
      "W0809 09:24:43.203000 16676 .venv\\Lib\\site-packages\\torch\\_dynamo\\convert_frame.py:1280]   File \"D:\\PycharmProjects\\NVIDIA-Fundamentals-of-Deep-Learning\\.venv\\Lib\\site-packages\\torch\\_dynamo\\output_graph.py\", line 1144, in compile_subgraph\n",
      "W0809 09:24:43.203000 16676 .venv\\Lib\\site-packages\\torch\\_dynamo\\convert_frame.py:1280]     self.compile_and_call_fx_graph(\n",
      "W0809 09:24:43.203000 16676 .venv\\Lib\\site-packages\\torch\\_dynamo\\convert_frame.py:1280]   File \"D:\\PycharmProjects\\NVIDIA-Fundamentals-of-Deep-Learning\\.venv\\Lib\\site-packages\\torch\\_dynamo\\output_graph.py\", line 1437, in compile_and_call_fx_graph\n",
      "W0809 09:24:43.203000 16676 .venv\\Lib\\site-packages\\torch\\_dynamo\\convert_frame.py:1280]     compiled_fn = self.call_user_compiler(gm)\n",
      "W0809 09:24:43.203000 16676 .venv\\Lib\\site-packages\\torch\\_dynamo\\convert_frame.py:1280]                   ^^^^^^^^^^^^^^^^^^^^^^^^^^^\n",
      "W0809 09:24:43.203000 16676 .venv\\Lib\\site-packages\\torch\\_dynamo\\convert_frame.py:1280]   File \"D:\\PycharmProjects\\NVIDIA-Fundamentals-of-Deep-Learning\\.venv\\Lib\\site-packages\\torch\\_dynamo\\output_graph.py\", line 1487, in call_user_compiler\n",
      "W0809 09:24:43.203000 16676 .venv\\Lib\\site-packages\\torch\\_dynamo\\convert_frame.py:1280]     return self._call_user_compiler(gm)\n",
      "W0809 09:24:43.203000 16676 .venv\\Lib\\site-packages\\torch\\_dynamo\\convert_frame.py:1280]            ^^^^^^^^^^^^^^^^^^^^^^^^^^^^\n",
      "W0809 09:24:43.203000 16676 .venv\\Lib\\site-packages\\torch\\_dynamo\\convert_frame.py:1280]   File \"D:\\PycharmProjects\\NVIDIA-Fundamentals-of-Deep-Learning\\.venv\\Lib\\site-packages\\torch\\_dynamo\\output_graph.py\", line 1519, in _call_user_compiler\n",
      "W0809 09:24:43.203000 16676 .venv\\Lib\\site-packages\\torch\\_dynamo\\convert_frame.py:1280]     compiled_fn = compiler_fn(gm, self.example_inputs())\n",
      "W0809 09:24:43.203000 16676 .venv\\Lib\\site-packages\\torch\\_dynamo\\convert_frame.py:1280]                   ^^^^^^^^^^^^^^^^^^^^^^^^^^^^^^^^^^^^^^\n",
      "W0809 09:24:43.203000 16676 .venv\\Lib\\site-packages\\torch\\_dynamo\\convert_frame.py:1280]   File \"D:\\PycharmProjects\\NVIDIA-Fundamentals-of-Deep-Learning\\.venv\\Lib\\site-packages\\torch\\_dynamo\\repro\\after_dynamo.py\", line 150, in __call__\n",
      "W0809 09:24:43.203000 16676 .venv\\Lib\\site-packages\\torch\\_dynamo\\convert_frame.py:1280]     compiled_gm = compiler_fn(gm, example_inputs)\n",
      "W0809 09:24:43.203000 16676 .venv\\Lib\\site-packages\\torch\\_dynamo\\convert_frame.py:1280]                   ^^^^^^^^^^^^^^^^^^^^^^^^^^^^^^^\n",
      "W0809 09:24:43.203000 16676 .venv\\Lib\\site-packages\\torch\\_dynamo\\convert_frame.py:1280]   File \"D:\\PycharmProjects\\NVIDIA-Fundamentals-of-Deep-Learning\\.venv\\Lib\\site-packages\\torch\\__init__.py\", line 2347, in __call__\n",
      "W0809 09:24:43.203000 16676 .venv\\Lib\\site-packages\\torch\\_dynamo\\convert_frame.py:1280]     return compile_fx(model_, inputs_, config_patches=self.config)\n",
      "W0809 09:24:43.203000 16676 .venv\\Lib\\site-packages\\torch\\_dynamo\\convert_frame.py:1280]            ^^^^^^^^^^^^^^^^^^^^^^^^^^^^^^^^^^^^^^^^^^^^^^^^^^^^^^^\n",
      "W0809 09:24:43.203000 16676 .venv\\Lib\\site-packages\\torch\\_dynamo\\convert_frame.py:1280]   File \"D:\\PycharmProjects\\NVIDIA-Fundamentals-of-Deep-Learning\\.venv\\Lib\\site-packages\\torch\\_inductor\\compile_fx.py\", line 2100, in compile_fx\n",
      "W0809 09:24:43.203000 16676 .venv\\Lib\\site-packages\\torch\\_dynamo\\convert_frame.py:1280]     raise e.remove_dynamo_frames() from None  # see TORCHDYNAMO_VERBOSE=1\n",
      "W0809 09:24:43.203000 16676 .venv\\Lib\\site-packages\\torch\\_dynamo\\convert_frame.py:1280]     ^^^^^^^^^^^^^^^^^^^^^^^^^^^^^^^^^^^^^^^^\n",
      "W0809 09:24:43.203000 16676 .venv\\Lib\\site-packages\\torch\\_dynamo\\convert_frame.py:1280]   File \"D:\\PycharmProjects\\NVIDIA-Fundamentals-of-Deep-Learning\\.venv\\Lib\\site-packages\\torch\\_inductor\\compile_fx.py\", line 760, in _compile_fx_inner\n",
      "W0809 09:24:43.203000 16676 .venv\\Lib\\site-packages\\torch\\_dynamo\\convert_frame.py:1280]     raise InductorError(e, currentframe()).with_traceback(\n",
      "W0809 09:24:43.203000 16676 .venv\\Lib\\site-packages\\torch\\_dynamo\\convert_frame.py:1280]   File \"D:\\PycharmProjects\\NVIDIA-Fundamentals-of-Deep-Learning\\.venv\\Lib\\site-packages\\torch\\_inductor\\compile_fx.py\", line 745, in _compile_fx_inner\n",
      "W0809 09:24:43.203000 16676 .venv\\Lib\\site-packages\\torch\\_dynamo\\convert_frame.py:1280]     mb_compiled_graph = fx_codegen_and_compile(\n",
      "W0809 09:24:43.203000 16676 .venv\\Lib\\site-packages\\torch\\_dynamo\\convert_frame.py:1280]                         ^^^^^^^^^^^^^^^^^^^^^^^\n",
      "W0809 09:24:43.203000 16676 .venv\\Lib\\site-packages\\torch\\_dynamo\\convert_frame.py:1280]   File \"D:\\PycharmProjects\\NVIDIA-Fundamentals-of-Deep-Learning\\.venv\\Lib\\site-packages\\torch\\_inductor\\compile_fx.py\", line 1295, in fx_codegen_and_compile\n",
      "W0809 09:24:43.203000 16676 .venv\\Lib\\site-packages\\torch\\_dynamo\\convert_frame.py:1280]     return scheme.codegen_and_compile(gm, example_inputs, inputs_to_check, graph_kwargs)\n",
      "W0809 09:24:43.203000 16676 .venv\\Lib\\site-packages\\torch\\_dynamo\\convert_frame.py:1280]            ^^^^^^^^^^^^^^^^^^^^^^^^^^^^^^^^^^^^^^^^^^^^^^^^^^^^^^^^^^^^^^^^^^^^^^^^^^^^^\n",
      "W0809 09:24:43.203000 16676 .venv\\Lib\\site-packages\\torch\\_dynamo\\convert_frame.py:1280]   File \"D:\\PycharmProjects\\NVIDIA-Fundamentals-of-Deep-Learning\\.venv\\Lib\\site-packages\\torch\\_inductor\\compile_fx.py\", line 1197, in codegen_and_compile\n",
      "W0809 09:24:43.203000 16676 .venv\\Lib\\site-packages\\torch\\_dynamo\\convert_frame.py:1280]     compiled_fn = graph.compile_to_module().call\n",
      "W0809 09:24:43.203000 16676 .venv\\Lib\\site-packages\\torch\\_dynamo\\convert_frame.py:1280]                   ^^^^^^^^^^^^^^^^^^^^^^^^^\n",
      "W0809 09:24:43.203000 16676 .venv\\Lib\\site-packages\\torch\\_dynamo\\convert_frame.py:1280]   File \"D:\\PycharmProjects\\NVIDIA-Fundamentals-of-Deep-Learning\\.venv\\Lib\\site-packages\\torch\\_inductor\\graph.py\", line 2083, in compile_to_module\n",
      "W0809 09:24:43.203000 16676 .venv\\Lib\\site-packages\\torch\\_dynamo\\convert_frame.py:1280]     return self._compile_to_module()\n",
      "W0809 09:24:43.203000 16676 .venv\\Lib\\site-packages\\torch\\_dynamo\\convert_frame.py:1280]            ^^^^^^^^^^^^^^^^^^^^^^^^^\n",
      "W0809 09:24:43.203000 16676 .venv\\Lib\\site-packages\\torch\\_dynamo\\convert_frame.py:1280]   File \"D:\\PycharmProjects\\NVIDIA-Fundamentals-of-Deep-Learning\\.venv\\Lib\\site-packages\\torch\\_inductor\\graph.py\", line 2091, in _compile_to_module\n",
      "W0809 09:24:43.203000 16676 .venv\\Lib\\site-packages\\torch\\_dynamo\\convert_frame.py:1280]     self.codegen_with_cpp_wrapper() if self.cpp_wrapper else self.codegen()\n",
      "W0809 09:24:43.203000 16676 .venv\\Lib\\site-packages\\torch\\_dynamo\\convert_frame.py:1280]                                                              ^^^^^^^^^^^^^^\n",
      "W0809 09:24:43.203000 16676 .venv\\Lib\\site-packages\\torch\\_dynamo\\convert_frame.py:1280]   File \"D:\\PycharmProjects\\NVIDIA-Fundamentals-of-Deep-Learning\\.venv\\Lib\\site-packages\\torch\\_inductor\\graph.py\", line 2002, in codegen\n",
      "W0809 09:24:43.203000 16676 .venv\\Lib\\site-packages\\torch\\_dynamo\\convert_frame.py:1280]     self.scheduler.codegen()\n",
      "W0809 09:24:43.203000 16676 .venv\\Lib\\site-packages\\torch\\_dynamo\\convert_frame.py:1280]   File \"D:\\PycharmProjects\\NVIDIA-Fundamentals-of-Deep-Learning\\.venv\\Lib\\site-packages\\torch\\_inductor\\scheduler.py\", line 4135, in codegen\n",
      "W0809 09:24:43.203000 16676 .venv\\Lib\\site-packages\\torch\\_dynamo\\convert_frame.py:1280]     else self._codegen(self.nodes)\n",
      "W0809 09:24:43.203000 16676 .venv\\Lib\\site-packages\\torch\\_dynamo\\convert_frame.py:1280]          ^^^^^^^^^^^^^^^^^^^^^^^^^\n",
      "W0809 09:24:43.203000 16676 .venv\\Lib\\site-packages\\torch\\_dynamo\\convert_frame.py:1280]   File \"D:\\PycharmProjects\\NVIDIA-Fundamentals-of-Deep-Learning\\.venv\\Lib\\site-packages\\torch\\_inductor\\scheduler.py\", line 4264, in _codegen\n",
      "W0809 09:24:43.203000 16676 .venv\\Lib\\site-packages\\torch\\_dynamo\\convert_frame.py:1280]     self.get_backend(device).codegen_node(node)\n",
      "W0809 09:24:43.203000 16676 .venv\\Lib\\site-packages\\torch\\_dynamo\\convert_frame.py:1280]   File \"D:\\PycharmProjects\\NVIDIA-Fundamentals-of-Deep-Learning\\.venv\\Lib\\site-packages\\torch\\_inductor\\codegen\\cpp.py\", line 4986, in codegen_node\n",
      "W0809 09:24:43.203000 16676 .venv\\Lib\\site-packages\\torch\\_dynamo\\convert_frame.py:1280]     cpp_kernel_proxy = CppKernelProxy(kernel_group)\n",
      "W0809 09:24:43.203000 16676 .venv\\Lib\\site-packages\\torch\\_dynamo\\convert_frame.py:1280]                        ^^^^^^^^^^^^^^^^^^^^^^^^^^^^\n",
      "W0809 09:24:43.203000 16676 .venv\\Lib\\site-packages\\torch\\_dynamo\\convert_frame.py:1280]   File \"D:\\PycharmProjects\\NVIDIA-Fundamentals-of-Deep-Learning\\.venv\\Lib\\site-packages\\torch\\_inductor\\codegen\\cpp.py\", line 3734, in __init__\n",
      "W0809 09:24:43.203000 16676 .venv\\Lib\\site-packages\\torch\\_dynamo\\convert_frame.py:1280]     self.picked_vec_isa: cpu_vec_isa.VecISA = cpu_vec_isa.pick_vec_isa()\n",
      "W0809 09:24:43.203000 16676 .venv\\Lib\\site-packages\\torch\\_dynamo\\convert_frame.py:1280]                                               ^^^^^^^^^^^^^^^^^^^^^^^^^^\n",
      "W0809 09:24:43.203000 16676 .venv\\Lib\\site-packages\\torch\\_dynamo\\convert_frame.py:1280]   File \"D:\\PycharmProjects\\NVIDIA-Fundamentals-of-Deep-Learning\\.venv\\Lib\\site-packages\\torch\\_inductor\\cpu_vec_isa.py\", line 418, in pick_vec_isa\n",
      "W0809 09:24:43.203000 16676 .venv\\Lib\\site-packages\\torch\\_dynamo\\convert_frame.py:1280]     _valid_vec_isa_list: list[VecISA] = valid_vec_isa_list()\n",
      "W0809 09:24:43.203000 16676 .venv\\Lib\\site-packages\\torch\\_dynamo\\convert_frame.py:1280]                                         ^^^^^^^^^^^^^^^^^^^^\n",
      "W0809 09:24:43.203000 16676 .venv\\Lib\\site-packages\\torch\\_dynamo\\convert_frame.py:1280]   File \"D:\\PycharmProjects\\NVIDIA-Fundamentals-of-Deep-Learning\\.venv\\Lib\\site-packages\\torch\\_inductor\\cpu_vec_isa.py\", line 405, in valid_vec_isa_list\n",
      "W0809 09:24:43.203000 16676 .venv\\Lib\\site-packages\\torch\\_dynamo\\convert_frame.py:1280]     isa_list.extend(\n",
      "W0809 09:24:43.203000 16676 .venv\\Lib\\site-packages\\torch\\_dynamo\\convert_frame.py:1280]   File \"D:\\PycharmProjects\\NVIDIA-Fundamentals-of-Deep-Learning\\.venv\\Lib\\site-packages\\torch\\_inductor\\cpu_vec_isa.py\", line 408, in <genexpr>\n",
      "W0809 09:24:43.203000 16676 .venv\\Lib\\site-packages\\torch\\_dynamo\\convert_frame.py:1280]     if all(flag in _cpu_supported_x86_isa for flag in str(isa).split()) and isa\n",
      "W0809 09:24:43.203000 16676 .venv\\Lib\\site-packages\\torch\\_dynamo\\convert_frame.py:1280]                                                                             ^^^\n",
      "W0809 09:24:43.203000 16676 .venv\\Lib\\site-packages\\torch\\_dynamo\\convert_frame.py:1280]   File \"D:\\PycharmProjects\\NVIDIA-Fundamentals-of-Deep-Learning\\.venv\\Lib\\site-packages\\torch\\_inductor\\cpu_vec_isa.py\", line 142, in __bool__\n",
      "W0809 09:24:43.203000 16676 .venv\\Lib\\site-packages\\torch\\_dynamo\\convert_frame.py:1280]     return self.__bool__impl(config.cpp.vec_isa_ok)\n",
      "W0809 09:24:43.203000 16676 .venv\\Lib\\site-packages\\torch\\_dynamo\\convert_frame.py:1280]            ^^^^^^^^^^^^^^^^^^^^^^^^^^^^^^^^^^^^^^^^\n",
      "W0809 09:24:43.203000 16676 .venv\\Lib\\site-packages\\torch\\_dynamo\\convert_frame.py:1280]   File \"D:\\PycharmProjects\\NVIDIA-Fundamentals-of-Deep-Learning\\.venv\\Lib\\site-packages\\torch\\_inductor\\cpu_vec_isa.py\", line 152, in __bool__impl\n",
      "W0809 09:24:43.203000 16676 .venv\\Lib\\site-packages\\torch\\_dynamo\\convert_frame.py:1280]     return self.check_build(VecISA._avx_code)\n",
      "W0809 09:24:43.203000 16676 .venv\\Lib\\site-packages\\torch\\_dynamo\\convert_frame.py:1280]            ^^^^^^^^^^^^^^^^^^^^^^^^^^^^^^^^^^\n",
      "W0809 09:24:43.203000 16676 .venv\\Lib\\site-packages\\torch\\_dynamo\\convert_frame.py:1280]   File \"D:\\PycharmProjects\\NVIDIA-Fundamentals-of-Deep-Learning\\.venv\\Lib\\site-packages\\torch\\_inductor\\cpu_vec_isa.py\", line 102, in check_build\n",
      "W0809 09:24:43.203000 16676 .venv\\Lib\\site-packages\\torch\\_dynamo\\convert_frame.py:1280]     extra=_get_isa_dry_compile_fingerprint(self._arch_flags),\n",
      "W0809 09:24:43.203000 16676 .venv\\Lib\\site-packages\\torch\\_dynamo\\convert_frame.py:1280]           ^^^^^^^^^^^^^^^^^^^^^^^^^^^^^^^^^^^^^^^^^^^^^^^^^^\n",
      "W0809 09:24:43.203000 16676 .venv\\Lib\\site-packages\\torch\\_dynamo\\convert_frame.py:1280]   File \"D:\\PycharmProjects\\NVIDIA-Fundamentals-of-Deep-Learning\\.venv\\Lib\\site-packages\\torch\\_inductor\\cpu_vec_isa.py\", line 28, in _get_isa_dry_compile_fingerprint\n",
      "W0809 09:24:43.203000 16676 .venv\\Lib\\site-packages\\torch\\_dynamo\\convert_frame.py:1280]     compiler_info = get_compiler_version_info(get_cpp_compiler())\n",
      "W0809 09:24:43.203000 16676 .venv\\Lib\\site-packages\\torch\\_dynamo\\convert_frame.py:1280]                                               ^^^^^^^^^^^^^^^^^^\n",
      "W0809 09:24:43.203000 16676 .venv\\Lib\\site-packages\\torch\\_dynamo\\convert_frame.py:1280]   File \"D:\\PycharmProjects\\NVIDIA-Fundamentals-of-Deep-Learning\\.venv\\Lib\\site-packages\\torch\\_inductor\\cpp_builder.py\", line 148, in get_cpp_compiler\n",
      "W0809 09:24:43.203000 16676 .venv\\Lib\\site-packages\\torch\\_dynamo\\convert_frame.py:1280]     check_compiler_exist_windows(compiler)\n",
      "W0809 09:24:43.203000 16676 .venv\\Lib\\site-packages\\torch\\_dynamo\\convert_frame.py:1280]   File \"D:\\PycharmProjects\\NVIDIA-Fundamentals-of-Deep-Learning\\.venv\\Lib\\site-packages\\torch\\_inductor\\cpp_builder.py\", line 139, in check_compiler_exist_windows\n",
      "W0809 09:24:43.203000 16676 .venv\\Lib\\site-packages\\torch\\_dynamo\\convert_frame.py:1280]     raise RuntimeError(f\"Compiler: {compiler} is not found.\") from exc\n",
      "W0809 09:24:43.203000 16676 .venv\\Lib\\site-packages\\torch\\_dynamo\\convert_frame.py:1280] torch._inductor.exc.InductorError: RuntimeError: Compiler: cl is not found.\n",
      "W0809 09:24:43.203000 16676 .venv\\Lib\\site-packages\\torch\\_dynamo\\convert_frame.py:1280] \n",
      "W0809 09:24:43.203000 16676 .venv\\Lib\\site-packages\\torch\\_dynamo\\convert_frame.py:1280] Set TORCHDYNAMO_VERBOSE=1 for the internal stack trace (please do this especially if you're reporting a bug to PyTorch). For even more developer context, set TORCH_LOGS=\"+dynamo\"\n",
      "W0809 09:24:43.203000 16676 .venv\\Lib\\site-packages\\torch\\_dynamo\\convert_frame.py:1280] \n",
      "W0809 09:24:43.203000 16676 .venv\\Lib\\site-packages\\torch\\_dynamo\\convert_frame.py:1280] Traceback (most recent call last):\n",
      "W0809 09:24:43.203000 16676 .venv\\Lib\\site-packages\\torch\\_dynamo\\convert_frame.py:1280]   File \"D:\\PycharmProjects\\NVIDIA-Fundamentals-of-Deep-Learning\\.venv\\Lib\\site-packages\\torch\\_dynamo\\convert_frame.py\", line 1213, in __call__\n",
      "W0809 09:24:43.203000 16676 .venv\\Lib\\site-packages\\torch\\_dynamo\\convert_frame.py:1280]     result = self._inner_convert(\n",
      "W0809 09:24:43.203000 16676 .venv\\Lib\\site-packages\\torch\\_dynamo\\convert_frame.py:1280]              ^^^^^^^^^^^^^^^^^^^^\n",
      "W0809 09:24:43.203000 16676 .venv\\Lib\\site-packages\\torch\\_dynamo\\convert_frame.py:1280]   File \"D:\\PycharmProjects\\NVIDIA-Fundamentals-of-Deep-Learning\\.venv\\Lib\\site-packages\\torch\\_dynamo\\convert_frame.py\", line 598, in __call__\n",
      "W0809 09:24:43.203000 16676 .venv\\Lib\\site-packages\\torch\\_dynamo\\convert_frame.py:1280]     return _compile(\n",
      "W0809 09:24:43.203000 16676 .venv\\Lib\\site-packages\\torch\\_dynamo\\convert_frame.py:1280]            ^^^^^^^^^\n",
      "W0809 09:24:43.203000 16676 .venv\\Lib\\site-packages\\torch\\_dynamo\\convert_frame.py:1280]   File \"D:\\PycharmProjects\\NVIDIA-Fundamentals-of-Deep-Learning\\.venv\\Lib\\site-packages\\torch\\_dynamo\\convert_frame.py\", line 1059, in _compile\n",
      "W0809 09:24:43.203000 16676 .venv\\Lib\\site-packages\\torch\\_dynamo\\convert_frame.py:1280]     guarded_code = compile_inner(code, one_graph, hooks, transform)\n",
      "W0809 09:24:43.203000 16676 .venv\\Lib\\site-packages\\torch\\_dynamo\\convert_frame.py:1280]                    ^^^^^^^^^^^^^^^^^^^^^^^^^^^^^^^^^^^^^^^^^^^^^^^^\n",
      "W0809 09:24:43.203000 16676 .venv\\Lib\\site-packages\\torch\\_dynamo\\convert_frame.py:1280]   File \"D:\\PycharmProjects\\NVIDIA-Fundamentals-of-Deep-Learning\\.venv\\Lib\\site-packages\\torch\\_utils_internal.py\", line 97, in wrapper_function\n",
      "W0809 09:24:43.203000 16676 .venv\\Lib\\site-packages\\torch\\_dynamo\\convert_frame.py:1280]     return function(*args, **kwargs)\n",
      "W0809 09:24:43.203000 16676 .venv\\Lib\\site-packages\\torch\\_dynamo\\convert_frame.py:1280]            ^^^^^^^^^^^^^^^^^^^^^^^^^\n",
      "W0809 09:24:43.203000 16676 .venv\\Lib\\site-packages\\torch\\_dynamo\\convert_frame.py:1280]   File \"D:\\PycharmProjects\\NVIDIA-Fundamentals-of-Deep-Learning\\.venv\\Lib\\site-packages\\torch\\_dynamo\\convert_frame.py\", line 761, in compile_inner\n",
      "W0809 09:24:43.203000 16676 .venv\\Lib\\site-packages\\torch\\_dynamo\\convert_frame.py:1280]     return _compile_inner(code, one_graph, hooks, transform)\n",
      "W0809 09:24:43.203000 16676 .venv\\Lib\\site-packages\\torch\\_dynamo\\convert_frame.py:1280]            ^^^^^^^^^^^^^^^^^^^^^^^^^^^^^^^^^^^^^^^^^^^^^^^^^\n",
      "W0809 09:24:43.203000 16676 .venv\\Lib\\site-packages\\torch\\_dynamo\\convert_frame.py:1280]   File \"D:\\PycharmProjects\\NVIDIA-Fundamentals-of-Deep-Learning\\.venv\\Lib\\site-packages\\torch\\_dynamo\\convert_frame.py\", line 797, in _compile_inner\n",
      "W0809 09:24:43.203000 16676 .venv\\Lib\\site-packages\\torch\\_dynamo\\convert_frame.py:1280]     out_code = transform_code_object(code, transform)\n",
      "W0809 09:24:43.203000 16676 .venv\\Lib\\site-packages\\torch\\_dynamo\\convert_frame.py:1280]                ^^^^^^^^^^^^^^^^^^^^^^^^^^^^^^^^^^^^^^\n",
      "W0809 09:24:43.203000 16676 .venv\\Lib\\site-packages\\torch\\_dynamo\\convert_frame.py:1280]   File \"D:\\PycharmProjects\\NVIDIA-Fundamentals-of-Deep-Learning\\.venv\\Lib\\site-packages\\torch\\_dynamo\\bytecode_transformation.py\", line 1422, in transform_code_object\n",
      "W0809 09:24:43.203000 16676 .venv\\Lib\\site-packages\\torch\\_dynamo\\convert_frame.py:1280]     transformations(instructions, code_options)\n",
      "W0809 09:24:43.203000 16676 .venv\\Lib\\site-packages\\torch\\_dynamo\\convert_frame.py:1280]   File \"D:\\PycharmProjects\\NVIDIA-Fundamentals-of-Deep-Learning\\.venv\\Lib\\site-packages\\torch\\_dynamo\\convert_frame.py\", line 257, in _fn\n",
      "W0809 09:24:43.203000 16676 .venv\\Lib\\site-packages\\torch\\_dynamo\\convert_frame.py:1280]     return fn(*args, **kwargs)\n",
      "W0809 09:24:43.203000 16676 .venv\\Lib\\site-packages\\torch\\_dynamo\\convert_frame.py:1280]            ^^^^^^^^^^^^^^^^^^^\n",
      "W0809 09:24:43.203000 16676 .venv\\Lib\\site-packages\\torch\\_dynamo\\convert_frame.py:1280]   File \"D:\\PycharmProjects\\NVIDIA-Fundamentals-of-Deep-Learning\\.venv\\Lib\\site-packages\\torch\\_dynamo\\convert_frame.py\", line 715, in transform\n",
      "W0809 09:24:43.203000 16676 .venv\\Lib\\site-packages\\torch\\_dynamo\\convert_frame.py:1280]     tracer.run()\n",
      "W0809 09:24:43.203000 16676 .venv\\Lib\\site-packages\\torch\\_dynamo\\convert_frame.py:1280]   File \"D:\\PycharmProjects\\NVIDIA-Fundamentals-of-Deep-Learning\\.venv\\Lib\\site-packages\\torch\\_dynamo\\symbolic_convert.py\", line 3498, in run\n",
      "W0809 09:24:43.203000 16676 .venv\\Lib\\site-packages\\torch\\_dynamo\\convert_frame.py:1280]     super().run()\n",
      "W0809 09:24:43.203000 16676 .venv\\Lib\\site-packages\\torch\\_dynamo\\convert_frame.py:1280]   File \"D:\\PycharmProjects\\NVIDIA-Fundamentals-of-Deep-Learning\\.venv\\Lib\\site-packages\\torch\\_dynamo\\symbolic_convert.py\", line 1337, in run\n",
      "W0809 09:24:43.203000 16676 .venv\\Lib\\site-packages\\torch\\_dynamo\\convert_frame.py:1280]     while self.step():\n",
      "W0809 09:24:43.203000 16676 .venv\\Lib\\site-packages\\torch\\_dynamo\\convert_frame.py:1280]           ^^^^^^^^^^^\n",
      "W0809 09:24:43.203000 16676 .venv\\Lib\\site-packages\\torch\\_dynamo\\convert_frame.py:1280]   File \"D:\\PycharmProjects\\NVIDIA-Fundamentals-of-Deep-Learning\\.venv\\Lib\\site-packages\\torch\\_dynamo\\symbolic_convert.py\", line 1246, in step\n",
      "W0809 09:24:43.203000 16676 .venv\\Lib\\site-packages\\torch\\_dynamo\\convert_frame.py:1280]     self.dispatch_table[inst.opcode](self, inst)\n",
      "W0809 09:24:43.203000 16676 .venv\\Lib\\site-packages\\torch\\_dynamo\\convert_frame.py:1280]   File \"D:\\PycharmProjects\\NVIDIA-Fundamentals-of-Deep-Learning\\.venv\\Lib\\site-packages\\torch\\_dynamo\\symbolic_convert.py\", line 3699, in RETURN_VALUE\n",
      "W0809 09:24:43.203000 16676 .venv\\Lib\\site-packages\\torch\\_dynamo\\convert_frame.py:1280]     self._return(inst)\n",
      "W0809 09:24:43.203000 16676 .venv\\Lib\\site-packages\\torch\\_dynamo\\convert_frame.py:1280]   File \"D:\\PycharmProjects\\NVIDIA-Fundamentals-of-Deep-Learning\\.venv\\Lib\\site-packages\\torch\\_dynamo\\symbolic_convert.py\", line 3684, in _return\n",
      "W0809 09:24:43.203000 16676 .venv\\Lib\\site-packages\\torch\\_dynamo\\convert_frame.py:1280]     self.output.compile_subgraph(\n",
      "W0809 09:24:43.203000 16676 .venv\\Lib\\site-packages\\torch\\_dynamo\\convert_frame.py:1280]   File \"D:\\PycharmProjects\\NVIDIA-Fundamentals-of-Deep-Learning\\.venv\\Lib\\site-packages\\torch\\_dynamo\\output_graph.py\", line 1144, in compile_subgraph\n",
      "W0809 09:24:43.203000 16676 .venv\\Lib\\site-packages\\torch\\_dynamo\\convert_frame.py:1280]     self.compile_and_call_fx_graph(\n",
      "W0809 09:24:43.203000 16676 .venv\\Lib\\site-packages\\torch\\_dynamo\\convert_frame.py:1280]   File \"D:\\PycharmProjects\\NVIDIA-Fundamentals-of-Deep-Learning\\.venv\\Lib\\site-packages\\torch\\_dynamo\\output_graph.py\", line 1437, in compile_and_call_fx_graph\n",
      "W0809 09:24:43.203000 16676 .venv\\Lib\\site-packages\\torch\\_dynamo\\convert_frame.py:1280]     compiled_fn = self.call_user_compiler(gm)\n",
      "W0809 09:24:43.203000 16676 .venv\\Lib\\site-packages\\torch\\_dynamo\\convert_frame.py:1280]                   ^^^^^^^^^^^^^^^^^^^^^^^^^^^\n",
      "W0809 09:24:43.203000 16676 .venv\\Lib\\site-packages\\torch\\_dynamo\\convert_frame.py:1280]   File \"D:\\PycharmProjects\\NVIDIA-Fundamentals-of-Deep-Learning\\.venv\\Lib\\site-packages\\torch\\_dynamo\\output_graph.py\", line 1487, in call_user_compiler\n",
      "W0809 09:24:43.203000 16676 .venv\\Lib\\site-packages\\torch\\_dynamo\\convert_frame.py:1280]     return self._call_user_compiler(gm)\n",
      "W0809 09:24:43.203000 16676 .venv\\Lib\\site-packages\\torch\\_dynamo\\convert_frame.py:1280]            ^^^^^^^^^^^^^^^^^^^^^^^^^^^^\n",
      "W0809 09:24:43.203000 16676 .venv\\Lib\\site-packages\\torch\\_dynamo\\convert_frame.py:1280]   File \"D:\\PycharmProjects\\NVIDIA-Fundamentals-of-Deep-Learning\\.venv\\Lib\\site-packages\\torch\\_dynamo\\output_graph.py\", line 1519, in _call_user_compiler\n",
      "W0809 09:24:43.203000 16676 .venv\\Lib\\site-packages\\torch\\_dynamo\\convert_frame.py:1280]     compiled_fn = compiler_fn(gm, self.example_inputs())\n",
      "W0809 09:24:43.203000 16676 .venv\\Lib\\site-packages\\torch\\_dynamo\\convert_frame.py:1280]                   ^^^^^^^^^^^^^^^^^^^^^^^^^^^^^^^^^^^^^^\n",
      "W0809 09:24:43.203000 16676 .venv\\Lib\\site-packages\\torch\\_dynamo\\convert_frame.py:1280]   File \"D:\\PycharmProjects\\NVIDIA-Fundamentals-of-Deep-Learning\\.venv\\Lib\\site-packages\\torch\\_dynamo\\repro\\after_dynamo.py\", line 150, in __call__\n",
      "W0809 09:24:43.203000 16676 .venv\\Lib\\site-packages\\torch\\_dynamo\\convert_frame.py:1280]     compiled_gm = compiler_fn(gm, example_inputs)\n",
      "W0809 09:24:43.203000 16676 .venv\\Lib\\site-packages\\torch\\_dynamo\\convert_frame.py:1280]                   ^^^^^^^^^^^^^^^^^^^^^^^^^^^^^^^\n",
      "W0809 09:24:43.203000 16676 .venv\\Lib\\site-packages\\torch\\_dynamo\\convert_frame.py:1280]   File \"D:\\PycharmProjects\\NVIDIA-Fundamentals-of-Deep-Learning\\.venv\\Lib\\site-packages\\torch\\__init__.py\", line 2347, in __call__\n",
      "W0809 09:24:43.203000 16676 .venv\\Lib\\site-packages\\torch\\_dynamo\\convert_frame.py:1280]     return compile_fx(model_, inputs_, config_patches=self.config)\n",
      "W0809 09:24:43.203000 16676 .venv\\Lib\\site-packages\\torch\\_dynamo\\convert_frame.py:1280]            ^^^^^^^^^^^^^^^^^^^^^^^^^^^^^^^^^^^^^^^^^^^^^^^^^^^^^^^\n",
      "W0809 09:24:43.203000 16676 .venv\\Lib\\site-packages\\torch\\_dynamo\\convert_frame.py:1280]   File \"D:\\PycharmProjects\\NVIDIA-Fundamentals-of-Deep-Learning\\.venv\\Lib\\site-packages\\torch\\_inductor\\compile_fx.py\", line 2100, in compile_fx\n",
      "W0809 09:24:43.203000 16676 .venv\\Lib\\site-packages\\torch\\_dynamo\\convert_frame.py:1280]     raise e.remove_dynamo_frames() from None  # see TORCHDYNAMO_VERBOSE=1\n",
      "W0809 09:24:43.203000 16676 .venv\\Lib\\site-packages\\torch\\_dynamo\\convert_frame.py:1280]     ^^^^^^^^^^^^^^^^^^^^^^^^^^^^^^^^^^^^^^^^\n",
      "W0809 09:24:43.203000 16676 .venv\\Lib\\site-packages\\torch\\_dynamo\\convert_frame.py:1280]   File \"D:\\PycharmProjects\\NVIDIA-Fundamentals-of-Deep-Learning\\.venv\\Lib\\site-packages\\torch\\_inductor\\compile_fx.py\", line 760, in _compile_fx_inner\n",
      "W0809 09:24:43.203000 16676 .venv\\Lib\\site-packages\\torch\\_dynamo\\convert_frame.py:1280]     raise InductorError(e, currentframe()).with_traceback(\n",
      "W0809 09:24:43.203000 16676 .venv\\Lib\\site-packages\\torch\\_dynamo\\convert_frame.py:1280]   File \"D:\\PycharmProjects\\NVIDIA-Fundamentals-of-Deep-Learning\\.venv\\Lib\\site-packages\\torch\\_inductor\\compile_fx.py\", line 745, in _compile_fx_inner\n",
      "W0809 09:24:43.203000 16676 .venv\\Lib\\site-packages\\torch\\_dynamo\\convert_frame.py:1280]     mb_compiled_graph = fx_codegen_and_compile(\n",
      "W0809 09:24:43.203000 16676 .venv\\Lib\\site-packages\\torch\\_dynamo\\convert_frame.py:1280]                         ^^^^^^^^^^^^^^^^^^^^^^^\n",
      "W0809 09:24:43.203000 16676 .venv\\Lib\\site-packages\\torch\\_dynamo\\convert_frame.py:1280]   File \"D:\\PycharmProjects\\NVIDIA-Fundamentals-of-Deep-Learning\\.venv\\Lib\\site-packages\\torch\\_inductor\\compile_fx.py\", line 1295, in fx_codegen_and_compile\n",
      "W0809 09:24:43.203000 16676 .venv\\Lib\\site-packages\\torch\\_dynamo\\convert_frame.py:1280]     return scheme.codegen_and_compile(gm, example_inputs, inputs_to_check, graph_kwargs)\n",
      "W0809 09:24:43.203000 16676 .venv\\Lib\\site-packages\\torch\\_dynamo\\convert_frame.py:1280]            ^^^^^^^^^^^^^^^^^^^^^^^^^^^^^^^^^^^^^^^^^^^^^^^^^^^^^^^^^^^^^^^^^^^^^^^^^^^^^\n",
      "W0809 09:24:43.203000 16676 .venv\\Lib\\site-packages\\torch\\_dynamo\\convert_frame.py:1280]   File \"D:\\PycharmProjects\\NVIDIA-Fundamentals-of-Deep-Learning\\.venv\\Lib\\site-packages\\torch\\_inductor\\compile_fx.py\", line 1197, in codegen_and_compile\n",
      "W0809 09:24:43.203000 16676 .venv\\Lib\\site-packages\\torch\\_dynamo\\convert_frame.py:1280]     compiled_fn = graph.compile_to_module().call\n",
      "W0809 09:24:43.203000 16676 .venv\\Lib\\site-packages\\torch\\_dynamo\\convert_frame.py:1280]                   ^^^^^^^^^^^^^^^^^^^^^^^^^\n",
      "W0809 09:24:43.203000 16676 .venv\\Lib\\site-packages\\torch\\_dynamo\\convert_frame.py:1280]   File \"D:\\PycharmProjects\\NVIDIA-Fundamentals-of-Deep-Learning\\.venv\\Lib\\site-packages\\torch\\_inductor\\graph.py\", line 2083, in compile_to_module\n",
      "W0809 09:24:43.203000 16676 .venv\\Lib\\site-packages\\torch\\_dynamo\\convert_frame.py:1280]     return self._compile_to_module()\n",
      "W0809 09:24:43.203000 16676 .venv\\Lib\\site-packages\\torch\\_dynamo\\convert_frame.py:1280]            ^^^^^^^^^^^^^^^^^^^^^^^^^\n",
      "W0809 09:24:43.203000 16676 .venv\\Lib\\site-packages\\torch\\_dynamo\\convert_frame.py:1280]   File \"D:\\PycharmProjects\\NVIDIA-Fundamentals-of-Deep-Learning\\.venv\\Lib\\site-packages\\torch\\_inductor\\graph.py\", line 2091, in _compile_to_module\n",
      "W0809 09:24:43.203000 16676 .venv\\Lib\\site-packages\\torch\\_dynamo\\convert_frame.py:1280]     self.codegen_with_cpp_wrapper() if self.cpp_wrapper else self.codegen()\n",
      "W0809 09:24:43.203000 16676 .venv\\Lib\\site-packages\\torch\\_dynamo\\convert_frame.py:1280]                                                              ^^^^^^^^^^^^^^\n",
      "W0809 09:24:43.203000 16676 .venv\\Lib\\site-packages\\torch\\_dynamo\\convert_frame.py:1280]   File \"D:\\PycharmProjects\\NVIDIA-Fundamentals-of-Deep-Learning\\.venv\\Lib\\site-packages\\torch\\_inductor\\graph.py\", line 2002, in codegen\n",
      "W0809 09:24:43.203000 16676 .venv\\Lib\\site-packages\\torch\\_dynamo\\convert_frame.py:1280]     self.scheduler.codegen()\n",
      "W0809 09:24:43.203000 16676 .venv\\Lib\\site-packages\\torch\\_dynamo\\convert_frame.py:1280]   File \"D:\\PycharmProjects\\NVIDIA-Fundamentals-of-Deep-Learning\\.venv\\Lib\\site-packages\\torch\\_inductor\\scheduler.py\", line 4135, in codegen\n",
      "W0809 09:24:43.203000 16676 .venv\\Lib\\site-packages\\torch\\_dynamo\\convert_frame.py:1280]     else self._codegen(self.nodes)\n",
      "W0809 09:24:43.203000 16676 .venv\\Lib\\site-packages\\torch\\_dynamo\\convert_frame.py:1280]          ^^^^^^^^^^^^^^^^^^^^^^^^^\n",
      "W0809 09:24:43.203000 16676 .venv\\Lib\\site-packages\\torch\\_dynamo\\convert_frame.py:1280]   File \"D:\\PycharmProjects\\NVIDIA-Fundamentals-of-Deep-Learning\\.venv\\Lib\\site-packages\\torch\\_inductor\\scheduler.py\", line 4264, in _codegen\n",
      "W0809 09:24:43.203000 16676 .venv\\Lib\\site-packages\\torch\\_dynamo\\convert_frame.py:1280]     self.get_backend(device).codegen_node(node)\n",
      "W0809 09:24:43.203000 16676 .venv\\Lib\\site-packages\\torch\\_dynamo\\convert_frame.py:1280]   File \"D:\\PycharmProjects\\NVIDIA-Fundamentals-of-Deep-Learning\\.venv\\Lib\\site-packages\\torch\\_inductor\\codegen\\cpp.py\", line 4986, in codegen_node\n",
      "W0809 09:24:43.203000 16676 .venv\\Lib\\site-packages\\torch\\_dynamo\\convert_frame.py:1280]     cpp_kernel_proxy = CppKernelProxy(kernel_group)\n",
      "W0809 09:24:43.203000 16676 .venv\\Lib\\site-packages\\torch\\_dynamo\\convert_frame.py:1280]                        ^^^^^^^^^^^^^^^^^^^^^^^^^^^^\n",
      "W0809 09:24:43.203000 16676 .venv\\Lib\\site-packages\\torch\\_dynamo\\convert_frame.py:1280]   File \"D:\\PycharmProjects\\NVIDIA-Fundamentals-of-Deep-Learning\\.venv\\Lib\\site-packages\\torch\\_inductor\\codegen\\cpp.py\", line 3734, in __init__\n",
      "W0809 09:24:43.203000 16676 .venv\\Lib\\site-packages\\torch\\_dynamo\\convert_frame.py:1280]     self.picked_vec_isa: cpu_vec_isa.VecISA = cpu_vec_isa.pick_vec_isa()\n",
      "W0809 09:24:43.203000 16676 .venv\\Lib\\site-packages\\torch\\_dynamo\\convert_frame.py:1280]                                               ^^^^^^^^^^^^^^^^^^^^^^^^^^\n",
      "W0809 09:24:43.203000 16676 .venv\\Lib\\site-packages\\torch\\_dynamo\\convert_frame.py:1280]   File \"D:\\PycharmProjects\\NVIDIA-Fundamentals-of-Deep-Learning\\.venv\\Lib\\site-packages\\torch\\_inductor\\cpu_vec_isa.py\", line 418, in pick_vec_isa\n",
      "W0809 09:24:43.203000 16676 .venv\\Lib\\site-packages\\torch\\_dynamo\\convert_frame.py:1280]     _valid_vec_isa_list: list[VecISA] = valid_vec_isa_list()\n",
      "W0809 09:24:43.203000 16676 .venv\\Lib\\site-packages\\torch\\_dynamo\\convert_frame.py:1280]                                         ^^^^^^^^^^^^^^^^^^^^\n",
      "W0809 09:24:43.203000 16676 .venv\\Lib\\site-packages\\torch\\_dynamo\\convert_frame.py:1280]   File \"D:\\PycharmProjects\\NVIDIA-Fundamentals-of-Deep-Learning\\.venv\\Lib\\site-packages\\torch\\_inductor\\cpu_vec_isa.py\", line 405, in valid_vec_isa_list\n",
      "W0809 09:24:43.203000 16676 .venv\\Lib\\site-packages\\torch\\_dynamo\\convert_frame.py:1280]     isa_list.extend(\n",
      "W0809 09:24:43.203000 16676 .venv\\Lib\\site-packages\\torch\\_dynamo\\convert_frame.py:1280]   File \"D:\\PycharmProjects\\NVIDIA-Fundamentals-of-Deep-Learning\\.venv\\Lib\\site-packages\\torch\\_inductor\\cpu_vec_isa.py\", line 408, in <genexpr>\n",
      "W0809 09:24:43.203000 16676 .venv\\Lib\\site-packages\\torch\\_dynamo\\convert_frame.py:1280]     if all(flag in _cpu_supported_x86_isa for flag in str(isa).split()) and isa\n",
      "W0809 09:24:43.203000 16676 .venv\\Lib\\site-packages\\torch\\_dynamo\\convert_frame.py:1280]                                                                             ^^^\n",
      "W0809 09:24:43.203000 16676 .venv\\Lib\\site-packages\\torch\\_dynamo\\convert_frame.py:1280]   File \"D:\\PycharmProjects\\NVIDIA-Fundamentals-of-Deep-Learning\\.venv\\Lib\\site-packages\\torch\\_inductor\\cpu_vec_isa.py\", line 142, in __bool__\n",
      "W0809 09:24:43.203000 16676 .venv\\Lib\\site-packages\\torch\\_dynamo\\convert_frame.py:1280]     return self.__bool__impl(config.cpp.vec_isa_ok)\n",
      "W0809 09:24:43.203000 16676 .venv\\Lib\\site-packages\\torch\\_dynamo\\convert_frame.py:1280]            ^^^^^^^^^^^^^^^^^^^^^^^^^^^^^^^^^^^^^^^^\n",
      "W0809 09:24:43.203000 16676 .venv\\Lib\\site-packages\\torch\\_dynamo\\convert_frame.py:1280]   File \"D:\\PycharmProjects\\NVIDIA-Fundamentals-of-Deep-Learning\\.venv\\Lib\\site-packages\\torch\\_inductor\\cpu_vec_isa.py\", line 152, in __bool__impl\n",
      "W0809 09:24:43.203000 16676 .venv\\Lib\\site-packages\\torch\\_dynamo\\convert_frame.py:1280]     return self.check_build(VecISA._avx_code)\n",
      "W0809 09:24:43.203000 16676 .venv\\Lib\\site-packages\\torch\\_dynamo\\convert_frame.py:1280]            ^^^^^^^^^^^^^^^^^^^^^^^^^^^^^^^^^^\n",
      "W0809 09:24:43.203000 16676 .venv\\Lib\\site-packages\\torch\\_dynamo\\convert_frame.py:1280]   File \"D:\\PycharmProjects\\NVIDIA-Fundamentals-of-Deep-Learning\\.venv\\Lib\\site-packages\\torch\\_inductor\\cpu_vec_isa.py\", line 102, in check_build\n",
      "W0809 09:24:43.203000 16676 .venv\\Lib\\site-packages\\torch\\_dynamo\\convert_frame.py:1280]     extra=_get_isa_dry_compile_fingerprint(self._arch_flags),\n",
      "W0809 09:24:43.203000 16676 .venv\\Lib\\site-packages\\torch\\_dynamo\\convert_frame.py:1280]           ^^^^^^^^^^^^^^^^^^^^^^^^^^^^^^^^^^^^^^^^^^^^^^^^^^\n",
      "W0809 09:24:43.203000 16676 .venv\\Lib\\site-packages\\torch\\_dynamo\\convert_frame.py:1280]   File \"D:\\PycharmProjects\\NVIDIA-Fundamentals-of-Deep-Learning\\.venv\\Lib\\site-packages\\torch\\_inductor\\cpu_vec_isa.py\", line 28, in _get_isa_dry_compile_fingerprint\n",
      "W0809 09:24:43.203000 16676 .venv\\Lib\\site-packages\\torch\\_dynamo\\convert_frame.py:1280]     compiler_info = get_compiler_version_info(get_cpp_compiler())\n",
      "W0809 09:24:43.203000 16676 .venv\\Lib\\site-packages\\torch\\_dynamo\\convert_frame.py:1280]                                               ^^^^^^^^^^^^^^^^^^\n",
      "W0809 09:24:43.203000 16676 .venv\\Lib\\site-packages\\torch\\_dynamo\\convert_frame.py:1280]   File \"D:\\PycharmProjects\\NVIDIA-Fundamentals-of-Deep-Learning\\.venv\\Lib\\site-packages\\torch\\_inductor\\cpp_builder.py\", line 148, in get_cpp_compiler\n",
      "W0809 09:24:43.203000 16676 .venv\\Lib\\site-packages\\torch\\_dynamo\\convert_frame.py:1280]     check_compiler_exist_windows(compiler)\n",
      "W0809 09:24:43.203000 16676 .venv\\Lib\\site-packages\\torch\\_dynamo\\convert_frame.py:1280]   File \"D:\\PycharmProjects\\NVIDIA-Fundamentals-of-Deep-Learning\\.venv\\Lib\\site-packages\\torch\\_inductor\\cpp_builder.py\", line 139, in check_compiler_exist_windows\n",
      "W0809 09:24:43.203000 16676 .venv\\Lib\\site-packages\\torch\\_dynamo\\convert_frame.py:1280]     raise RuntimeError(f\"Compiler: {compiler} is not found.\") from exc\n",
      "W0809 09:24:43.203000 16676 .venv\\Lib\\site-packages\\torch\\_dynamo\\convert_frame.py:1280] torch._inductor.exc.InductorError: RuntimeError: Compiler: cl is not found.\n",
      "W0809 09:24:43.203000 16676 .venv\\Lib\\site-packages\\torch\\_dynamo\\convert_frame.py:1280] \n",
      "W0809 09:24:43.203000 16676 .venv\\Lib\\site-packages\\torch\\_dynamo\\convert_frame.py:1280] Set TORCHDYNAMO_VERBOSE=1 for the internal stack trace (please do this especially if you're reporting a bug to PyTorch). For even more developer context, set TORCH_LOGS=\"+dynamo\"\n",
      "W0809 09:24:43.203000 16676 .venv\\Lib\\site-packages\\torch\\_dynamo\\convert_frame.py:1280] \n"
     ]
    },
    {
     "name": "stdout",
     "output_type": "stream",
     "text": [
      "Train - Loss: 675.3555 Accuracy: 0.7424\n",
      "Valid - Loss: 75.6869 Accuracy: 0.8813\n",
      "Epoch: 1\n",
      "Train - Loss: 108.2004 Accuracy: 0.9594\n",
      "Valid - Loss: 24.9202 Accuracy: 0.9707\n",
      "Epoch: 2\n",
      "Train - Loss: 57.3018 Accuracy: 0.9787\n",
      "Valid - Loss: 20.8699 Accuracy: 0.9656\n",
      "Epoch: 3\n",
      "Train - Loss: 43.0117 Accuracy: 0.9844\n",
      "Valid - Loss: 39.6900 Accuracy: 0.9334\n",
      "Epoch: 4\n",
      "Train - Loss: 35.9670 Accuracy: 0.9857\n",
      "Valid - Loss: 31.7581 Accuracy: 0.9596\n",
      "Epoch: 5\n",
      "Train - Loss: 30.6269 Accuracy: 0.9886\n",
      "Valid - Loss: 21.9113 Accuracy: 0.9633\n",
      "Epoch: 6\n",
      "Train - Loss: 25.8194 Accuracy: 0.9907\n",
      "Valid - Loss: 19.8029 Accuracy: 0.9700\n",
      "Epoch: 7\n",
      "Train - Loss: 23.0866 Accuracy: 0.9912\n",
      "Valid - Loss: 11.9441 Accuracy: 0.9851\n",
      "Epoch: 8\n",
      "Train - Loss: 18.7527 Accuracy: 0.9930\n",
      "Valid - Loss: 27.1168 Accuracy: 0.9749\n",
      "Epoch: 9\n",
      "Train - Loss: 22.0731 Accuracy: 0.9908\n",
      "Valid - Loss: 12.2645 Accuracy: 0.9856\n",
      "Epoch: 10\n",
      "Train - Loss: 15.1542 Accuracy: 0.9943\n",
      "Valid - Loss: 7.7492 Accuracy: 0.9868\n",
      "Epoch: 11\n",
      "Train - Loss: 18.5210 Accuracy: 0.9932\n",
      "Valid - Loss: 14.3830 Accuracy: 0.9791\n",
      "Epoch: 12\n",
      "Train - Loss: 14.7920 Accuracy: 0.9947\n",
      "Valid - Loss: 8.5657 Accuracy: 0.9792\n",
      "Epoch: 13\n",
      "Train - Loss: 16.0107 Accuracy: 0.9939\n",
      "Valid - Loss: 4.7911 Accuracy: 0.9926\n",
      "Epoch: 14\n",
      "Train - Loss: 14.6157 Accuracy: 0.9945\n",
      "Valid - Loss: 9.3224 Accuracy: 0.9879\n",
      "Epoch: 15\n",
      "Train - Loss: 15.5853 Accuracy: 0.9936\n",
      "Valid - Loss: 13.3465 Accuracy: 0.9844\n",
      "Epoch: 16\n",
      "Train - Loss: 10.7160 Accuracy: 0.9960\n",
      "Valid - Loss: 12.3198 Accuracy: 0.9845\n",
      "Epoch: 17\n",
      "Train - Loss: 12.3166 Accuracy: 0.9950\n",
      "Valid - Loss: 5.8543 Accuracy: 0.9908\n",
      "Epoch: 18\n",
      "Train - Loss: 10.7841 Accuracy: 0.9962\n",
      "Valid - Loss: 2.5091 Accuracy: 0.9962\n",
      "Epoch: 19\n",
      "Train - Loss: 11.7602 Accuracy: 0.9956\n",
      "Valid - Loss: 20.0680 Accuracy: 0.9764\n"
     ]
    }
   ],
   "execution_count": 49
  },
  {
   "cell_type": "markdown",
   "metadata": {
    "id": "h0WoN84J3Y-l"
   },
   "source": [
    "## Discussion of Results"
   ]
  },
  {
   "cell_type": "markdown",
   "metadata": {
    "id": "-EPTunxK3Y-l"
   },
   "source": [
    "You will notice that the validation accuracy is higher, and more consistent. This means that our model is no longer overfitting in the way it was; it generalizes better, making better predictions on new data.\n",
    "\n",
    "The training accuracy may be lower, and that's ok. Compared to before, the model is being exposed to a much larger variety of data."
   ]
  },
  {
   "cell_type": "markdown",
   "metadata": {
    "id": "npYY9cvA3Y-l"
   },
   "source": [
    "## Saving the Model"
   ]
  },
  {
   "cell_type": "markdown",
   "metadata": {
    "id": "EW_TgWkN3Y-l"
   },
   "source": [
    "Now that we have a well-trained model, we will want to deploy it to perform inference on new images.\n",
    "\n",
    "It is common, once we have a trained model that we are happy with to save it to disk. PyTorch has [multiple ways](https://pytorch.org/tutorials/beginner/saving_loading_models.html) to do this, but for now, we will use `torch.save`. We will also need to save the code for our `MyConvBlock` custom module, which we did in [utils.py](./utils.py). In the next notebook, we'll load the model and use it to read new sign language pictures.\n",
    "\n",
    "PyTorch cannot save a compiled model ([see this post](https://discuss.pytorch.org/t/how-to-save-load-a-model-with-torch-compile/179739)), so we will instead "
   ]
  },
  {
   "cell_type": "code",
   "metadata": {
    "executionInfo": {
     "elapsed": 326,
     "status": "ok",
     "timestamp": 1715241533765,
     "user": {
      "displayName": "Danielle Detering US",
      "userId": "15432464718872067879"
     },
     "user_tz": 420
    },
    "id": "snAS8LalsMv4",
    "ExecuteTime": {
     "end_time": "2025-08-09T02:40:09.201984Z",
     "start_time": "2025-08-09T02:40:08.948424Z"
    }
   },
   "source": [
    "torch.save(base_model, 'model.pth')"
   ],
   "outputs": [
    {
     "ename": "NameError",
     "evalue": "name 'torch' is not defined",
     "output_type": "error",
     "traceback": [
      "\u001B[31m---------------------------------------------------------------------------\u001B[39m",
      "\u001B[31mNameError\u001B[39m                                 Traceback (most recent call last)",
      "\u001B[36mCell\u001B[39m\u001B[36m \u001B[39m\u001B[32mIn[1]\u001B[39m\u001B[32m, line 1\u001B[39m\n\u001B[32m----> \u001B[39m\u001B[32m1\u001B[39m \u001B[43mtorch\u001B[49m.save(base_model, \u001B[33m'\u001B[39m\u001B[33mmodel.pth\u001B[39m\u001B[33m'\u001B[39m)\n",
      "\u001B[31mNameError\u001B[39m: name 'torch' is not defined"
     ]
    }
   ],
   "execution_count": 1
  },
  {
   "cell_type": "markdown",
   "metadata": {
    "id": "hfePFALr3Y-l"
   },
   "source": [
    "## Summary"
   ]
  },
  {
   "cell_type": "markdown",
   "metadata": {
    "id": "7fo5z3M03Y-l"
   },
   "source": [
    "In this section, you used TorchVision to augment a dataset. This resulted in a trained model with less overfitting and excellent validation image results."
   ]
  },
  {
   "cell_type": "markdown",
   "metadata": {
    "id": "TgDmGUB93Y-l"
   },
   "source": [
    "### Clear the Memory\n",
    "Before moving on, please execute the following cell to clear up the GPU memory."
   ]
  },
  {
   "cell_type": "code",
   "metadata": {
    "id": "R6EXCtGr3Y-l",
    "ExecuteTime": {
     "end_time": "2025-08-09T02:39:13.535662Z",
     "start_time": "2025-08-09T02:39:13.529823Z"
    }
   },
   "source": [
    "import IPython\n",
    "app = IPython.Application.instance()\n",
    "app.kernel.do_shutdown(True)"
   ],
   "outputs": [
    {
     "data": {
      "text/plain": [
       "{'status': 'ok', 'restart': True}"
      ]
     },
     "execution_count": 51,
     "metadata": {},
     "output_type": "execute_result"
    }
   ],
   "execution_count": 51
  },
  {
   "cell_type": "markdown",
   "metadata": {
    "id": "8DIV9ZNW3Y-l"
   },
   "source": [
    "## Next"
   ]
  },
  {
   "cell_type": "markdown",
   "metadata": {
    "id": "E4iefhaq3Y-l"
   },
   "source": [
    "Now that you have a well-trained model saved to disk, you will, in the next section, deploy it to make predictions on not-yet-seen images.\n",
    "\n",
    "Please continue to the next notebook: [*Model Predictions*](04b_asl_predictions.ipynb)."
   ]
  },
  {
   "cell_type": "markdown",
   "metadata": {
    "id": "j3I_B1M63Y-l"
   },
   "source": [
    "<center><a href=\"https://www.nvidia.com/dli\"> <img src=\"images/DLI_Header.png\" alt=\"Header\" style=\"width: 400px;\"/> </a></center>"
   ]
  }
 ],
 "metadata": {
  "accelerator": "GPU",
  "colab": {
   "gpuType": "T4",
   "provenance": []
  },
  "kernelspec": {
   "display_name": "Python 3 (ipykernel)",
   "language": "python",
   "name": "python3"
  },
  "language_info": {
   "codemirror_mode": {
    "name": "ipython",
    "version": 3
   },
   "file_extension": ".py",
   "mimetype": "text/x-python",
   "name": "python",
   "nbconvert_exporter": "python",
   "pygments_lexer": "ipython3",
   "version": "3.10.12"
  }
 },
 "nbformat": 4,
 "nbformat_minor": 4
}
